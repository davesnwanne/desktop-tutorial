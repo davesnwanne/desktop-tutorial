{
 "cells": [
  {
   "cell_type": "code",
   "execution_count": 4,
   "id": "fa7b5b14",
   "metadata": {},
   "outputs": [
    {
     "data": {
      "text/plain": [
       "[1, 2, 3, 4]"
      ]
     },
     "execution_count": 4,
     "metadata": {},
     "output_type": "execute_result"
    }
   ],
   "source": [
    "X = [1,2,3,4]\n",
    "X"
   ]
  },
  {
   "cell_type": "code",
   "execution_count": null,
   "id": "e5654a4f",
   "metadata": {},
   "outputs": [],
   "source": []
  },
  {
   "cell_type": "markdown",
   "id": "b6b7907e",
   "metadata": {},
   "source": [
    "HHHHHHH\n"
   ]
  },
  {
   "cell_type": "code",
   "execution_count": 5,
   "id": "367bee55",
   "metadata": {},
   "outputs": [],
   "source": [
    "X = 5"
   ]
  },
  {
   "cell_type": "code",
   "execution_count": 7,
   "id": "4b5feece",
   "metadata": {},
   "outputs": [
    {
     "data": {
      "text/plain": [
       "5"
      ]
     },
     "execution_count": 7,
     "metadata": {},
     "output_type": "execute_result"
    }
   ],
   "source": [
    "X"
   ]
  },
  {
   "cell_type": "code",
   "execution_count": 8,
   "id": "44517254",
   "metadata": {},
   "outputs": [],
   "source": [
    "Y = 8"
   ]
  },
  {
   "cell_type": "code",
   "execution_count": 10,
   "id": "4905a55c",
   "metadata": {},
   "outputs": [
    {
     "name": "stdout",
     "output_type": "stream",
     "text": [
      "8\n"
     ]
    }
   ],
   "source": [
    "print(Y)"
   ]
  },
  {
   "cell_type": "code",
   "execution_count": 11,
   "id": "e400af1c",
   "metadata": {},
   "outputs": [],
   "source": [
    "X,Y=(1,2)"
   ]
  },
  {
   "cell_type": "code",
   "execution_count": 12,
   "id": "ec396960",
   "metadata": {},
   "outputs": [
    {
     "data": {
      "text/plain": [
       "'george'"
      ]
     },
     "execution_count": 12,
     "metadata": {},
     "output_type": "execute_result"
    }
   ],
   "source": [
    "'george'"
   ]
  },
  {
   "cell_type": "code",
   "execution_count": 14,
   "id": "adde2e4a",
   "metadata": {},
   "outputs": [
    {
     "name": "stdout",
     "output_type": "stream",
     "text": [
      "george\n"
     ]
    }
   ],
   "source": [
    "print(\"george\")"
   ]
  },
  {
   "cell_type": "code",
   "execution_count": 19,
   "id": "fadf55b0",
   "metadata": {},
   "outputs": [
    {
     "name": "stdout",
     "output_type": "stream",
     "text": [
      "10  dollars\n"
     ]
    }
   ],
   "source": [
    "y = 10\n",
    "print (str(y) +\" \" ,\"dollars\")"
   ]
  },
  {
   "cell_type": "code",
   "execution_count": null,
   "id": "b88defc3",
   "metadata": {},
   "outputs": [],
   "source": []
  }
 ],
 "metadata": {
  "kernelspec": {
   "display_name": "Python 3",
   "language": "python",
   "name": "python3"
  },
  "language_info": {
   "codemirror_mode": {
    "name": "ipython",
    "version": 3
   },
   "file_extension": ".py",
   "mimetype": "text/x-python",
   "name": "python",
   "nbconvert_exporter": "python",
   "pygments_lexer": "ipython3",
   "version": "3.8.8"
  }
 },
 "nbformat": 4,
 "nbformat_minor": 5
}
