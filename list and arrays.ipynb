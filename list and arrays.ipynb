{
 "cells": [
  {
   "cell_type": "code",
   "execution_count": 19,
   "id": "daf4a431",
   "metadata": {},
   "outputs": [],
   "source": [
    "fruits = [\"mango\",\"apple\",\"banana\"]\n",
    "\n",
    "Numbers = [12, 13, 14, 17, 18]\n",
    "\n",
    "score = [2,3,4,5,6]"
   ]
  },
  {
   "cell_type": "code",
   "execution_count": 5,
   "id": "1bce284e",
   "metadata": {},
   "outputs": [
    {
     "data": {
      "text/plain": [
       "[12, 13, 14, 17, 18, 2, 3, 4, 5, 6]"
      ]
     },
     "execution_count": 5,
     "metadata": {},
     "output_type": "execute_result"
    }
   ],
   "source": [
    "Numbers + score"
   ]
  },
  {
   "cell_type": "code",
   "execution_count": 6,
   "id": "0b01b724",
   "metadata": {},
   "outputs": [
    {
     "data": {
      "text/plain": [
       "74"
      ]
     },
     "execution_count": 6,
     "metadata": {},
     "output_type": "execute_result"
    }
   ],
   "source": [
    "sum(Numbers)"
   ]
  },
  {
   "cell_type": "code",
   "execution_count": 7,
   "id": "20d2bbeb",
   "metadata": {},
   "outputs": [
    {
     "data": {
      "text/plain": [
       "20"
      ]
     },
     "execution_count": 7,
     "metadata": {},
     "output_type": "execute_result"
    }
   ],
   "source": [
    "sum(score)"
   ]
  },
  {
   "cell_type": "code",
   "execution_count": 8,
   "id": "84069c6c",
   "metadata": {},
   "outputs": [
    {
     "data": {
      "text/plain": [
       "94"
      ]
     },
     "execution_count": 8,
     "metadata": {},
     "output_type": "execute_result"
    }
   ],
   "source": [
    "sum(Numbers) + sum(score)"
   ]
  },
  {
   "cell_type": "code",
   "execution_count": 12,
   "id": "91a2c84c",
   "metadata": {},
   "outputs": [
    {
     "ename": "TypeError",
     "evalue": "can't multiply sequence by non-int of type 'list'",
     "output_type": "error",
     "traceback": [
      "\u001b[1;31m---------------------------------------------------------------------------\u001b[0m",
      "\u001b[1;31mTypeError\u001b[0m                                 Traceback (most recent call last)",
      "\u001b[1;32m<ipython-input-12-da6083ae5602>\u001b[0m in \u001b[0;36m<module>\u001b[1;34m\u001b[0m\n\u001b[0;32m      1\u001b[0m \u001b[1;31m#complex operations cannot be performed on a list e.g multiplication, mean, std, median etc\u001b[0m\u001b[1;33m\u001b[0m\u001b[1;33m\u001b[0m\u001b[1;33m\u001b[0m\u001b[0m\n\u001b[0;32m      2\u001b[0m \u001b[1;33m\u001b[0m\u001b[0m\n\u001b[1;32m----> 3\u001b[1;33m \u001b[0mNumbers\u001b[0m\u001b[1;33m*\u001b[0m\u001b[0mscore\u001b[0m\u001b[1;33m\u001b[0m\u001b[1;33m\u001b[0m\u001b[0m\n\u001b[0m",
      "\u001b[1;31mTypeError\u001b[0m: can't multiply sequence by non-int of type 'list'"
     ]
    }
   ],
   "source": [
    "#complex operations cannot be performed on a list e.g multiplication, mean, std, median etc\n",
    "\n",
    "Numbers*score"
   ]
  },
  {
   "cell_type": "markdown",
   "id": "36bd5e09",
   "metadata": {},
   "source": [
    " the difference between list and array is that we can perdform complex mathematical opperations on an array\n",
    " array is a function that is used to convert a sequence to an array\n",
    " \n",
    " array must have desame number of values.\n",
    " numpy is called numericalpython and used to perform numerical opertaions."
   ]
  },
  {
   "cell_type": "code",
   "execution_count": 21,
   "id": "e4426c3b",
   "metadata": {},
   "outputs": [
    {
     "data": {
      "text/plain": [
       "array([12, 13, 14, 17, 18])"
      ]
     },
     "execution_count": 21,
     "metadata": {},
     "output_type": "execute_result"
    }
   ],
   "source": [
    "#convert the list to an array\n",
    "import numpy as pd\n",
    "\n",
    "numpy.array(Numbers)"
   ]
  },
  {
   "cell_type": "code",
   "execution_count": 25,
   "id": "26caae21",
   "metadata": {},
   "outputs": [
    {
     "data": {
      "text/plain": [
       "array([ 24,  39,  56,  85, 108])"
      ]
     },
     "execution_count": 25,
     "metadata": {},
     "output_type": "execute_result"
    }
   ],
   "source": [
    "numpy.array(Numbers)* numpy.array(score)"
   ]
  },
  {
   "cell_type": "code",
   "execution_count": 17,
   "id": "28da522c",
   "metadata": {},
   "outputs": [
    {
     "data": {
      "text/plain": [
       "array([ 24,  39,  56,  85, 108])"
      ]
     },
     "execution_count": 17,
     "metadata": {},
     "output_type": "execute_result"
    }
   ],
   "source": [
    "#variable = value\n",
    "\n",
    "c= numpy.array(Numbers)\n",
    "d= numpy.array(score)\n",
    "\n",
    "c*d"
   ]
  },
  {
   "cell_type": "code",
   "execution_count": 31,
   "id": "30045f4f",
   "metadata": {},
   "outputs": [],
   "source": [
    "fruitsville = [1,2,3,20,100]"
   ]
  },
  {
   "cell_type": "code",
   "execution_count": 32,
   "id": "18ec0a05",
   "metadata": {},
   "outputs": [
    {
     "data": {
      "text/plain": [
       "array([  1,   2,   3,  20, 100])"
      ]
     },
     "execution_count": 32,
     "metadata": {},
     "output_type": "execute_result"
    }
   ],
   "source": [
    "numpy.array(fruitsville)"
   ]
  },
  {
   "cell_type": "code",
   "execution_count": 33,
   "id": "472968e2",
   "metadata": {},
   "outputs": [],
   "source": [
    "fruitsville1 = [\"gabbs\",\"koka\",\"dbs\",\"konwea\",\"specialist\"]"
   ]
  },
  {
   "cell_type": "code",
   "execution_count": 35,
   "id": "a475f9bf",
   "metadata": {},
   "outputs": [
    {
     "data": {
      "text/plain": [
       "array(['gabbs', 'koka', 'dbs', 'konwea', 'specialist'], dtype='<U10')"
      ]
     },
     "execution_count": 35,
     "metadata": {},
     "output_type": "execute_result"
    }
   ],
   "source": [
    "numpy.array(fruitsville1)"
   ]
  },
  {
   "cell_type": "markdown",
   "id": "f8a2ca45",
   "metadata": {},
   "source": [
    "# markdown"
   ]
  },
  {
   "cell_type": "code",
   "execution_count": null,
   "id": "5c8ce42f",
   "metadata": {},
   "outputs": [],
   "source": [
    "# to check the number of dimension we use ndim (to check the amount of arrays)"
   ]
  },
  {
   "cell_type": "code",
   "execution_count": 36,
   "id": "956e36f3",
   "metadata": {},
   "outputs": [
    {
     "data": {
      "text/plain": [
       "1"
      ]
     },
     "execution_count": 36,
     "metadata": {},
     "output_type": "execute_result"
    }
   ],
   "source": [
    "c.ndim"
   ]
  },
  {
   "cell_type": "code",
   "execution_count": 37,
   "id": "1b77476d",
   "metadata": {},
   "outputs": [
    {
     "data": {
      "text/plain": [
       "array([12, 13, 14, 17, 18])"
      ]
     },
     "execution_count": 37,
     "metadata": {},
     "output_type": "execute_result"
    }
   ],
   "source": [
    "c"
   ]
  },
  {
   "cell_type": "code",
   "execution_count": 40,
   "id": "8e49e778",
   "metadata": {},
   "outputs": [],
   "source": [
    "counts = numpy.array([[1,2,3,4],[5,6,7,8]])"
   ]
  },
  {
   "cell_type": "code",
   "execution_count": 42,
   "id": "57beb85a",
   "metadata": {},
   "outputs": [
    {
     "name": "stdout",
     "output_type": "stream",
     "text": [
      "[[1 2 3 4]\n",
      " [5 6 7 8]]\n"
     ]
    }
   ],
   "source": [
    "print(counts)"
   ]
  },
  {
   "cell_type": "code",
   "execution_count": 43,
   "id": "6ae05c21",
   "metadata": {},
   "outputs": [],
   "source": [
    "#1. create a list that contains the month of the yearthen convert the list to an array\n",
    "#2 create a user defined functioin that returns the month of the year"
   ]
  },
  {
   "cell_type": "code",
   "execution_count": 9,
   "id": "67a44416",
   "metadata": {},
   "outputs": [],
   "source": [
    "month=[\"jan\",\"feb\",\"mar\",\"apr\",\"may\",\"jun\",\"jul\",\"aug\",\"sep\",\"oct\",\"nov\",\"dec\"]\n"
   ]
  },
  {
   "cell_type": "code",
   "execution_count": 11,
   "id": "540508fd",
   "metadata": {},
   "outputs": [
    {
     "data": {
      "text/plain": [
       "array(['jan', 'feb', 'mar', 'apr', 'may', 'jun', 'jul', 'aug', 'sep',\n",
       "       'oct', 'nov', 'dec'], dtype='<U3')"
      ]
     },
     "execution_count": 11,
     "metadata": {},
     "output_type": "execute_result"
    }
   ],
   "source": [
    "import numpy\n",
    "numpy.array(month)"
   ]
  },
  {
   "cell_type": "code",
   "execution_count": 12,
   "id": "41979852",
   "metadata": {},
   "outputs": [],
   "source": [
    "y=numpy.array(month)"
   ]
  },
  {
   "cell_type": "code",
   "execution_count": 21,
   "id": "49137684",
   "metadata": {},
   "outputs": [
    {
     "data": {
      "text/plain": [
       "['jan',\n",
       " 'feb',\n",
       " 'mar',\n",
       " 'apr',\n",
       " 'may',\n",
       " 'jun',\n",
       " 'jul',\n",
       " 'aug',\n",
       " 'sep',\n",
       " 'oct',\n",
       " 'nov',\n",
       " 'dec']"
      ]
     },
     "execution_count": 21,
     "metadata": {},
     "output_type": "execute_result"
    }
   ],
   "source": [
    "def y():\n",
    "    return month\n",
    "y()"
   ]
  }
 ],
 "metadata": {
  "kernelspec": {
   "display_name": "Python 3",
   "language": "python",
   "name": "python3"
  },
  "language_info": {
   "codemirror_mode": {
    "name": "ipython",
    "version": 3
   },
   "file_extension": ".py",
   "mimetype": "text/x-python",
   "name": "python",
   "nbconvert_exporter": "python",
   "pygments_lexer": "ipython3",
   "version": "3.8.8"
  }
 },
 "nbformat": 4,
 "nbformat_minor": 5
}
