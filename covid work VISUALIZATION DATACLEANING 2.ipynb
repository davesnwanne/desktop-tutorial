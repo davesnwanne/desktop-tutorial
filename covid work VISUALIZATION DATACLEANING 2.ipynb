{
 "cells": [
  {
   "cell_type": "code",
   "execution_count": 1,
   "id": "0d1ec53b",
   "metadata": {},
   "outputs": [],
   "source": [
    "import pandas as pd\n",
    "cases=pd.read_csv(\"COVID-19 Cases-1.csv\")"
   ]
  },
  {
   "cell_type": "code",
   "execution_count": 2,
   "id": "664671ea",
   "metadata": {},
   "outputs": [
    {
     "data": {
      "text/html": [
       "<div>\n",
       "<style scoped>\n",
       "    .dataframe tbody tr th:only-of-type {\n",
       "        vertical-align: middle;\n",
       "    }\n",
       "\n",
       "    .dataframe tbody tr th {\n",
       "        vertical-align: top;\n",
       "    }\n",
       "\n",
       "    .dataframe thead th {\n",
       "        text-align: right;\n",
       "    }\n",
       "</style>\n",
       "<table border=\"1\" class=\"dataframe\">\n",
       "  <thead>\n",
       "    <tr style=\"text-align: right;\">\n",
       "      <th></th>\n",
       "      <th>Date</th>\n",
       "      <th>Country_Region</th>\n",
       "      <th>Province_State</th>\n",
       "      <th>Difference</th>\n",
       "      <th>Prep_Flow_Runtime</th>\n",
       "      <th>Latest_Date</th>\n",
       "      <th>Case_Type</th>\n",
       "      <th>Cases</th>\n",
       "      <th>Lat</th>\n",
       "      <th>Long</th>\n",
       "    </tr>\n",
       "  </thead>\n",
       "  <tbody>\n",
       "    <tr>\n",
       "      <th>0</th>\n",
       "      <td>3/9/2020</td>\n",
       "      <td>India</td>\n",
       "      <td>NaN</td>\n",
       "      <td>0</td>\n",
       "      <td>3/24/2020 9:39:03 AM</td>\n",
       "      <td>3/23/2020</td>\n",
       "      <td>Deaths</td>\n",
       "      <td>0</td>\n",
       "      <td>21.000000</td>\n",
       "      <td>78.000000</td>\n",
       "    </tr>\n",
       "    <tr>\n",
       "      <th>1</th>\n",
       "      <td>3/8/2020</td>\n",
       "      <td>India</td>\n",
       "      <td>NaN</td>\n",
       "      <td>0</td>\n",
       "      <td>3/24/2020 9:39:03 AM</td>\n",
       "      <td>3/23/2020</td>\n",
       "      <td>Deaths</td>\n",
       "      <td>0</td>\n",
       "      <td>21.000000</td>\n",
       "      <td>78.000000</td>\n",
       "    </tr>\n",
       "    <tr>\n",
       "      <th>2</th>\n",
       "      <td>3/7/2020</td>\n",
       "      <td>India</td>\n",
       "      <td>NaN</td>\n",
       "      <td>0</td>\n",
       "      <td>3/24/2020 9:39:03 AM</td>\n",
       "      <td>3/23/2020</td>\n",
       "      <td>Deaths</td>\n",
       "      <td>0</td>\n",
       "      <td>21.000000</td>\n",
       "      <td>78.000000</td>\n",
       "    </tr>\n",
       "    <tr>\n",
       "      <th>3</th>\n",
       "      <td>3/6/2020</td>\n",
       "      <td>India</td>\n",
       "      <td>NaN</td>\n",
       "      <td>0</td>\n",
       "      <td>3/24/2020 9:39:03 AM</td>\n",
       "      <td>3/23/2020</td>\n",
       "      <td>Deaths</td>\n",
       "      <td>0</td>\n",
       "      <td>21.000000</td>\n",
       "      <td>78.000000</td>\n",
       "    </tr>\n",
       "    <tr>\n",
       "      <th>4</th>\n",
       "      <td>3/5/2020</td>\n",
       "      <td>India</td>\n",
       "      <td>NaN</td>\n",
       "      <td>0</td>\n",
       "      <td>3/24/2020 9:39:03 AM</td>\n",
       "      <td>3/23/2020</td>\n",
       "      <td>Deaths</td>\n",
       "      <td>0</td>\n",
       "      <td>21.000000</td>\n",
       "      <td>78.000000</td>\n",
       "    </tr>\n",
       "    <tr>\n",
       "      <th>...</th>\n",
       "      <td>...</td>\n",
       "      <td>...</td>\n",
       "      <td>...</td>\n",
       "      <td>...</td>\n",
       "      <td>...</td>\n",
       "      <td>...</td>\n",
       "      <td>...</td>\n",
       "      <td>...</td>\n",
       "      <td>...</td>\n",
       "      <td>...</td>\n",
       "    </tr>\n",
       "    <tr>\n",
       "      <th>35497</th>\n",
       "      <td>1/27/2020</td>\n",
       "      <td>Syria</td>\n",
       "      <td>NaN</td>\n",
       "      <td>0</td>\n",
       "      <td>3/24/2020 9:39:03 AM</td>\n",
       "      <td>3/23/2020</td>\n",
       "      <td>Confirmed</td>\n",
       "      <td>0</td>\n",
       "      <td>34.802075</td>\n",
       "      <td>38.996815</td>\n",
       "    </tr>\n",
       "    <tr>\n",
       "      <th>35498</th>\n",
       "      <td>1/26/2020</td>\n",
       "      <td>Syria</td>\n",
       "      <td>NaN</td>\n",
       "      <td>0</td>\n",
       "      <td>3/24/2020 9:39:03 AM</td>\n",
       "      <td>3/23/2020</td>\n",
       "      <td>Confirmed</td>\n",
       "      <td>0</td>\n",
       "      <td>34.802075</td>\n",
       "      <td>38.996815</td>\n",
       "    </tr>\n",
       "    <tr>\n",
       "      <th>35499</th>\n",
       "      <td>1/25/2020</td>\n",
       "      <td>Syria</td>\n",
       "      <td>NaN</td>\n",
       "      <td>0</td>\n",
       "      <td>3/24/2020 9:39:03 AM</td>\n",
       "      <td>3/23/2020</td>\n",
       "      <td>Confirmed</td>\n",
       "      <td>0</td>\n",
       "      <td>34.802075</td>\n",
       "      <td>38.996815</td>\n",
       "    </tr>\n",
       "    <tr>\n",
       "      <th>35500</th>\n",
       "      <td>1/24/2020</td>\n",
       "      <td>Syria</td>\n",
       "      <td>NaN</td>\n",
       "      <td>0</td>\n",
       "      <td>3/24/2020 9:39:03 AM</td>\n",
       "      <td>3/23/2020</td>\n",
       "      <td>Confirmed</td>\n",
       "      <td>0</td>\n",
       "      <td>34.802075</td>\n",
       "      <td>38.996815</td>\n",
       "    </tr>\n",
       "    <tr>\n",
       "      <th>35501</th>\n",
       "      <td>1/23/2020</td>\n",
       "      <td>Syria</td>\n",
       "      <td>NaN</td>\n",
       "      <td>0</td>\n",
       "      <td>3/24/2020 9:39:03 AM</td>\n",
       "      <td>3/23/2020</td>\n",
       "      <td>Confirmed</td>\n",
       "      <td>0</td>\n",
       "      <td>34.802075</td>\n",
       "      <td>38.996815</td>\n",
       "    </tr>\n",
       "  </tbody>\n",
       "</table>\n",
       "<p>35502 rows × 10 columns</p>\n",
       "</div>"
      ],
      "text/plain": [
       "            Date Country_Region Province_State  Difference  \\\n",
       "0       3/9/2020          India            NaN           0   \n",
       "1       3/8/2020          India            NaN           0   \n",
       "2       3/7/2020          India            NaN           0   \n",
       "3       3/6/2020          India            NaN           0   \n",
       "4       3/5/2020          India            NaN           0   \n",
       "...          ...            ...            ...         ...   \n",
       "35497  1/27/2020          Syria            NaN           0   \n",
       "35498  1/26/2020          Syria            NaN           0   \n",
       "35499  1/25/2020          Syria            NaN           0   \n",
       "35500  1/24/2020          Syria            NaN           0   \n",
       "35501  1/23/2020          Syria            NaN           0   \n",
       "\n",
       "          Prep_Flow_Runtime Latest_Date  Case_Type  Cases        Lat  \\\n",
       "0      3/24/2020 9:39:03 AM   3/23/2020     Deaths      0  21.000000   \n",
       "1      3/24/2020 9:39:03 AM   3/23/2020     Deaths      0  21.000000   \n",
       "2      3/24/2020 9:39:03 AM   3/23/2020     Deaths      0  21.000000   \n",
       "3      3/24/2020 9:39:03 AM   3/23/2020     Deaths      0  21.000000   \n",
       "4      3/24/2020 9:39:03 AM   3/23/2020     Deaths      0  21.000000   \n",
       "...                     ...         ...        ...    ...        ...   \n",
       "35497  3/24/2020 9:39:03 AM   3/23/2020  Confirmed      0  34.802075   \n",
       "35498  3/24/2020 9:39:03 AM   3/23/2020  Confirmed      0  34.802075   \n",
       "35499  3/24/2020 9:39:03 AM   3/23/2020  Confirmed      0  34.802075   \n",
       "35500  3/24/2020 9:39:03 AM   3/23/2020  Confirmed      0  34.802075   \n",
       "35501  3/24/2020 9:39:03 AM   3/23/2020  Confirmed      0  34.802075   \n",
       "\n",
       "            Long  \n",
       "0      78.000000  \n",
       "1      78.000000  \n",
       "2      78.000000  \n",
       "3      78.000000  \n",
       "4      78.000000  \n",
       "...          ...  \n",
       "35497  38.996815  \n",
       "35498  38.996815  \n",
       "35499  38.996815  \n",
       "35500  38.996815  \n",
       "35501  38.996815  \n",
       "\n",
       "[35502 rows x 10 columns]"
      ]
     },
     "execution_count": 2,
     "metadata": {},
     "output_type": "execute_result"
    }
   ],
   "source": [
    "cases"
   ]
  },
  {
   "cell_type": "code",
   "execution_count": 3,
   "id": "d04bb9fd",
   "metadata": {},
   "outputs": [],
   "source": [
    "cases.loc[cases[\"Country_Region\"]==\"Nigeria\"]\n",
    "nigerian_cases=cases.loc[cases[\"Country_Region\"]==\"Nigeria\"].reset_index()"
   ]
  },
  {
   "cell_type": "code",
   "execution_count": 4,
   "id": "168d19b0",
   "metadata": {},
   "outputs": [
    {
     "data": {
      "text/html": [
       "<div>\n",
       "<style scoped>\n",
       "    .dataframe tbody tr th:only-of-type {\n",
       "        vertical-align: middle;\n",
       "    }\n",
       "\n",
       "    .dataframe tbody tr th {\n",
       "        vertical-align: top;\n",
       "    }\n",
       "\n",
       "    .dataframe thead th {\n",
       "        text-align: right;\n",
       "    }\n",
       "</style>\n",
       "<table border=\"1\" class=\"dataframe\">\n",
       "  <thead>\n",
       "    <tr style=\"text-align: right;\">\n",
       "      <th></th>\n",
       "      <th>index</th>\n",
       "      <th>Date</th>\n",
       "      <th>Country_Region</th>\n",
       "      <th>Province_State</th>\n",
       "      <th>Difference</th>\n",
       "      <th>Prep_Flow_Runtime</th>\n",
       "      <th>Latest_Date</th>\n",
       "      <th>Case_Type</th>\n",
       "      <th>Cases</th>\n",
       "      <th>Lat</th>\n",
       "      <th>Long</th>\n",
       "    </tr>\n",
       "  </thead>\n",
       "  <tbody>\n",
       "    <tr>\n",
       "      <th>0</th>\n",
       "      <td>19398</td>\n",
       "      <td>3/9/2020</td>\n",
       "      <td>Nigeria</td>\n",
       "      <td>NaN</td>\n",
       "      <td>0</td>\n",
       "      <td>3/24/2020 9:39:03 AM</td>\n",
       "      <td>3/23/2020</td>\n",
       "      <td>Deaths</td>\n",
       "      <td>0</td>\n",
       "      <td>9.082</td>\n",
       "      <td>8.6753</td>\n",
       "    </tr>\n",
       "    <tr>\n",
       "      <th>1</th>\n",
       "      <td>19399</td>\n",
       "      <td>3/8/2020</td>\n",
       "      <td>Nigeria</td>\n",
       "      <td>NaN</td>\n",
       "      <td>0</td>\n",
       "      <td>3/24/2020 9:39:03 AM</td>\n",
       "      <td>3/23/2020</td>\n",
       "      <td>Deaths</td>\n",
       "      <td>0</td>\n",
       "      <td>9.082</td>\n",
       "      <td>8.6753</td>\n",
       "    </tr>\n",
       "    <tr>\n",
       "      <th>2</th>\n",
       "      <td>19400</td>\n",
       "      <td>3/7/2020</td>\n",
       "      <td>Nigeria</td>\n",
       "      <td>NaN</td>\n",
       "      <td>0</td>\n",
       "      <td>3/24/2020 9:39:03 AM</td>\n",
       "      <td>3/23/2020</td>\n",
       "      <td>Deaths</td>\n",
       "      <td>0</td>\n",
       "      <td>9.082</td>\n",
       "      <td>8.6753</td>\n",
       "    </tr>\n",
       "    <tr>\n",
       "      <th>3</th>\n",
       "      <td>19401</td>\n",
       "      <td>3/6/2020</td>\n",
       "      <td>Nigeria</td>\n",
       "      <td>NaN</td>\n",
       "      <td>0</td>\n",
       "      <td>3/24/2020 9:39:03 AM</td>\n",
       "      <td>3/23/2020</td>\n",
       "      <td>Deaths</td>\n",
       "      <td>0</td>\n",
       "      <td>9.082</td>\n",
       "      <td>8.6753</td>\n",
       "    </tr>\n",
       "    <tr>\n",
       "      <th>4</th>\n",
       "      <td>19402</td>\n",
       "      <td>3/5/2020</td>\n",
       "      <td>Nigeria</td>\n",
       "      <td>NaN</td>\n",
       "      <td>0</td>\n",
       "      <td>3/24/2020 9:39:03 AM</td>\n",
       "      <td>3/23/2020</td>\n",
       "      <td>Deaths</td>\n",
       "      <td>0</td>\n",
       "      <td>9.082</td>\n",
       "      <td>8.6753</td>\n",
       "    </tr>\n",
       "    <tr>\n",
       "      <th>...</th>\n",
       "      <td>...</td>\n",
       "      <td>...</td>\n",
       "      <td>...</td>\n",
       "      <td>...</td>\n",
       "      <td>...</td>\n",
       "      <td>...</td>\n",
       "      <td>...</td>\n",
       "      <td>...</td>\n",
       "      <td>...</td>\n",
       "      <td>...</td>\n",
       "      <td>...</td>\n",
       "    </tr>\n",
       "    <tr>\n",
       "      <th>117</th>\n",
       "      <td>19515</td>\n",
       "      <td>1/27/2020</td>\n",
       "      <td>Nigeria</td>\n",
       "      <td>NaN</td>\n",
       "      <td>0</td>\n",
       "      <td>3/24/2020 9:39:03 AM</td>\n",
       "      <td>3/23/2020</td>\n",
       "      <td>Confirmed</td>\n",
       "      <td>0</td>\n",
       "      <td>9.082</td>\n",
       "      <td>8.6753</td>\n",
       "    </tr>\n",
       "    <tr>\n",
       "      <th>118</th>\n",
       "      <td>19516</td>\n",
       "      <td>1/26/2020</td>\n",
       "      <td>Nigeria</td>\n",
       "      <td>NaN</td>\n",
       "      <td>0</td>\n",
       "      <td>3/24/2020 9:39:03 AM</td>\n",
       "      <td>3/23/2020</td>\n",
       "      <td>Confirmed</td>\n",
       "      <td>0</td>\n",
       "      <td>9.082</td>\n",
       "      <td>8.6753</td>\n",
       "    </tr>\n",
       "    <tr>\n",
       "      <th>119</th>\n",
       "      <td>19517</td>\n",
       "      <td>1/25/2020</td>\n",
       "      <td>Nigeria</td>\n",
       "      <td>NaN</td>\n",
       "      <td>0</td>\n",
       "      <td>3/24/2020 9:39:03 AM</td>\n",
       "      <td>3/23/2020</td>\n",
       "      <td>Confirmed</td>\n",
       "      <td>0</td>\n",
       "      <td>9.082</td>\n",
       "      <td>8.6753</td>\n",
       "    </tr>\n",
       "    <tr>\n",
       "      <th>120</th>\n",
       "      <td>19518</td>\n",
       "      <td>1/24/2020</td>\n",
       "      <td>Nigeria</td>\n",
       "      <td>NaN</td>\n",
       "      <td>0</td>\n",
       "      <td>3/24/2020 9:39:03 AM</td>\n",
       "      <td>3/23/2020</td>\n",
       "      <td>Confirmed</td>\n",
       "      <td>0</td>\n",
       "      <td>9.082</td>\n",
       "      <td>8.6753</td>\n",
       "    </tr>\n",
       "    <tr>\n",
       "      <th>121</th>\n",
       "      <td>19519</td>\n",
       "      <td>1/23/2020</td>\n",
       "      <td>Nigeria</td>\n",
       "      <td>NaN</td>\n",
       "      <td>0</td>\n",
       "      <td>3/24/2020 9:39:03 AM</td>\n",
       "      <td>3/23/2020</td>\n",
       "      <td>Confirmed</td>\n",
       "      <td>0</td>\n",
       "      <td>9.082</td>\n",
       "      <td>8.6753</td>\n",
       "    </tr>\n",
       "  </tbody>\n",
       "</table>\n",
       "<p>122 rows × 11 columns</p>\n",
       "</div>"
      ],
      "text/plain": [
       "     index       Date Country_Region Province_State  Difference  \\\n",
       "0    19398   3/9/2020        Nigeria            NaN           0   \n",
       "1    19399   3/8/2020        Nigeria            NaN           0   \n",
       "2    19400   3/7/2020        Nigeria            NaN           0   \n",
       "3    19401   3/6/2020        Nigeria            NaN           0   \n",
       "4    19402   3/5/2020        Nigeria            NaN           0   \n",
       "..     ...        ...            ...            ...         ...   \n",
       "117  19515  1/27/2020        Nigeria            NaN           0   \n",
       "118  19516  1/26/2020        Nigeria            NaN           0   \n",
       "119  19517  1/25/2020        Nigeria            NaN           0   \n",
       "120  19518  1/24/2020        Nigeria            NaN           0   \n",
       "121  19519  1/23/2020        Nigeria            NaN           0   \n",
       "\n",
       "        Prep_Flow_Runtime Latest_Date  Case_Type  Cases    Lat    Long  \n",
       "0    3/24/2020 9:39:03 AM   3/23/2020     Deaths      0  9.082  8.6753  \n",
       "1    3/24/2020 9:39:03 AM   3/23/2020     Deaths      0  9.082  8.6753  \n",
       "2    3/24/2020 9:39:03 AM   3/23/2020     Deaths      0  9.082  8.6753  \n",
       "3    3/24/2020 9:39:03 AM   3/23/2020     Deaths      0  9.082  8.6753  \n",
       "4    3/24/2020 9:39:03 AM   3/23/2020     Deaths      0  9.082  8.6753  \n",
       "..                    ...         ...        ...    ...    ...     ...  \n",
       "117  3/24/2020 9:39:03 AM   3/23/2020  Confirmed      0  9.082  8.6753  \n",
       "118  3/24/2020 9:39:03 AM   3/23/2020  Confirmed      0  9.082  8.6753  \n",
       "119  3/24/2020 9:39:03 AM   3/23/2020  Confirmed      0  9.082  8.6753  \n",
       "120  3/24/2020 9:39:03 AM   3/23/2020  Confirmed      0  9.082  8.6753  \n",
       "121  3/24/2020 9:39:03 AM   3/23/2020  Confirmed      0  9.082  8.6753  \n",
       "\n",
       "[122 rows x 11 columns]"
      ]
     },
     "execution_count": 4,
     "metadata": {},
     "output_type": "execute_result"
    }
   ],
   "source": [
    "nigerian_cases"
   ]
  },
  {
   "cell_type": "code",
   "execution_count": 5,
   "id": "10ea1591",
   "metadata": {},
   "outputs": [
    {
     "data": {
      "text/plain": [
       "Date                  object\n",
       "Country_Region        object\n",
       "Province_State        object\n",
       "Difference             int64\n",
       "Prep_Flow_Runtime     object\n",
       "Latest_Date           object\n",
       "Case_Type             object\n",
       "Cases                  int64\n",
       "Lat                  float64\n",
       "Long                 float64\n",
       "dtype: object"
      ]
     },
     "execution_count": 5,
     "metadata": {},
     "output_type": "execute_result"
    }
   ],
   "source": [
    "cases.dtypes"
   ]
  },
  {
   "cell_type": "code",
   "execution_count": 6,
   "id": "f099e747",
   "metadata": {},
   "outputs": [],
   "source": [
    "nigerian_cases[\"Date\"]=nigerian_cases[\"Date\"].astype(\"datetime64[ns]\")"
   ]
  },
  {
   "cell_type": "code",
   "execution_count": 21,
   "id": "5afb2580",
   "metadata": {},
   "outputs": [
    {
     "data": {
      "text/plain": [
       "index                         int64\n",
       "Date                 datetime64[ns]\n",
       "Country_Region               object\n",
       "Province_State               object\n",
       "Difference                    int64\n",
       "Prep_Flow_Runtime            object\n",
       "Latest_Date                  object\n",
       "Case_Type                    object\n",
       "Cases                         int64\n",
       "Lat                         float64\n",
       "Long                        float64\n",
       "monthly_cases             period[M]\n",
       "dtype: object"
      ]
     },
     "execution_count": 21,
     "metadata": {},
     "output_type": "execute_result"
    }
   ],
   "source": [
    "nigerian_cases.dtypes"
   ]
  },
  {
   "cell_type": "code",
   "execution_count": 8,
   "id": "ac5bb355",
   "metadata": {},
   "outputs": [],
   "source": [
    "nigerian_cases[\"monthly_cases\"]=nigerian_cases[\"Date\"].dt.to_period(\"M\")"
   ]
  },
  {
   "cell_type": "code",
   "execution_count": 9,
   "id": "d3465e91",
   "metadata": {},
   "outputs": [
    {
     "data": {
      "text/plain": [
       "index                         int64\n",
       "Date                 datetime64[ns]\n",
       "Country_Region               object\n",
       "Province_State               object\n",
       "Difference                    int64\n",
       "Prep_Flow_Runtime            object\n",
       "Latest_Date                  object\n",
       "Case_Type                    object\n",
       "Cases                         int64\n",
       "Lat                         float64\n",
       "Long                        float64\n",
       "monthly_cases             period[M]\n",
       "dtype: object"
      ]
     },
     "execution_count": 9,
     "metadata": {},
     "output_type": "execute_result"
    }
   ],
   "source": [
    "nigerian_cases.dtypes"
   ]
  },
  {
   "cell_type": "code",
   "execution_count": 10,
   "id": "dbdc1d44",
   "metadata": {},
   "outputs": [],
   "source": [
    "allmonths=nigerian_cases.groupby(\"monthly_cases\").sum().reset_index()"
   ]
  },
  {
   "cell_type": "code",
   "execution_count": 20,
   "id": "d33f034b",
   "metadata": {},
   "outputs": [
    {
     "data": {
      "text/html": [
       "<div>\n",
       "<style scoped>\n",
       "    .dataframe tbody tr th:only-of-type {\n",
       "        vertical-align: middle;\n",
       "    }\n",
       "\n",
       "    .dataframe tbody tr th {\n",
       "        vertical-align: top;\n",
       "    }\n",
       "\n",
       "    .dataframe thead th {\n",
       "        text-align: right;\n",
       "    }\n",
       "</style>\n",
       "<table border=\"1\" class=\"dataframe\">\n",
       "  <thead>\n",
       "    <tr style=\"text-align: right;\">\n",
       "      <th></th>\n",
       "      <th>monthly_cases</th>\n",
       "      <th>index</th>\n",
       "      <th>Difference</th>\n",
       "      <th>Cases</th>\n",
       "      <th>Lat</th>\n",
       "      <th>Long</th>\n",
       "    </tr>\n",
       "  </thead>\n",
       "  <tbody>\n",
       "    <tr>\n",
       "      <th>0</th>\n",
       "      <td>2020-01</td>\n",
       "      <td>350721</td>\n",
       "      <td>0</td>\n",
       "      <td>0</td>\n",
       "      <td>163.476</td>\n",
       "      <td>156.1554</td>\n",
       "    </tr>\n",
       "    <tr>\n",
       "      <th>1</th>\n",
       "      <td>2020-02</td>\n",
       "      <td>1128999</td>\n",
       "      <td>1</td>\n",
       "      <td>2</td>\n",
       "      <td>526.756</td>\n",
       "      <td>503.1674</td>\n",
       "    </tr>\n",
       "    <tr>\n",
       "      <th>2</th>\n",
       "      <td>2020-03</td>\n",
       "      <td>894217</td>\n",
       "      <td>40</td>\n",
       "      <td>148</td>\n",
       "      <td>417.772</td>\n",
       "      <td>399.0638</td>\n",
       "    </tr>\n",
       "  </tbody>\n",
       "</table>\n",
       "</div>"
      ],
      "text/plain": [
       "  monthly_cases    index  Difference  Cases      Lat      Long\n",
       "0       2020-01   350721           0      0  163.476  156.1554\n",
       "1       2020-02  1128999           1      2  526.756  503.1674\n",
       "2       2020-03   894217          40    148  417.772  399.0638"
      ]
     },
     "execution_count": 20,
     "metadata": {},
     "output_type": "execute_result"
    }
   ],
   "source": [
    "allmonths"
   ]
  },
  {
   "cell_type": "code",
   "execution_count": 23,
   "id": "44eeda83",
   "metadata": {},
   "outputs": [],
   "source": [
    "allmonths[\"monthly_cases\"]=allmonths[\"monthly_cases\"].dt.to_timestamp()"
   ]
  },
  {
   "cell_type": "code",
   "execution_count": 24,
   "id": "99867da6",
   "metadata": {},
   "outputs": [
    {
     "data": {
      "text/html": [
       "<div>\n",
       "<style scoped>\n",
       "    .dataframe tbody tr th:only-of-type {\n",
       "        vertical-align: middle;\n",
       "    }\n",
       "\n",
       "    .dataframe tbody tr th {\n",
       "        vertical-align: top;\n",
       "    }\n",
       "\n",
       "    .dataframe thead th {\n",
       "        text-align: right;\n",
       "    }\n",
       "</style>\n",
       "<table border=\"1\" class=\"dataframe\">\n",
       "  <thead>\n",
       "    <tr style=\"text-align: right;\">\n",
       "      <th></th>\n",
       "      <th>monthly_cases</th>\n",
       "      <th>index</th>\n",
       "      <th>Difference</th>\n",
       "      <th>Cases</th>\n",
       "      <th>Lat</th>\n",
       "      <th>Long</th>\n",
       "    </tr>\n",
       "  </thead>\n",
       "  <tbody>\n",
       "    <tr>\n",
       "      <th>0</th>\n",
       "      <td>2020-01-01</td>\n",
       "      <td>350721</td>\n",
       "      <td>0</td>\n",
       "      <td>0</td>\n",
       "      <td>163.476</td>\n",
       "      <td>156.1554</td>\n",
       "    </tr>\n",
       "    <tr>\n",
       "      <th>1</th>\n",
       "      <td>2020-02-01</td>\n",
       "      <td>1128999</td>\n",
       "      <td>1</td>\n",
       "      <td>2</td>\n",
       "      <td>526.756</td>\n",
       "      <td>503.1674</td>\n",
       "    </tr>\n",
       "    <tr>\n",
       "      <th>2</th>\n",
       "      <td>2020-03-01</td>\n",
       "      <td>894217</td>\n",
       "      <td>40</td>\n",
       "      <td>148</td>\n",
       "      <td>417.772</td>\n",
       "      <td>399.0638</td>\n",
       "    </tr>\n",
       "  </tbody>\n",
       "</table>\n",
       "</div>"
      ],
      "text/plain": [
       "  monthly_cases    index  Difference  Cases      Lat      Long\n",
       "0    2020-01-01   350721           0      0  163.476  156.1554\n",
       "1    2020-02-01  1128999           1      2  526.756  503.1674\n",
       "2    2020-03-01   894217          40    148  417.772  399.0638"
      ]
     },
     "execution_count": 24,
     "metadata": {},
     "output_type": "execute_result"
    }
   ],
   "source": [
    "allmonths"
   ]
  },
  {
   "cell_type": "code",
   "execution_count": 19,
   "id": "d7594f2e",
   "metadata": {},
   "outputs": [],
   "source": [
    "import matplotlib.pyplot as plt"
   ]
  },
  {
   "cell_type": "code",
   "execution_count": 13,
   "id": "ddddf815",
   "metadata": {},
   "outputs": [],
   "source": [
    "import plotly.express as px\n"
   ]
  },
  {
   "cell_type": "code",
   "execution_count": 25,
   "id": "922a2731",
   "metadata": {
    "scrolled": false
   },
   "outputs": [
    {
     "data": {
      "application/vnd.plotly.v1+json": {
       "config": {
        "plotlyServerURL": "https://plot.ly"
       },
       "data": [
        {
         "hovertemplate": "monthly_cases=%{x}<br>Cases=%{text}<extra></extra>",
         "legendgroup": "",
         "line": {
          "color": "#636efa",
          "dash": "solid"
         },
         "marker": {
          "symbol": "circle"
         },
         "mode": "text+lines+markers",
         "name": "",
         "orientation": "v",
         "showlegend": false,
         "text": [
          0,
          2,
          148
         ],
         "type": "scatter",
         "x": [
          "2020-01-01T00:00:00",
          "2020-02-01T00:00:00",
          "2020-03-01T00:00:00"
         ],
         "xaxis": "x",
         "y": [
          0,
          2,
          148
         ],
         "yaxis": "y"
        }
       ],
       "layout": {
        "legend": {
         "tracegroupgap": 0
        },
        "margin": {
         "t": 60
        },
        "template": {
         "data": {
          "bar": [
           {
            "error_x": {
             "color": "#2a3f5f"
            },
            "error_y": {
             "color": "#2a3f5f"
            },
            "marker": {
             "line": {
              "color": "#E5ECF6",
              "width": 0.5
             },
             "pattern": {
              "fillmode": "overlay",
              "size": 10,
              "solidity": 0.2
             }
            },
            "type": "bar"
           }
          ],
          "barpolar": [
           {
            "marker": {
             "line": {
              "color": "#E5ECF6",
              "width": 0.5
             },
             "pattern": {
              "fillmode": "overlay",
              "size": 10,
              "solidity": 0.2
             }
            },
            "type": "barpolar"
           }
          ],
          "carpet": [
           {
            "aaxis": {
             "endlinecolor": "#2a3f5f",
             "gridcolor": "white",
             "linecolor": "white",
             "minorgridcolor": "white",
             "startlinecolor": "#2a3f5f"
            },
            "baxis": {
             "endlinecolor": "#2a3f5f",
             "gridcolor": "white",
             "linecolor": "white",
             "minorgridcolor": "white",
             "startlinecolor": "#2a3f5f"
            },
            "type": "carpet"
           }
          ],
          "choropleth": [
           {
            "colorbar": {
             "outlinewidth": 0,
             "ticks": ""
            },
            "type": "choropleth"
           }
          ],
          "contour": [
           {
            "colorbar": {
             "outlinewidth": 0,
             "ticks": ""
            },
            "colorscale": [
             [
              0,
              "#0d0887"
             ],
             [
              0.1111111111111111,
              "#46039f"
             ],
             [
              0.2222222222222222,
              "#7201a8"
             ],
             [
              0.3333333333333333,
              "#9c179e"
             ],
             [
              0.4444444444444444,
              "#bd3786"
             ],
             [
              0.5555555555555556,
              "#d8576b"
             ],
             [
              0.6666666666666666,
              "#ed7953"
             ],
             [
              0.7777777777777778,
              "#fb9f3a"
             ],
             [
              0.8888888888888888,
              "#fdca26"
             ],
             [
              1,
              "#f0f921"
             ]
            ],
            "type": "contour"
           }
          ],
          "contourcarpet": [
           {
            "colorbar": {
             "outlinewidth": 0,
             "ticks": ""
            },
            "type": "contourcarpet"
           }
          ],
          "heatmap": [
           {
            "colorbar": {
             "outlinewidth": 0,
             "ticks": ""
            },
            "colorscale": [
             [
              0,
              "#0d0887"
             ],
             [
              0.1111111111111111,
              "#46039f"
             ],
             [
              0.2222222222222222,
              "#7201a8"
             ],
             [
              0.3333333333333333,
              "#9c179e"
             ],
             [
              0.4444444444444444,
              "#bd3786"
             ],
             [
              0.5555555555555556,
              "#d8576b"
             ],
             [
              0.6666666666666666,
              "#ed7953"
             ],
             [
              0.7777777777777778,
              "#fb9f3a"
             ],
             [
              0.8888888888888888,
              "#fdca26"
             ],
             [
              1,
              "#f0f921"
             ]
            ],
            "type": "heatmap"
           }
          ],
          "heatmapgl": [
           {
            "colorbar": {
             "outlinewidth": 0,
             "ticks": ""
            },
            "colorscale": [
             [
              0,
              "#0d0887"
             ],
             [
              0.1111111111111111,
              "#46039f"
             ],
             [
              0.2222222222222222,
              "#7201a8"
             ],
             [
              0.3333333333333333,
              "#9c179e"
             ],
             [
              0.4444444444444444,
              "#bd3786"
             ],
             [
              0.5555555555555556,
              "#d8576b"
             ],
             [
              0.6666666666666666,
              "#ed7953"
             ],
             [
              0.7777777777777778,
              "#fb9f3a"
             ],
             [
              0.8888888888888888,
              "#fdca26"
             ],
             [
              1,
              "#f0f921"
             ]
            ],
            "type": "heatmapgl"
           }
          ],
          "histogram": [
           {
            "marker": {
             "pattern": {
              "fillmode": "overlay",
              "size": 10,
              "solidity": 0.2
             }
            },
            "type": "histogram"
           }
          ],
          "histogram2d": [
           {
            "colorbar": {
             "outlinewidth": 0,
             "ticks": ""
            },
            "colorscale": [
             [
              0,
              "#0d0887"
             ],
             [
              0.1111111111111111,
              "#46039f"
             ],
             [
              0.2222222222222222,
              "#7201a8"
             ],
             [
              0.3333333333333333,
              "#9c179e"
             ],
             [
              0.4444444444444444,
              "#bd3786"
             ],
             [
              0.5555555555555556,
              "#d8576b"
             ],
             [
              0.6666666666666666,
              "#ed7953"
             ],
             [
              0.7777777777777778,
              "#fb9f3a"
             ],
             [
              0.8888888888888888,
              "#fdca26"
             ],
             [
              1,
              "#f0f921"
             ]
            ],
            "type": "histogram2d"
           }
          ],
          "histogram2dcontour": [
           {
            "colorbar": {
             "outlinewidth": 0,
             "ticks": ""
            },
            "colorscale": [
             [
              0,
              "#0d0887"
             ],
             [
              0.1111111111111111,
              "#46039f"
             ],
             [
              0.2222222222222222,
              "#7201a8"
             ],
             [
              0.3333333333333333,
              "#9c179e"
             ],
             [
              0.4444444444444444,
              "#bd3786"
             ],
             [
              0.5555555555555556,
              "#d8576b"
             ],
             [
              0.6666666666666666,
              "#ed7953"
             ],
             [
              0.7777777777777778,
              "#fb9f3a"
             ],
             [
              0.8888888888888888,
              "#fdca26"
             ],
             [
              1,
              "#f0f921"
             ]
            ],
            "type": "histogram2dcontour"
           }
          ],
          "mesh3d": [
           {
            "colorbar": {
             "outlinewidth": 0,
             "ticks": ""
            },
            "type": "mesh3d"
           }
          ],
          "parcoords": [
           {
            "line": {
             "colorbar": {
              "outlinewidth": 0,
              "ticks": ""
             }
            },
            "type": "parcoords"
           }
          ],
          "pie": [
           {
            "automargin": true,
            "type": "pie"
           }
          ],
          "scatter": [
           {
            "fillpattern": {
             "fillmode": "overlay",
             "size": 10,
             "solidity": 0.2
            },
            "type": "scatter"
           }
          ],
          "scatter3d": [
           {
            "line": {
             "colorbar": {
              "outlinewidth": 0,
              "ticks": ""
             }
            },
            "marker": {
             "colorbar": {
              "outlinewidth": 0,
              "ticks": ""
             }
            },
            "type": "scatter3d"
           }
          ],
          "scattercarpet": [
           {
            "marker": {
             "colorbar": {
              "outlinewidth": 0,
              "ticks": ""
             }
            },
            "type": "scattercarpet"
           }
          ],
          "scattergeo": [
           {
            "marker": {
             "colorbar": {
              "outlinewidth": 0,
              "ticks": ""
             }
            },
            "type": "scattergeo"
           }
          ],
          "scattergl": [
           {
            "marker": {
             "colorbar": {
              "outlinewidth": 0,
              "ticks": ""
             }
            },
            "type": "scattergl"
           }
          ],
          "scattermapbox": [
           {
            "marker": {
             "colorbar": {
              "outlinewidth": 0,
              "ticks": ""
             }
            },
            "type": "scattermapbox"
           }
          ],
          "scatterpolar": [
           {
            "marker": {
             "colorbar": {
              "outlinewidth": 0,
              "ticks": ""
             }
            },
            "type": "scatterpolar"
           }
          ],
          "scatterpolargl": [
           {
            "marker": {
             "colorbar": {
              "outlinewidth": 0,
              "ticks": ""
             }
            },
            "type": "scatterpolargl"
           }
          ],
          "scatterternary": [
           {
            "marker": {
             "colorbar": {
              "outlinewidth": 0,
              "ticks": ""
             }
            },
            "type": "scatterternary"
           }
          ],
          "surface": [
           {
            "colorbar": {
             "outlinewidth": 0,
             "ticks": ""
            },
            "colorscale": [
             [
              0,
              "#0d0887"
             ],
             [
              0.1111111111111111,
              "#46039f"
             ],
             [
              0.2222222222222222,
              "#7201a8"
             ],
             [
              0.3333333333333333,
              "#9c179e"
             ],
             [
              0.4444444444444444,
              "#bd3786"
             ],
             [
              0.5555555555555556,
              "#d8576b"
             ],
             [
              0.6666666666666666,
              "#ed7953"
             ],
             [
              0.7777777777777778,
              "#fb9f3a"
             ],
             [
              0.8888888888888888,
              "#fdca26"
             ],
             [
              1,
              "#f0f921"
             ]
            ],
            "type": "surface"
           }
          ],
          "table": [
           {
            "cells": {
             "fill": {
              "color": "#EBF0F8"
             },
             "line": {
              "color": "white"
             }
            },
            "header": {
             "fill": {
              "color": "#C8D4E3"
             },
             "line": {
              "color": "white"
             }
            },
            "type": "table"
           }
          ]
         },
         "layout": {
          "annotationdefaults": {
           "arrowcolor": "#2a3f5f",
           "arrowhead": 0,
           "arrowwidth": 1
          },
          "autotypenumbers": "strict",
          "coloraxis": {
           "colorbar": {
            "outlinewidth": 0,
            "ticks": ""
           }
          },
          "colorscale": {
           "diverging": [
            [
             0,
             "#8e0152"
            ],
            [
             0.1,
             "#c51b7d"
            ],
            [
             0.2,
             "#de77ae"
            ],
            [
             0.3,
             "#f1b6da"
            ],
            [
             0.4,
             "#fde0ef"
            ],
            [
             0.5,
             "#f7f7f7"
            ],
            [
             0.6,
             "#e6f5d0"
            ],
            [
             0.7,
             "#b8e186"
            ],
            [
             0.8,
             "#7fbc41"
            ],
            [
             0.9,
             "#4d9221"
            ],
            [
             1,
             "#276419"
            ]
           ],
           "sequential": [
            [
             0,
             "#0d0887"
            ],
            [
             0.1111111111111111,
             "#46039f"
            ],
            [
             0.2222222222222222,
             "#7201a8"
            ],
            [
             0.3333333333333333,
             "#9c179e"
            ],
            [
             0.4444444444444444,
             "#bd3786"
            ],
            [
             0.5555555555555556,
             "#d8576b"
            ],
            [
             0.6666666666666666,
             "#ed7953"
            ],
            [
             0.7777777777777778,
             "#fb9f3a"
            ],
            [
             0.8888888888888888,
             "#fdca26"
            ],
            [
             1,
             "#f0f921"
            ]
           ],
           "sequentialminus": [
            [
             0,
             "#0d0887"
            ],
            [
             0.1111111111111111,
             "#46039f"
            ],
            [
             0.2222222222222222,
             "#7201a8"
            ],
            [
             0.3333333333333333,
             "#9c179e"
            ],
            [
             0.4444444444444444,
             "#bd3786"
            ],
            [
             0.5555555555555556,
             "#d8576b"
            ],
            [
             0.6666666666666666,
             "#ed7953"
            ],
            [
             0.7777777777777778,
             "#fb9f3a"
            ],
            [
             0.8888888888888888,
             "#fdca26"
            ],
            [
             1,
             "#f0f921"
            ]
           ]
          },
          "colorway": [
           "#636efa",
           "#EF553B",
           "#00cc96",
           "#ab63fa",
           "#FFA15A",
           "#19d3f3",
           "#FF6692",
           "#B6E880",
           "#FF97FF",
           "#FECB52"
          ],
          "font": {
           "color": "#2a3f5f"
          },
          "geo": {
           "bgcolor": "white",
           "lakecolor": "white",
           "landcolor": "#E5ECF6",
           "showlakes": true,
           "showland": true,
           "subunitcolor": "white"
          },
          "hoverlabel": {
           "align": "left"
          },
          "hovermode": "closest",
          "mapbox": {
           "style": "light"
          },
          "paper_bgcolor": "white",
          "plot_bgcolor": "#E5ECF6",
          "polar": {
           "angularaxis": {
            "gridcolor": "white",
            "linecolor": "white",
            "ticks": ""
           },
           "bgcolor": "#E5ECF6",
           "radialaxis": {
            "gridcolor": "white",
            "linecolor": "white",
            "ticks": ""
           }
          },
          "scene": {
           "xaxis": {
            "backgroundcolor": "#E5ECF6",
            "gridcolor": "white",
            "gridwidth": 2,
            "linecolor": "white",
            "showbackground": true,
            "ticks": "",
            "zerolinecolor": "white"
           },
           "yaxis": {
            "backgroundcolor": "#E5ECF6",
            "gridcolor": "white",
            "gridwidth": 2,
            "linecolor": "white",
            "showbackground": true,
            "ticks": "",
            "zerolinecolor": "white"
           },
           "zaxis": {
            "backgroundcolor": "#E5ECF6",
            "gridcolor": "white",
            "gridwidth": 2,
            "linecolor": "white",
            "showbackground": true,
            "ticks": "",
            "zerolinecolor": "white"
           }
          },
          "shapedefaults": {
           "line": {
            "color": "#2a3f5f"
           }
          },
          "ternary": {
           "aaxis": {
            "gridcolor": "white",
            "linecolor": "white",
            "ticks": ""
           },
           "baxis": {
            "gridcolor": "white",
            "linecolor": "white",
            "ticks": ""
           },
           "bgcolor": "#E5ECF6",
           "caxis": {
            "gridcolor": "white",
            "linecolor": "white",
            "ticks": ""
           }
          },
          "title": {
           "x": 0.05
          },
          "xaxis": {
           "automargin": true,
           "gridcolor": "white",
           "linecolor": "white",
           "ticks": "",
           "title": {
            "standoff": 15
           },
           "zerolinecolor": "white",
           "zerolinewidth": 2
          },
          "yaxis": {
           "automargin": true,
           "gridcolor": "white",
           "linecolor": "white",
           "ticks": "",
           "title": {
            "standoff": 15
           },
           "zerolinecolor": "white",
           "zerolinewidth": 2
          }
         }
        },
        "xaxis": {
         "anchor": "y",
         "domain": [
          0,
          1
         ],
         "title": {
          "text": "monthly_cases"
         }
        },
        "yaxis": {
         "anchor": "x",
         "domain": [
          0,
          1
         ],
         "title": {
          "text": "Cases"
         }
        }
       }
      },
      "text/html": [
       "<div>                            <div id=\"951b8506-1d5b-4ccf-bd0d-bfe307ce4b14\" class=\"plotly-graph-div\" style=\"height:525px; width:100%;\"></div>            <script type=\"text/javascript\">                require([\"plotly\"], function(Plotly) {                    window.PLOTLYENV=window.PLOTLYENV || {};                                    if (document.getElementById(\"951b8506-1d5b-4ccf-bd0d-bfe307ce4b14\")) {                    Plotly.newPlot(                        \"951b8506-1d5b-4ccf-bd0d-bfe307ce4b14\",                        [{\"hovertemplate\":\"monthly_cases=%{x}\\u003cbr\\u003eCases=%{text}\\u003cextra\\u003e\\u003c\\u002fextra\\u003e\",\"legendgroup\":\"\",\"line\":{\"color\":\"#636efa\",\"dash\":\"solid\"},\"marker\":{\"symbol\":\"circle\"},\"mode\":\"text+lines+markers\",\"name\":\"\",\"orientation\":\"v\",\"showlegend\":false,\"text\":[0.0,2.0,148.0],\"x\":[\"2020-01-01T00:00:00\",\"2020-02-01T00:00:00\",\"2020-03-01T00:00:00\"],\"xaxis\":\"x\",\"y\":[0,2,148],\"yaxis\":\"y\",\"type\":\"scatter\"}],                        {\"template\":{\"data\":{\"histogram2dcontour\":[{\"type\":\"histogram2dcontour\",\"colorbar\":{\"outlinewidth\":0,\"ticks\":\"\"},\"colorscale\":[[0.0,\"#0d0887\"],[0.1111111111111111,\"#46039f\"],[0.2222222222222222,\"#7201a8\"],[0.3333333333333333,\"#9c179e\"],[0.4444444444444444,\"#bd3786\"],[0.5555555555555556,\"#d8576b\"],[0.6666666666666666,\"#ed7953\"],[0.7777777777777778,\"#fb9f3a\"],[0.8888888888888888,\"#fdca26\"],[1.0,\"#f0f921\"]]}],\"choropleth\":[{\"type\":\"choropleth\",\"colorbar\":{\"outlinewidth\":0,\"ticks\":\"\"}}],\"histogram2d\":[{\"type\":\"histogram2d\",\"colorbar\":{\"outlinewidth\":0,\"ticks\":\"\"},\"colorscale\":[[0.0,\"#0d0887\"],[0.1111111111111111,\"#46039f\"],[0.2222222222222222,\"#7201a8\"],[0.3333333333333333,\"#9c179e\"],[0.4444444444444444,\"#bd3786\"],[0.5555555555555556,\"#d8576b\"],[0.6666666666666666,\"#ed7953\"],[0.7777777777777778,\"#fb9f3a\"],[0.8888888888888888,\"#fdca26\"],[1.0,\"#f0f921\"]]}],\"heatmap\":[{\"type\":\"heatmap\",\"colorbar\":{\"outlinewidth\":0,\"ticks\":\"\"},\"colorscale\":[[0.0,\"#0d0887\"],[0.1111111111111111,\"#46039f\"],[0.2222222222222222,\"#7201a8\"],[0.3333333333333333,\"#9c179e\"],[0.4444444444444444,\"#bd3786\"],[0.5555555555555556,\"#d8576b\"],[0.6666666666666666,\"#ed7953\"],[0.7777777777777778,\"#fb9f3a\"],[0.8888888888888888,\"#fdca26\"],[1.0,\"#f0f921\"]]}],\"heatmapgl\":[{\"type\":\"heatmapgl\",\"colorbar\":{\"outlinewidth\":0,\"ticks\":\"\"},\"colorscale\":[[0.0,\"#0d0887\"],[0.1111111111111111,\"#46039f\"],[0.2222222222222222,\"#7201a8\"],[0.3333333333333333,\"#9c179e\"],[0.4444444444444444,\"#bd3786\"],[0.5555555555555556,\"#d8576b\"],[0.6666666666666666,\"#ed7953\"],[0.7777777777777778,\"#fb9f3a\"],[0.8888888888888888,\"#fdca26\"],[1.0,\"#f0f921\"]]}],\"contourcarpet\":[{\"type\":\"contourcarpet\",\"colorbar\":{\"outlinewidth\":0,\"ticks\":\"\"}}],\"contour\":[{\"type\":\"contour\",\"colorbar\":{\"outlinewidth\":0,\"ticks\":\"\"},\"colorscale\":[[0.0,\"#0d0887\"],[0.1111111111111111,\"#46039f\"],[0.2222222222222222,\"#7201a8\"],[0.3333333333333333,\"#9c179e\"],[0.4444444444444444,\"#bd3786\"],[0.5555555555555556,\"#d8576b\"],[0.6666666666666666,\"#ed7953\"],[0.7777777777777778,\"#fb9f3a\"],[0.8888888888888888,\"#fdca26\"],[1.0,\"#f0f921\"]]}],\"surface\":[{\"type\":\"surface\",\"colorbar\":{\"outlinewidth\":0,\"ticks\":\"\"},\"colorscale\":[[0.0,\"#0d0887\"],[0.1111111111111111,\"#46039f\"],[0.2222222222222222,\"#7201a8\"],[0.3333333333333333,\"#9c179e\"],[0.4444444444444444,\"#bd3786\"],[0.5555555555555556,\"#d8576b\"],[0.6666666666666666,\"#ed7953\"],[0.7777777777777778,\"#fb9f3a\"],[0.8888888888888888,\"#fdca26\"],[1.0,\"#f0f921\"]]}],\"mesh3d\":[{\"type\":\"mesh3d\",\"colorbar\":{\"outlinewidth\":0,\"ticks\":\"\"}}],\"scatter\":[{\"fillpattern\":{\"fillmode\":\"overlay\",\"size\":10,\"solidity\":0.2},\"type\":\"scatter\"}],\"parcoords\":[{\"type\":\"parcoords\",\"line\":{\"colorbar\":{\"outlinewidth\":0,\"ticks\":\"\"}}}],\"scatterpolargl\":[{\"type\":\"scatterpolargl\",\"marker\":{\"colorbar\":{\"outlinewidth\":0,\"ticks\":\"\"}}}],\"bar\":[{\"error_x\":{\"color\":\"#2a3f5f\"},\"error_y\":{\"color\":\"#2a3f5f\"},\"marker\":{\"line\":{\"color\":\"#E5ECF6\",\"width\":0.5},\"pattern\":{\"fillmode\":\"overlay\",\"size\":10,\"solidity\":0.2}},\"type\":\"bar\"}],\"scattergeo\":[{\"type\":\"scattergeo\",\"marker\":{\"colorbar\":{\"outlinewidth\":0,\"ticks\":\"\"}}}],\"scatterpolar\":[{\"type\":\"scatterpolar\",\"marker\":{\"colorbar\":{\"outlinewidth\":0,\"ticks\":\"\"}}}],\"histogram\":[{\"marker\":{\"pattern\":{\"fillmode\":\"overlay\",\"size\":10,\"solidity\":0.2}},\"type\":\"histogram\"}],\"scattergl\":[{\"type\":\"scattergl\",\"marker\":{\"colorbar\":{\"outlinewidth\":0,\"ticks\":\"\"}}}],\"scatter3d\":[{\"type\":\"scatter3d\",\"line\":{\"colorbar\":{\"outlinewidth\":0,\"ticks\":\"\"}},\"marker\":{\"colorbar\":{\"outlinewidth\":0,\"ticks\":\"\"}}}],\"scattermapbox\":[{\"type\":\"scattermapbox\",\"marker\":{\"colorbar\":{\"outlinewidth\":0,\"ticks\":\"\"}}}],\"scatterternary\":[{\"type\":\"scatterternary\",\"marker\":{\"colorbar\":{\"outlinewidth\":0,\"ticks\":\"\"}}}],\"scattercarpet\":[{\"type\":\"scattercarpet\",\"marker\":{\"colorbar\":{\"outlinewidth\":0,\"ticks\":\"\"}}}],\"carpet\":[{\"aaxis\":{\"endlinecolor\":\"#2a3f5f\",\"gridcolor\":\"white\",\"linecolor\":\"white\",\"minorgridcolor\":\"white\",\"startlinecolor\":\"#2a3f5f\"},\"baxis\":{\"endlinecolor\":\"#2a3f5f\",\"gridcolor\":\"white\",\"linecolor\":\"white\",\"minorgridcolor\":\"white\",\"startlinecolor\":\"#2a3f5f\"},\"type\":\"carpet\"}],\"table\":[{\"cells\":{\"fill\":{\"color\":\"#EBF0F8\"},\"line\":{\"color\":\"white\"}},\"header\":{\"fill\":{\"color\":\"#C8D4E3\"},\"line\":{\"color\":\"white\"}},\"type\":\"table\"}],\"barpolar\":[{\"marker\":{\"line\":{\"color\":\"#E5ECF6\",\"width\":0.5},\"pattern\":{\"fillmode\":\"overlay\",\"size\":10,\"solidity\":0.2}},\"type\":\"barpolar\"}],\"pie\":[{\"automargin\":true,\"type\":\"pie\"}]},\"layout\":{\"autotypenumbers\":\"strict\",\"colorway\":[\"#636efa\",\"#EF553B\",\"#00cc96\",\"#ab63fa\",\"#FFA15A\",\"#19d3f3\",\"#FF6692\",\"#B6E880\",\"#FF97FF\",\"#FECB52\"],\"font\":{\"color\":\"#2a3f5f\"},\"hovermode\":\"closest\",\"hoverlabel\":{\"align\":\"left\"},\"paper_bgcolor\":\"white\",\"plot_bgcolor\":\"#E5ECF6\",\"polar\":{\"bgcolor\":\"#E5ECF6\",\"angularaxis\":{\"gridcolor\":\"white\",\"linecolor\":\"white\",\"ticks\":\"\"},\"radialaxis\":{\"gridcolor\":\"white\",\"linecolor\":\"white\",\"ticks\":\"\"}},\"ternary\":{\"bgcolor\":\"#E5ECF6\",\"aaxis\":{\"gridcolor\":\"white\",\"linecolor\":\"white\",\"ticks\":\"\"},\"baxis\":{\"gridcolor\":\"white\",\"linecolor\":\"white\",\"ticks\":\"\"},\"caxis\":{\"gridcolor\":\"white\",\"linecolor\":\"white\",\"ticks\":\"\"}},\"coloraxis\":{\"colorbar\":{\"outlinewidth\":0,\"ticks\":\"\"}},\"colorscale\":{\"sequential\":[[0.0,\"#0d0887\"],[0.1111111111111111,\"#46039f\"],[0.2222222222222222,\"#7201a8\"],[0.3333333333333333,\"#9c179e\"],[0.4444444444444444,\"#bd3786\"],[0.5555555555555556,\"#d8576b\"],[0.6666666666666666,\"#ed7953\"],[0.7777777777777778,\"#fb9f3a\"],[0.8888888888888888,\"#fdca26\"],[1.0,\"#f0f921\"]],\"sequentialminus\":[[0.0,\"#0d0887\"],[0.1111111111111111,\"#46039f\"],[0.2222222222222222,\"#7201a8\"],[0.3333333333333333,\"#9c179e\"],[0.4444444444444444,\"#bd3786\"],[0.5555555555555556,\"#d8576b\"],[0.6666666666666666,\"#ed7953\"],[0.7777777777777778,\"#fb9f3a\"],[0.8888888888888888,\"#fdca26\"],[1.0,\"#f0f921\"]],\"diverging\":[[0,\"#8e0152\"],[0.1,\"#c51b7d\"],[0.2,\"#de77ae\"],[0.3,\"#f1b6da\"],[0.4,\"#fde0ef\"],[0.5,\"#f7f7f7\"],[0.6,\"#e6f5d0\"],[0.7,\"#b8e186\"],[0.8,\"#7fbc41\"],[0.9,\"#4d9221\"],[1,\"#276419\"]]},\"xaxis\":{\"gridcolor\":\"white\",\"linecolor\":\"white\",\"ticks\":\"\",\"title\":{\"standoff\":15},\"zerolinecolor\":\"white\",\"automargin\":true,\"zerolinewidth\":2},\"yaxis\":{\"gridcolor\":\"white\",\"linecolor\":\"white\",\"ticks\":\"\",\"title\":{\"standoff\":15},\"zerolinecolor\":\"white\",\"automargin\":true,\"zerolinewidth\":2},\"scene\":{\"xaxis\":{\"backgroundcolor\":\"#E5ECF6\",\"gridcolor\":\"white\",\"linecolor\":\"white\",\"showbackground\":true,\"ticks\":\"\",\"zerolinecolor\":\"white\",\"gridwidth\":2},\"yaxis\":{\"backgroundcolor\":\"#E5ECF6\",\"gridcolor\":\"white\",\"linecolor\":\"white\",\"showbackground\":true,\"ticks\":\"\",\"zerolinecolor\":\"white\",\"gridwidth\":2},\"zaxis\":{\"backgroundcolor\":\"#E5ECF6\",\"gridcolor\":\"white\",\"linecolor\":\"white\",\"showbackground\":true,\"ticks\":\"\",\"zerolinecolor\":\"white\",\"gridwidth\":2}},\"shapedefaults\":{\"line\":{\"color\":\"#2a3f5f\"}},\"annotationdefaults\":{\"arrowcolor\":\"#2a3f5f\",\"arrowhead\":0,\"arrowwidth\":1},\"geo\":{\"bgcolor\":\"white\",\"landcolor\":\"#E5ECF6\",\"subunitcolor\":\"white\",\"showland\":true,\"showlakes\":true,\"lakecolor\":\"white\"},\"title\":{\"x\":0.05},\"mapbox\":{\"style\":\"light\"}}},\"xaxis\":{\"anchor\":\"y\",\"domain\":[0.0,1.0],\"title\":{\"text\":\"monthly_cases\"}},\"yaxis\":{\"anchor\":\"x\",\"domain\":[0.0,1.0],\"title\":{\"text\":\"Cases\"}},\"legend\":{\"tracegroupgap\":0},\"margin\":{\"t\":60}},                        {\"responsive\": true}                    ).then(function(){\n",
       "                            \n",
       "var gd = document.getElementById('951b8506-1d5b-4ccf-bd0d-bfe307ce4b14');\n",
       "var x = new MutationObserver(function (mutations, observer) {{\n",
       "        var display = window.getComputedStyle(gd).display;\n",
       "        if (!display || display === 'none') {{\n",
       "            console.log([gd, 'removed!']);\n",
       "            Plotly.purge(gd);\n",
       "            observer.disconnect();\n",
       "        }}\n",
       "}});\n",
       "\n",
       "// Listen for the removal of the full notebook cells\n",
       "var notebookContainer = gd.closest('#notebook-container');\n",
       "if (notebookContainer) {{\n",
       "    x.observe(notebookContainer, {childList: true});\n",
       "}}\n",
       "\n",
       "// Listen for the clearing of the current output cell\n",
       "var outputEl = gd.closest('.output');\n",
       "if (outputEl) {{\n",
       "    x.observe(outputEl, {childList: true});\n",
       "}}\n",
       "\n",
       "                        })                };                });            </script>        </div>"
      ]
     },
     "metadata": {},
     "output_type": "display_data"
    }
   ],
   "source": [
    "px.line(allmonths,x=\"monthly_cases\",y=\"Cases\",text=\"Cases\")"
   ]
  },
  {
   "cell_type": "code",
   "execution_count": 15,
   "id": "1afe6aab",
   "metadata": {
    "scrolled": false
   },
   "outputs": [
    {
     "data": {
      "text/plain": [
       "<AxesSubplot:ylabel='Cases'>"
      ]
     },
     "execution_count": 15,
     "metadata": {},
     "output_type": "execute_result"
    },
    {
     "data": {
      "image/png": "[encoded data removed]",
      "text/plain": [
       "<Figure size 432x288 with 1 Axes>"
      ]
     },
     "metadata": {},
     "output_type": "display_data"
    }
   ],
   "source": [
    "allmonths.plot(kind=\"pie\",x=\"Monthly_cases\",y=\"Cases\")"
   ]
  },
  {
   "cell_type": "code",
   "execution_count": 36,
   "id": "ac9e74a4",
   "metadata": {},
   "outputs": [
    {
     "data": {
      "text/plain": [
       "(array([0., 0., 0., 0., 0., 1., 0., 0., 0., 0.]),\n",
       " array([-0.5, -0.4, -0.3, -0.2, -0.1,  0. ,  0.1,  0.2,  0.3,  0.4,  0.5]),\n",
       " <BarContainer object of 10 artists>)"
      ]
     },
     "execution_count": 36,
     "metadata": {},
     "output_type": "execute_result"
    },
    {
     "data": {
      "image/png": "[encoded data removed]",
      "text/plain": [
       "<Figure size 432x288 with 1 Axes>"
      ]
     },
     "metadata": {
      "needs_background": "light"
     },
     "output_type": "display_data"
    }
   ],
   "source": [
    "plt.hist(\"allmonths\")"
   ]
  },
  {
   "cell_type": "code",
   "execution_count": 39,
   "id": "bdfb2bb6",
   "metadata": {},
   "outputs": [
    {
     "data": {
      "text/plain": [
       "<matplotlib.collections.PolyCollection at 0x2207bb8ff40>"
      ]
     },
     "execution_count": 39,
     "metadata": {},
     "output_type": "execute_result"
    },
    {
     "data": {
      "image/png": "[encoded data removed]",
      "text/plain": [
       "<Figure size 432x288 with 1 Axes>"
      ]
     },
     "metadata": {
      "needs_background": "light"
     },
     "output_type": "display_data"
    }
   ],
   "source": [
    "x=\"Monthly_cases\"\n",
    "y=\"cases\"\n",
    "plt.fill_between(x,y)\n"
   ]
  },
  {
   "cell_type": "code",
   "execution_count": 41,
   "id": "d5d90c3e",
   "metadata": {},
   "outputs": [],
   "source": [
    "import numpy as np"
   ]
  },
  {
   "cell_type": "code",
   "execution_count": 43,
   "id": "a797be38",
   "metadata": {},
   "outputs": [
    {
     "ename": "NameError",
     "evalue": "name 'delta' is not defined",
     "output_type": "error",
     "traceback": [
      "\u001b[1;31m---------------------------------------------------------------------------\u001b[0m",
      "\u001b[1;31mNameError\u001b[0m                                 Traceback (most recent call last)",
      "\u001b[1;32m<ipython-input-43-c92b99948f1a>\u001b[0m in \u001b[0;36m<module>\u001b[1;34m\u001b[0m\n\u001b[1;32m----> 1\u001b[1;33m \u001b[0mx\u001b[0m \u001b[1;33m=\u001b[0m \u001b[0mnp\u001b[0m\u001b[1;33m.\u001b[0m\u001b[0marange\u001b[0m\u001b[1;33m(\u001b[0m\u001b[1;36m0\u001b[0m\u001b[1;33m,\u001b[0m \u001b[1;36m1\u001b[0m\u001b[1;33m,\u001b[0m \u001b[1;36m40\u001b[0m\u001b[1;33m,\u001b[0m\u001b[0mdelta\u001b[0m\u001b[1;33m)\u001b[0m\u001b[1;33m\u001b[0m\u001b[1;33m\u001b[0m\u001b[0m\n\u001b[0m\u001b[0;32m      2\u001b[0m \u001b[0my\u001b[0m \u001b[1;33m=\u001b[0m \u001b[0mnp\u001b[0m\u001b[1;33m.\u001b[0m\u001b[0marange\u001b[0m\u001b[1;33m(\u001b[0m\u001b[1;36m350721\u001b[0m\u001b[1;33m,\u001b[0m \u001b[1;36m1128999\u001b[0m\u001b[1;33m,\u001b[0m\u001b[1;36m894217\u001b[0m\u001b[1;33m,\u001b[0m \u001b[0mdelta\u001b[0m\u001b[1;33m)\u001b[0m\u001b[1;33m\u001b[0m\u001b[1;33m\u001b[0m\u001b[0m\n\u001b[0;32m      3\u001b[0m \u001b[1;33m\u001b[0m\u001b[0m\n\u001b[0;32m      4\u001b[0m \u001b[0mX\u001b[0m\u001b[1;33m,\u001b[0m \u001b[0mY\u001b[0m \u001b[1;33m=\u001b[0m \u001b[0mnp\u001b[0m\u001b[1;33m.\u001b[0m\u001b[0mmeshgrid\u001b[0m\u001b[1;33m(\u001b[0m\u001b[0mx\u001b[0m\u001b[1;33m,\u001b[0m \u001b[0my\u001b[0m\u001b[1;33m)\u001b[0m\u001b[1;33m\u001b[0m\u001b[1;33m\u001b[0m\u001b[0m\n\u001b[0;32m      5\u001b[0m \u001b[0mM\u001b[0m \u001b[1;33m=\u001b[0m \u001b[0mnp\u001b[0m\u001b[1;33m.\u001b[0m\u001b[0mrandom\u001b[0m\u001b[1;33m.\u001b[0m\u001b[0mrand\u001b[0m\u001b[1;33m(\u001b[0m\u001b[1;36m10\u001b[0m\u001b[1;33m,\u001b[0m\u001b[1;36m20\u001b[0m\u001b[1;33m)\u001b[0m\u001b[1;33m\u001b[0m\u001b[1;33m\u001b[0m\u001b[0m\n",
      "\u001b[1;31mNameError\u001b[0m: name 'delta' is not defined"
     ]
    }
   ],
   "source": [
    "x = np.arange(0, 1, 40,delta)\n",
    "y = np.arange(350721, 1128999,894217, delta)\n",
    "\n",
    "X, Y = np.meshgrid(x, y)\n",
    "M = np.random.rand(10,20)\n",
    "plt.contour(M);"
   ]
  }
 ],
 "metadata": {
  "kernelspec": {
   "display_name": "Python 3",
   "language": "python",
   "name": "python3"
  },
  "language_info": {
   "codemirror_mode": {
    "name": "ipython",
    "version": 3
   },
   "file_extension": ".py",
   "mimetype": "text/x-python",
   "name": "python",
   "nbconvert_exporter": "python",
   "pygments_lexer": "ipython3",
   "version": "3.8.8"
  }
 },
 "nbformat": 4,
 "nbformat_minor": 5
}
