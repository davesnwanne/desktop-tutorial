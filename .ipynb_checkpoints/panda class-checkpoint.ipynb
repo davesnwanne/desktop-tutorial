{
 "cells": [
  {
   "cell_type": "code",
   "execution_count": 6,
   "id": "f3e7472c",
   "metadata": {},
   "outputs": [],
   "source": [
    "import pandas as pd"
   ]
  },
  {
   "cell_type": "markdown",
   "id": "21178cfb",
   "metadata": {},
   "source": [
    "# creating a dataframe with a list"
   ]
  },
  {
   "cell_type": "code",
   "execution_count": 4,
   "id": "096fdca5",
   "metadata": {},
   "outputs": [],
   "source": [
    "data2 = [[\"haneefat\",\"Adeola\",25,\"Data science\"],[\"Tracy\",\"Benson\",22,\"Designer\"],\n",
    "[\"Rachael\",\"Bello\",28,\"Developer\"],[\"Adeseye\",\"Lanre\",27,\"Data science\"]]"
   ]
  },
  {
   "cell_type": "markdown",
   "id": "8e418505",
   "metadata": {},
   "source": [
    "# creating a data frame"
   ]
  },
  {
   "cell_type": "code",
   "execution_count": 10,
   "id": "ead79034",
   "metadata": {},
   "outputs": [],
   "source": [
    "df=pd.DataFrame(data2, columns=[\"first name\",\"last name\",\"age\",\"Department\"])\n"
   ]
  },
  {
   "cell_type": "code",
   "execution_count": 11,
   "id": "d14417fb",
   "metadata": {},
   "outputs": [
    {
     "data": {
      "text/html": [
       "<div>\n",
       "<style scoped>\n",
       "    .dataframe tbody tr th:only-of-type {\n",
       "        vertical-align: middle;\n",
       "    }\n",
       "\n",
       "    .dataframe tbody tr th {\n",
       "        vertical-align: top;\n",
       "    }\n",
       "\n",
       "    .dataframe thead th {\n",
       "        text-align: right;\n",
       "    }\n",
       "</style>\n",
       "<table border=\"1\" class=\"dataframe\">\n",
       "  <thead>\n",
       "    <tr style=\"text-align: right;\">\n",
       "      <th></th>\n",
       "      <th>first name</th>\n",
       "      <th>last name</th>\n",
       "      <th>age</th>\n",
       "      <th>Department</th>\n",
       "    </tr>\n",
       "  </thead>\n",
       "  <tbody>\n",
       "    <tr>\n",
       "      <th>0</th>\n",
       "      <td>haneefat</td>\n",
       "      <td>Adeola</td>\n",
       "      <td>25</td>\n",
       "      <td>Data science</td>\n",
       "    </tr>\n",
       "    <tr>\n",
       "      <th>1</th>\n",
       "      <td>Tracy</td>\n",
       "      <td>Benson</td>\n",
       "      <td>22</td>\n",
       "      <td>Designer</td>\n",
       "    </tr>\n",
       "    <tr>\n",
       "      <th>2</th>\n",
       "      <td>Rachael</td>\n",
       "      <td>Bello</td>\n",
       "      <td>28</td>\n",
       "      <td>Developer</td>\n",
       "    </tr>\n",
       "    <tr>\n",
       "      <th>3</th>\n",
       "      <td>Adeseye</td>\n",
       "      <td>Lanre</td>\n",
       "      <td>27</td>\n",
       "      <td>Data science</td>\n",
       "    </tr>\n",
       "  </tbody>\n",
       "</table>\n",
       "</div>"
      ],
      "text/plain": [
       "  first name last name  age    Department\n",
       "0   haneefat    Adeola   25  Data science\n",
       "1      Tracy    Benson   22      Designer\n",
       "2    Rachael     Bello   28     Developer\n",
       "3    Adeseye     Lanre   27  Data science"
      ]
     },
     "execution_count": 11,
     "metadata": {},
     "output_type": "execute_result"
    }
   ],
   "source": [
    "#showing the dataframe\n",
    "df"
   ]
  },
  {
   "cell_type": "code",
   "execution_count": 15,
   "id": "c6a237bb",
   "metadata": {},
   "outputs": [
    {
     "data": {
      "text/plain": [
       "pandas.core.frame.DataFrame"
      ]
     },
     "execution_count": 15,
     "metadata": {},
     "output_type": "execute_result"
    }
   ],
   "source": [
    "type(df)"
   ]
  },
  {
   "cell_type": "code",
   "execution_count": 20,
   "id": "ece45f2a",
   "metadata": {},
   "outputs": [],
   "source": [
    "df=pd.DataFrame(data2, columns=[\"first name\",\"last name\",\"age\",\"Department\"],\n",
    "index  =[\"A\",\"B\",\"C\",\"D\"])"
   ]
  },
  {
   "cell_type": "code",
   "execution_count": 21,
   "id": "e7db159c",
   "metadata": {},
   "outputs": [
    {
     "data": {
      "text/html": [
       "<div>\n",
       "<style scoped>\n",
       "    .dataframe tbody tr th:only-of-type {\n",
       "        vertical-align: middle;\n",
       "    }\n",
       "\n",
       "    .dataframe tbody tr th {\n",
       "        vertical-align: top;\n",
       "    }\n",
       "\n",
       "    .dataframe thead th {\n",
       "        text-align: right;\n",
       "    }\n",
       "</style>\n",
       "<table border=\"1\" class=\"dataframe\">\n",
       "  <thead>\n",
       "    <tr style=\"text-align: right;\">\n",
       "      <th></th>\n",
       "      <th>first name</th>\n",
       "      <th>last name</th>\n",
       "      <th>age</th>\n",
       "      <th>Department</th>\n",
       "    </tr>\n",
       "  </thead>\n",
       "  <tbody>\n",
       "    <tr>\n",
       "      <th>A</th>\n",
       "      <td>haneefat</td>\n",
       "      <td>Adeola</td>\n",
       "      <td>25</td>\n",
       "      <td>Data science</td>\n",
       "    </tr>\n",
       "    <tr>\n",
       "      <th>B</th>\n",
       "      <td>Tracy</td>\n",
       "      <td>Benson</td>\n",
       "      <td>22</td>\n",
       "      <td>Designer</td>\n",
       "    </tr>\n",
       "    <tr>\n",
       "      <th>C</th>\n",
       "      <td>Rachael</td>\n",
       "      <td>Bello</td>\n",
       "      <td>28</td>\n",
       "      <td>Developer</td>\n",
       "    </tr>\n",
       "    <tr>\n",
       "      <th>D</th>\n",
       "      <td>Adeseye</td>\n",
       "      <td>Lanre</td>\n",
       "      <td>27</td>\n",
       "      <td>Data science</td>\n",
       "    </tr>\n",
       "  </tbody>\n",
       "</table>\n",
       "</div>"
      ],
      "text/plain": [
       "  first name last name  age    Department\n",
       "A   haneefat    Adeola   25  Data science\n",
       "B      Tracy    Benson   22      Designer\n",
       "C    Rachael     Bello   28     Developer\n",
       "D    Adeseye     Lanre   27  Data science"
      ]
     },
     "execution_count": 21,
     "metadata": {},
     "output_type": "execute_result"
    }
   ],
   "source": [
    "df"
   ]
  },
  {
   "cell_type": "markdown",
   "id": "9faf0289",
   "metadata": {},
   "source": [
    "# creating a dataframe with a dictionary"
   ]
  },
  {
   "cell_type": "code",
   "execution_count": 24,
   "id": "2838ccc7",
   "metadata": {},
   "outputs": [],
   "source": [
    "data3 ={\"STATES\":[\"kwara\",\"oyo\",\"lagos\",\"benue\"],\n",
    "        \"CAPITAL\":[\"Ilorin\",\"ibadan\",\"ikeja\",\"makurdi\"]}"
   ]
  },
  {
   "cell_type": "code",
   "execution_count": 25,
   "id": "80dd2243",
   "metadata": {},
   "outputs": [],
   "source": [
    "df_data3= pd.DataFrame(data3)"
   ]
  },
  {
   "cell_type": "code",
   "execution_count": 26,
   "id": "1667a4f4",
   "metadata": {
    "scrolled": true
   },
   "outputs": [
    {
     "data": {
      "text/html": [
       "<div>\n",
       "<style scoped>\n",
       "    .dataframe tbody tr th:only-of-type {\n",
       "        vertical-align: middle;\n",
       "    }\n",
       "\n",
       "    .dataframe tbody tr th {\n",
       "        vertical-align: top;\n",
       "    }\n",
       "\n",
       "    .dataframe thead th {\n",
       "        text-align: right;\n",
       "    }\n",
       "</style>\n",
       "<table border=\"1\" class=\"dataframe\">\n",
       "  <thead>\n",
       "    <tr style=\"text-align: right;\">\n",
       "      <th></th>\n",
       "      <th>STATES</th>\n",
       "      <th>CAPITAL</th>\n",
       "    </tr>\n",
       "  </thead>\n",
       "  <tbody>\n",
       "    <tr>\n",
       "      <th>0</th>\n",
       "      <td>kwara</td>\n",
       "      <td>Ilorin</td>\n",
       "    </tr>\n",
       "    <tr>\n",
       "      <th>1</th>\n",
       "      <td>oyo</td>\n",
       "      <td>ibadan</td>\n",
       "    </tr>\n",
       "    <tr>\n",
       "      <th>2</th>\n",
       "      <td>lagos</td>\n",
       "      <td>ikeja</td>\n",
       "    </tr>\n",
       "    <tr>\n",
       "      <th>3</th>\n",
       "      <td>benue</td>\n",
       "      <td>makurdi</td>\n",
       "    </tr>\n",
       "  </tbody>\n",
       "</table>\n",
       "</div>"
      ],
      "text/plain": [
       "  STATES  CAPITAL\n",
       "0  kwara   Ilorin\n",
       "1    oyo   ibadan\n",
       "2  lagos    ikeja\n",
       "3  benue  makurdi"
      ]
     },
     "execution_count": 26,
     "metadata": {},
     "output_type": "execute_result"
    }
   ],
   "source": [
    "df_data3"
   ]
  },
  {
   "cell_type": "markdown",
   "id": "2fc5eda7",
   "metadata": {},
   "source": [
    "# creating DataFrame using zip functions zip()"
   ]
  },
  {
   "cell_type": "code",
   "execution_count": 28,
   "id": "115e4a38",
   "metadata": {},
   "outputs": [
    {
     "data": {
      "text/plain": [
       "[('adekunle', 20),\n",
       " ('bayo', 50),\n",
       " ('gravy', 70),\n",
       " ('shayo', 80),\n",
       " ('okoko', 88),\n",
       " ('treasure', 45)]"
      ]
     },
     "execution_count": 28,
     "metadata": {},
     "output_type": "execute_result"
    }
   ],
   "source": [
    "lst = [\"adekunle\",\"bayo\",\"gravy\",\"shayo\",\"okoko\",\"treasure\"]\n",
    "lst2 = [20,50,70,80,88,45]\n",
    "list(zip(lst,lst2))"
   ]
  },
  {
   "cell_type": "code",
   "execution_count": 32,
   "id": "a06ce706",
   "metadata": {},
   "outputs": [
    {
     "data": {
      "text/html": [
       "<div>\n",
       "<style scoped>\n",
       "    .dataframe tbody tr th:only-of-type {\n",
       "        vertical-align: middle;\n",
       "    }\n",
       "\n",
       "    .dataframe tbody tr th {\n",
       "        vertical-align: top;\n",
       "    }\n",
       "\n",
       "    .dataframe thead th {\n",
       "        text-align: right;\n",
       "    }\n",
       "</style>\n",
       "<table border=\"1\" class=\"dataframe\">\n",
       "  <thead>\n",
       "    <tr style=\"text-align: right;\">\n",
       "      <th></th>\n",
       "      <th>names</th>\n",
       "      <th>marks</th>\n",
       "    </tr>\n",
       "  </thead>\n",
       "  <tbody>\n",
       "    <tr>\n",
       "      <th>0</th>\n",
       "      <td>adekunle</td>\n",
       "      <td>20</td>\n",
       "    </tr>\n",
       "    <tr>\n",
       "      <th>1</th>\n",
       "      <td>bayo</td>\n",
       "      <td>50</td>\n",
       "    </tr>\n",
       "    <tr>\n",
       "      <th>2</th>\n",
       "      <td>gravy</td>\n",
       "      <td>70</td>\n",
       "    </tr>\n",
       "    <tr>\n",
       "      <th>3</th>\n",
       "      <td>shayo</td>\n",
       "      <td>80</td>\n",
       "    </tr>\n",
       "    <tr>\n",
       "      <th>4</th>\n",
       "      <td>okoko</td>\n",
       "      <td>88</td>\n",
       "    </tr>\n",
       "    <tr>\n",
       "      <th>5</th>\n",
       "      <td>treasure</td>\n",
       "      <td>45</td>\n",
       "    </tr>\n",
       "  </tbody>\n",
       "</table>\n",
       "</div>"
      ],
      "text/plain": [
       "      names  marks\n",
       "0  adekunle     20\n",
       "1      bayo     50\n",
       "2     gravy     70\n",
       "3     shayo     80\n",
       "4     okoko     88\n",
       "5  treasure     45"
      ]
     },
     "execution_count": 32,
     "metadata": {},
     "output_type": "execute_result"
    }
   ],
   "source": [
    "df=pd.DataFrame(list(zip(lst,lst2)),columns=[\"names\",\"marks\"])\n",
    "df"
   ]
  },
  {
   "cell_type": "markdown",
   "id": "a49bfb9f",
   "metadata": {},
   "source": [
    "# creating a dataframe using multidimensional list"
   ]
  },
  {
   "cell_type": "code",
   "execution_count": 35,
   "id": "3b58a03d",
   "metadata": {},
   "outputs": [
    {
     "data": {
      "text/html": [
       "<div>\n",
       "<style scoped>\n",
       "    .dataframe tbody tr th:only-of-type {\n",
       "        vertical-align: middle;\n",
       "    }\n",
       "\n",
       "    .dataframe tbody tr th {\n",
       "        vertical-align: top;\n",
       "    }\n",
       "\n",
       "    .dataframe thead th {\n",
       "        text-align: right;\n",
       "    }\n",
       "</style>\n",
       "<table border=\"1\" class=\"dataframe\">\n",
       "  <thead>\n",
       "    <tr style=\"text-align: right;\">\n",
       "      <th></th>\n",
       "      <th>students</th>\n",
       "      <th>students</th>\n",
       "      <th>scores</th>\n",
       "      <th>scores</th>\n",
       "    </tr>\n",
       "  </thead>\n",
       "  <tbody>\n",
       "    <tr>\n",
       "      <th>0</th>\n",
       "      <td>john</td>\n",
       "      <td>jude</td>\n",
       "      <td>20</td>\n",
       "      <td>40</td>\n",
       "    </tr>\n",
       "    <tr>\n",
       "      <th>1</th>\n",
       "      <td>faith</td>\n",
       "      <td>fegor</td>\n",
       "      <td>50</td>\n",
       "      <td>90</td>\n",
       "    </tr>\n",
       "    <tr>\n",
       "      <th>2</th>\n",
       "      <td>hanny</td>\n",
       "      <td>hanta</td>\n",
       "      <td>60</td>\n",
       "      <td>80</td>\n",
       "    </tr>\n",
       "    <tr>\n",
       "      <th>3</th>\n",
       "      <td>chris</td>\n",
       "      <td>camel</td>\n",
       "      <td>100</td>\n",
       "      <td>120</td>\n",
       "    </tr>\n",
       "  </tbody>\n",
       "</table>\n",
       "</div>"
      ],
      "text/plain": [
       "  students students  scores  scores\n",
       "0     john     jude      20      40\n",
       "1    faith    fegor      50      90\n",
       "2    hanny    hanta      60      80\n",
       "3    chris    camel     100     120"
      ]
     },
     "execution_count": 35,
     "metadata": {},
     "output_type": "execute_result"
    }
   ],
   "source": [
    "lst= [[\"john\",\"jude\",20,40],\n",
    "     [\"faith\",\"fegor\",50,90],\n",
    "     [\"hanny\",\"hanta\",60,80],\n",
    "      [\"chris\",\"camel\",100,120]]\n",
    "df=pd.DataFrame(lst,columns=[\"students\",\"students\",\"scores\",\"scores\"])\n",
    "df"
   ]
  }
 ],
 "metadata": {
  "kernelspec": {
   "display_name": "Python 3",
   "language": "python",
   "name": "python3"
  },
  "language_info": {
   "codemirror_mode": {
    "name": "ipython",
    "version": 3
   },
   "file_extension": ".py",
   "mimetype": "text/x-python",
   "name": "python",
   "nbconvert_exporter": "python",
   "pygments_lexer": "ipython3",
   "version": "3.8.8"
  }
 },
 "nbformat": 4,
 "nbformat_minor": 5
}
