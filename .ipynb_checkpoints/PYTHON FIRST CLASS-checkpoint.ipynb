{
 "cells": [
  {
   "cell_type": "markdown",
   "id": "ce68ec9c",
   "metadata": {},
   "source": [
    "# PYTHON INTRO"
   ]
  },
  {
   "cell_type": "code",
   "execution_count": 1,
   "id": "d03c16bd",
   "metadata": {},
   "outputs": [
    {
     "name": "stdout",
     "output_type": "stream",
     "text": [
      "hello world\n"
     ]
    }
   ],
   "source": [
    "#printing my first message\n",
    "print(\"hello world\")"
   ]
  },
  {
   "cell_type": "code",
   "execution_count": 2,
   "id": "cfc797d7",
   "metadata": {},
   "outputs": [
    {
     "name": "stdout",
     "output_type": "stream",
     "text": [
      "NWANNE DAVID UCHE\n"
     ]
    }
   ],
   "source": [
    "#printing my name\n",
    "print(\"NWANNE DAVID UCHE\")"
   ]
  },
  {
   "cell_type": "code",
   "execution_count": 3,
   "id": "7c8260d9",
   "metadata": {},
   "outputs": [
    {
     "name": "stdout",
     "output_type": "stream",
     "text": [
      "23\n"
     ]
    }
   ],
   "source": [
    "#printing a random number\n",
    "print(23)"
   ]
  },
  {
   "cell_type": "markdown",
   "id": "30d70b09",
   "metadata": {},
   "source": [
    "# DATATYPES(INTEGER,FLOAT,BOOLEAN,STRINGS)"
   ]
  },
  {
   "cell_type": "code",
   "execution_count": 4,
   "id": "f235c1db",
   "metadata": {},
   "outputs": [
    {
     "data": {
      "text/plain": [
       "float"
      ]
     },
     "execution_count": 4,
     "metadata": {},
     "output_type": "execute_result"
    }
   ],
   "source": [
    "type(23.55)"
   ]
  },
  {
   "cell_type": "code",
   "execution_count": 5,
   "id": "1412cdc8",
   "metadata": {},
   "outputs": [
    {
     "data": {
      "text/plain": [
       "str"
      ]
     },
     "execution_count": 5,
     "metadata": {},
     "output_type": "execute_result"
    }
   ],
   "source": [
    "type(\"typetext\")"
   ]
  },
  {
   "cell_type": "code",
   "execution_count": 6,
   "id": "83344914",
   "metadata": {},
   "outputs": [
    {
     "data": {
      "text/plain": [
       "bool"
      ]
     },
     "execution_count": 6,
     "metadata": {},
     "output_type": "execute_result"
    }
   ],
   "source": [
    "type(True)"
   ]
  },
  {
   "cell_type": "code",
   "execution_count": 7,
   "id": "abfbc4c5",
   "metadata": {},
   "outputs": [
    {
     "name": "stdout",
     "output_type": "stream",
     "text": [
      "HELLO WORLD\n",
      "techstudio\n",
      "My Name Is David Uchechukwu Nwanne\n",
      "DAVID\n"
     ]
    }
   ],
   "source": [
    "#STRINGS METHOD.()\n",
    "print(\"hello world\".upper())\n",
    "print(\"techstudio\".lower())\n",
    "print(\"my name is david uchechukwu nwanne\".title())\n",
    "print(\"david\".upper())"
   ]
  },
  {
   "cell_type": "code",
   "execution_count": 8,
   "id": "f6c561de",
   "metadata": {},
   "outputs": [
    {
     "name": "stdout",
     "output_type": "stream",
     "text": [
      "TSA\n"
     ]
    }
   ],
   "source": [
    "print(\"tech studio academy\".replace(\"tech studio academy\", \"TSA\"))"
   ]
  },
  {
   "cell_type": "code",
   "execution_count": 9,
   "id": "621aa3fb",
   "metadata": {},
   "outputs": [
    {
     "name": "stdout",
     "output_type": "stream",
     "text": [
      "2\n"
     ]
    }
   ],
   "source": [
    "print(\"hello world\".count(\"o\"))"
   ]
  },
  {
   "cell_type": "code",
   "execution_count": 10,
   "id": "f7626f75",
   "metadata": {},
   "outputs": [
    {
     "name": "stdout",
     "output_type": "stream",
     "text": [
      "12\n"
     ]
    }
   ],
   "source": [
    "print(len(\"organization\"))"
   ]
  },
  {
   "cell_type": "markdown",
   "id": "41fde0d9",
   "metadata": {},
   "source": [
    "# variables"
   ]
  },
  {
   "cell_type": "code",
   "execution_count": 11,
   "id": "63f14e44",
   "metadata": {},
   "outputs": [],
   "source": [
    "#variables = value\n",
    "#variables are containers for storing data values\n",
    "store_1 = \"MY NAME IS DAVID, NWANNE AM A BOY,\""
   ]
  },
  {
   "cell_type": "raw",
   "id": "405972bb",
   "metadata": {},
   "source": []
  },
  {
   "cell_type": "code",
   "execution_count": 12,
   "id": "4c7879a1",
   "metadata": {},
   "outputs": [
    {
     "name": "stdout",
     "output_type": "stream",
     "text": [
      "MY NAME IS DAVID, NWANNE AM A BOY,\n"
     ]
    }
   ],
   "source": [
    "print(store_1)"
   ]
  },
  {
   "cell_type": "code",
   "execution_count": 13,
   "id": "1c90e9c8",
   "metadata": {},
   "outputs": [],
   "source": [
    "store_2 =\"am the best data analyst in the world\"\n"
   ]
  },
  {
   "cell_type": "code",
   "execution_count": 14,
   "id": "cdb1699b",
   "metadata": {},
   "outputs": [
    {
     "name": "stdout",
     "output_type": "stream",
     "text": [
      "am the best data analyst in the world\n"
     ]
    }
   ],
   "source": [
    "print(store_2)"
   ]
  },
  {
   "cell_type": "code",
   "execution_count": 15,
   "id": "3f2e12b1",
   "metadata": {},
   "outputs": [
    {
     "name": "stdout",
     "output_type": "stream",
     "text": [
      "MY NAME IS DAVID, NWANNE AM A BOY, am the best data analyst in the world\n"
     ]
    }
   ],
   "source": [
    "#concatenate\n",
    "print(store_1,store_2)"
   ]
  },
  {
   "cell_type": "code",
   "execution_count": 16,
   "id": "822153d6",
   "metadata": {},
   "outputs": [
    {
     "name": "stdout",
     "output_type": "stream",
     "text": [
      "MY NAME IS DAVID, NWANNE AM A BOY,am the best data analyst in the world\n"
     ]
    }
   ],
   "source": [
    "#concatenate\n",
    "print(store_1+store_2)"
   ]
  },
  {
   "cell_type": "code",
   "execution_count": 17,
   "id": "612bd6ca",
   "metadata": {},
   "outputs": [
    {
     "name": "stdout",
     "output_type": "stream",
     "text": [
      "MY NAME IS DAVID, NWANNE AM A BOY, am the best data analyst in the world\n"
     ]
    }
   ],
   "source": [
    "print(store_1+\" \"+store_2)"
   ]
  },
  {
   "cell_type": "markdown",
   "id": "4a66c3a8",
   "metadata": {},
   "source": [
    "# 4. list"
   ]
  },
  {
   "cell_type": "markdown",
   "id": "4e0de6a2",
   "metadata": {},
   "source": [
    "# list is a collection which is ordered, changeable, and allow duplicates values. list are always surrounded with a square brackets. list are indexed"
   ]
  },
  {
   "cell_type": "code",
   "execution_count": 18,
   "id": "11ccaaba",
   "metadata": {},
   "outputs": [],
   "source": [
    "states= [\"ogun\",\"lagos\",\"abuja\",\"ibadan\",\"ogun\"]"
   ]
  },
  {
   "cell_type": "code",
   "execution_count": 19,
   "id": "d381a126",
   "metadata": {},
   "outputs": [
    {
     "name": "stdout",
     "output_type": "stream",
     "text": [
      "['ogun', 'lagos', 'abuja', 'ibadan', 'ogun']\n"
     ]
    }
   ],
   "source": [
    "print(states)"
   ]
  },
  {
   "cell_type": "code",
   "execution_count": 20,
   "id": "57c4e4b9",
   "metadata": {},
   "outputs": [],
   "source": [
    "#slicing meansgetting access to part of a list "
   ]
  },
  {
   "cell_type": "code",
   "execution_count": 21,
   "id": "4b4471da",
   "metadata": {},
   "outputs": [
    {
     "data": {
      "text/plain": [
       "'ogun'"
      ]
     },
     "execution_count": 21,
     "metadata": {},
     "output_type": "execute_result"
    }
   ],
   "source": [
    "states[0]"
   ]
  },
  {
   "cell_type": "code",
   "execution_count": 22,
   "id": "9f9d6319",
   "metadata": {},
   "outputs": [
    {
     "data": {
      "text/plain": [
       "'abuja'"
      ]
     },
     "execution_count": 22,
     "metadata": {},
     "output_type": "execute_result"
    }
   ],
   "source": [
    "states[2]"
   ]
  },
  {
   "cell_type": "code",
   "execution_count": 23,
   "id": "6e0e853e",
   "metadata": {},
   "outputs": [
    {
     "data": {
      "text/plain": [
       "'ogun'"
      ]
     },
     "execution_count": 23,
     "metadata": {},
     "output_type": "execute_result"
    }
   ],
   "source": [
    "states[4]"
   ]
  },
  {
   "cell_type": "code",
   "execution_count": 24,
   "id": "2221fb07",
   "metadata": {},
   "outputs": [
    {
     "data": {
      "text/plain": [
       "['ogun', 'lagos']"
      ]
     },
     "execution_count": 24,
     "metadata": {},
     "output_type": "execute_result"
    }
   ],
   "source": [
    "states[0:2]"
   ]
  },
  {
   "cell_type": "code",
   "execution_count": 25,
   "id": "74cb3b3a",
   "metadata": {},
   "outputs": [
    {
     "data": {
      "text/plain": [
       "['abuja', 'ibadan']"
      ]
     },
     "execution_count": 25,
     "metadata": {},
     "output_type": "execute_result"
    }
   ],
   "source": [
    "states[2:4]"
   ]
  },
  {
   "cell_type": "code",
   "execution_count": 26,
   "id": "f2d0fe6a",
   "metadata": {},
   "outputs": [
    {
     "data": {
      "text/plain": [
       "['ogun', 'lagos', 'abuja', 'ibadan']"
      ]
     },
     "execution_count": 26,
     "metadata": {},
     "output_type": "execute_result"
    }
   ],
   "source": [
    "states[:-1]"
   ]
  },
  {
   "cell_type": "markdown",
   "id": "a8ea3aff",
   "metadata": {},
   "source": [
    "# adding an element to a list using append() and insert()"
   ]
  },
  {
   "cell_type": "code",
   "execution_count": 27,
   "id": "51a3dca6",
   "metadata": {},
   "outputs": [],
   "source": [
    "states.append(\"asaba\")"
   ]
  },
  {
   "cell_type": "code",
   "execution_count": 28,
   "id": "19475d5f",
   "metadata": {},
   "outputs": [
    {
     "data": {
      "text/plain": [
       "['ogun', 'lagos', 'abuja', 'ibadan', 'ogun', 'asaba']"
      ]
     },
     "execution_count": 28,
     "metadata": {},
     "output_type": "execute_result"
    }
   ],
   "source": [
    "states"
   ]
  },
  {
   "cell_type": "code",
   "execution_count": 29,
   "id": "112267a7",
   "metadata": {},
   "outputs": [],
   "source": [
    "states.append(\"asaba,agbor\")"
   ]
  },
  {
   "cell_type": "code",
   "execution_count": 30,
   "id": "720fd2ca",
   "metadata": {},
   "outputs": [],
   "source": [
    "states.append(\"ibusa\" \"ikeja\")"
   ]
  },
  {
   "cell_type": "code",
   "execution_count": 31,
   "id": "c3795e9e",
   "metadata": {},
   "outputs": [],
   "source": [
    "states.insert(2,\"owaekei\")"
   ]
  },
  {
   "cell_type": "code",
   "execution_count": 32,
   "id": "cc4aa882",
   "metadata": {},
   "outputs": [],
   "source": [
    "states.remove(\"ibusaikeja\")"
   ]
  },
  {
   "cell_type": "code",
   "execution_count": 33,
   "id": "f31c0665",
   "metadata": {},
   "outputs": [
    {
     "data": {
      "text/plain": [
       "'lagos'"
      ]
     },
     "execution_count": 33,
     "metadata": {},
     "output_type": "execute_result"
    }
   ],
   "source": [
    "states.pop(1)"
   ]
  },
  {
   "cell_type": "markdown",
   "id": "819b29e8",
   "metadata": {},
   "source": [
    "# nested list is a list inside another list"
   ]
  },
  {
   "cell_type": "code",
   "execution_count": 34,
   "id": "e788e333",
   "metadata": {},
   "outputs": [],
   "source": [
    "states2=[\"port harcourt\",\"kebbi\",\"jigawa\"]"
   ]
  },
  {
   "cell_type": "code",
   "execution_count": 35,
   "id": "0c7d88c5",
   "metadata": {},
   "outputs": [
    {
     "name": "stdout",
     "output_type": "stream",
     "text": [
      "['port harcourt', 'kebbi', 'jigawa']\n"
     ]
    }
   ],
   "source": [
    "print(states2)"
   ]
  },
  {
   "cell_type": "code",
   "execution_count": 36,
   "id": "c37f957b",
   "metadata": {},
   "outputs": [
    {
     "data": {
      "text/plain": [
       "[['ogun', 'owaekei', 'abuja', 'ibadan', 'ogun', 'asaba', 'asaba,agbor'],\n",
       " ['port harcourt', 'kebbi', 'jigawa']]"
      ]
     },
     "execution_count": 36,
     "metadata": {},
     "output_type": "execute_result"
    }
   ],
   "source": [
    "#nested list is a list inside another list \n",
    "[states,states2]"
   ]
  },
  {
   "cell_type": "markdown",
   "id": "a999bcb6",
   "metadata": {},
   "source": [
    "# sorting a list"
   ]
  },
  {
   "cell_type": "code",
   "execution_count": 37,
   "id": "753518c9",
   "metadata": {},
   "outputs": [],
   "source": [
    "numbers = [4,8,9,3,2,29]\n",
    "numbers.sort()"
   ]
  },
  {
   "cell_type": "code",
   "execution_count": 38,
   "id": "21c99777",
   "metadata": {},
   "outputs": [
    {
     "name": "stdout",
     "output_type": "stream",
     "text": [
      "[2, 3, 4, 8, 9, 29]\n"
     ]
    }
   ],
   "source": [
    "print(numbers)"
   ]
  },
  {
   "cell_type": "code",
   "execution_count": 39,
   "id": "3bef62a9",
   "metadata": {},
   "outputs": [],
   "source": [
    "numbers.sort(reverse=True)"
   ]
  },
  {
   "cell_type": "code",
   "execution_count": 40,
   "id": "cde6c1f1",
   "metadata": {},
   "outputs": [
    {
     "name": "stdout",
     "output_type": "stream",
     "text": [
      "[29, 9, 8, 4, 3, 2]\n"
     ]
    }
   ],
   "source": [
    "print(numbers)"
   ]
  },
  {
   "cell_type": "markdown",
   "id": "44ddc5df",
   "metadata": {},
   "source": [
    "# replacing an element in a list"
   ]
  },
  {
   "cell_type": "code",
   "execution_count": 41,
   "id": "65d93af7",
   "metadata": {},
   "outputs": [],
   "source": [
    "numbers[3]=30"
   ]
  },
  {
   "cell_type": "code",
   "execution_count": 42,
   "id": "e7a90a6f",
   "metadata": {},
   "outputs": [
    {
     "data": {
      "text/plain": [
       "[29, 9, 8, 30, 3, 2]"
      ]
     },
     "execution_count": 42,
     "metadata": {},
     "output_type": "execute_result"
    }
   ],
   "source": [
    "numbers"
   ]
  },
  {
   "cell_type": "code",
   "execution_count": 43,
   "id": "eae3b6b8",
   "metadata": {},
   "outputs": [],
   "source": [
    "city=states.copy()"
   ]
  },
  {
   "cell_type": "code",
   "execution_count": 44,
   "id": "35276957",
   "metadata": {},
   "outputs": [
    {
     "name": "stdout",
     "output_type": "stream",
     "text": [
      "['ogun', 'owaekei', 'abuja', 'ibadan', 'ogun', 'asaba', 'asaba,agbor']\n"
     ]
    }
   ],
   "source": [
    "print (city)"
   ]
  },
  {
   "cell_type": "markdown",
   "id": "a03b74f3",
   "metadata": {},
   "source": [
    "# 5. dictionary is acollection which is ordered,changeable and does not allow duplicates.dictionary is surrounde by curly brackets and have its values and keys"
   ]
  },
  {
   "cell_type": "code",
   "execution_count": 45,
   "id": "67e2f18a",
   "metadata": {},
   "outputs": [],
   "source": [
    "#dictionary =dictonary={key(column header):value,key(column header):value}\n",
    "profile={\"name\":\"hanney\",\"age\":12,\"gender\":\"single\"}"
   ]
  },
  {
   "cell_type": "markdown",
   "id": "9bfaf1b3",
   "metadata": {},
   "source": [
    "# adding an item into a dictioinary"
   ]
  },
  {
   "cell_type": "code",
   "execution_count": 46,
   "id": "239691d4",
   "metadata": {},
   "outputs": [],
   "source": [
    "profile[\"profession\"] = \"Data Analyst\""
   ]
  },
  {
   "cell_type": "code",
   "execution_count": 47,
   "id": "75d91fb7",
   "metadata": {},
   "outputs": [
    {
     "name": "stdout",
     "output_type": "stream",
     "text": [
      "{'name': 'hanney', 'age': 12, 'gender': 'single', 'profession': 'Data Analyst'}\n"
     ]
    }
   ],
   "source": [
    "print(profile)"
   ]
  },
  {
   "cell_type": "markdown",
   "id": "2bc9c829",
   "metadata": {},
   "source": [
    "# updating item in a dictionary"
   ]
  },
  {
   "cell_type": "code",
   "execution_count": 48,
   "id": "9d179259",
   "metadata": {},
   "outputs": [],
   "source": [
    "profile.update({\"age\":19})"
   ]
  },
  {
   "cell_type": "code",
   "execution_count": 49,
   "id": "cf2433f7",
   "metadata": {},
   "outputs": [
    {
     "name": "stdout",
     "output_type": "stream",
     "text": [
      "{'name': 'hanney', 'age': 19, 'gender': 'single', 'profession': 'Data Analyst'}\n"
     ]
    }
   ],
   "source": [
    "print(profile)"
   ]
  },
  {
   "cell_type": "markdown",
   "id": "6818aa20",
   "metadata": {},
   "source": [
    "# removing an item in a dictionary using pop and delete"
   ]
  },
  {
   "cell_type": "code",
   "execution_count": 50,
   "id": "ea5dfbe2",
   "metadata": {},
   "outputs": [
    {
     "data": {
      "text/plain": [
       "'hanney'"
      ]
     },
     "execution_count": 50,
     "metadata": {},
     "output_type": "execute_result"
    }
   ],
   "source": [
    "profile.pop(\"name\")"
   ]
  },
  {
   "cell_type": "code",
   "execution_count": 51,
   "id": "c4160ec1",
   "metadata": {},
   "outputs": [
    {
     "name": "stdout",
     "output_type": "stream",
     "text": [
      "{'age': 19, 'gender': 'single', 'profession': 'Data Analyst'}\n"
     ]
    }
   ],
   "source": [
    "print(profile)"
   ]
  },
  {
   "cell_type": "code",
   "execution_count": 52,
   "id": "fb47a6aa",
   "metadata": {},
   "outputs": [],
   "source": [
    "del profile[\"age\"]"
   ]
  },
  {
   "cell_type": "code",
   "execution_count": 53,
   "id": "11e4c8b8",
   "metadata": {},
   "outputs": [
    {
     "data": {
      "text/plain": [
       "{'gender': 'single', 'profession': 'Data Analyst'}"
      ]
     },
     "execution_count": 53,
     "metadata": {},
     "output_type": "execute_result"
    }
   ],
   "source": [
    "profile"
   ]
  },
  {
   "cell_type": "markdown",
   "id": "52a462bb",
   "metadata": {},
   "source": [
    "# BUILT-IN FUNCTION"
   ]
  },
  {
   "cell_type": "code",
   "execution_count": 55,
   "id": "37ca634d",
   "metadata": {},
   "outputs": [
    {
     "data": {
      "text/plain": [
       "7"
      ]
     },
     "execution_count": 55,
     "metadata": {},
     "output_type": "execute_result"
    }
   ],
   "source": [
    "len(states)"
   ]
  },
  {
   "cell_type": "code",
   "execution_count": 56,
   "id": "8b0648ef",
   "metadata": {},
   "outputs": [
    {
     "data": {
      "text/plain": [
       "45"
      ]
     },
     "execution_count": 56,
     "metadata": {},
     "output_type": "execute_result"
    }
   ],
   "source": [
    "max([10,45,34,2,36])"
   ]
  },
  {
   "cell_type": "code",
   "execution_count": 60,
   "id": "05523a9a",
   "metadata": {
    "scrolled": true
   },
   "outputs": [
    {
     "data": {
      "text/plain": [
       "2"
      ]
     },
     "execution_count": 60,
     "metadata": {},
     "output_type": "execute_result"
    }
   ],
   "source": [
    "min([10,45,34,2,36])"
   ]
  },
  {
   "cell_type": "code",
   "execution_count": 61,
   "id": "718c0858",
   "metadata": {},
   "outputs": [
    {
     "data": {
      "text/plain": [
       "85"
      ]
     },
     "execution_count": 61,
     "metadata": {},
     "output_type": "execute_result"
    }
   ],
   "source": [
    "sum([21,31,33])"
   ]
  },
  {
   "cell_type": "code",
   "execution_count": 62,
   "id": "17c0be09",
   "metadata": {},
   "outputs": [
    {
     "data": {
      "text/plain": [
       "28.333333333333332"
      ]
     },
     "execution_count": 62,
     "metadata": {},
     "output_type": "execute_result"
    }
   ],
   "source": [
    "sum([21,31,33])/3"
   ]
  },
  {
   "cell_type": "code",
   "execution_count": null,
   "id": "00fd0b2f",
   "metadata": {},
   "outputs": [],
   "source": [
    "2"
   ]
  },
  {
   "cell_type": "markdown",
   "id": "cdade3ce",
   "metadata": {},
   "source": [
    "CREATING A VARIABLE NAME CARNAME AND ASSIGN A VALUE VOLVO"
   ]
  },
  {
   "cell_type": "code",
   "execution_count": 1,
   "id": "5f48b376",
   "metadata": {},
   "outputs": [],
   "source": [
    "carname =\"volvo\""
   ]
  },
  {
   "cell_type": "code",
   "execution_count": 2,
   "id": "b19d88ec",
   "metadata": {},
   "outputs": [
    {
     "name": "stdout",
     "output_type": "stream",
     "text": [
      "volvo\n"
     ]
    }
   ],
   "source": [
    "print (carname)"
   ]
  },
  {
   "cell_type": "code",
   "execution_count": 5,
   "id": "5931e25a",
   "metadata": {},
   "outputs": [
    {
     "data": {
      "text/plain": [
       "int"
      ]
     },
     "execution_count": 5,
     "metadata": {},
     "output_type": "execute_result"
    }
   ],
   "source": [
    "x = 5\n",
    "type(5)"
   ]
  },
  {
   "cell_type": "code",
   "execution_count": 8,
   "id": "11a876f3",
   "metadata": {},
   "outputs": [
    {
     "data": {
      "text/plain": [
       "5.0"
      ]
     },
     "execution_count": 8,
     "metadata": {},
     "output_type": "execute_result"
    }
   ],
   "source": [
    "x=5\n",
    "float(5)"
   ]
  },
  {
   "cell_type": "code",
   "execution_count": 13,
   "id": "738f2a65",
   "metadata": {},
   "outputs": [],
   "source": [
    "b = \"hello, world\""
   ]
  },
  {
   "cell_type": "code",
   "execution_count": 15,
   "id": "46d9584e",
   "metadata": {},
   "outputs": [
    {
     "data": {
      "text/plain": [
       "12"
      ]
     },
     "execution_count": 15,
     "metadata": {},
     "output_type": "execute_result"
    }
   ],
   "source": [
    "len(b)"
   ]
  },
  {
   "cell_type": "code",
   "execution_count": 21,
   "id": "617f9505",
   "metadata": {},
   "outputs": [
    {
     "data": {
      "text/plain": [
       "'llo, world'"
      ]
     },
     "execution_count": 21,
     "metadata": {},
     "output_type": "execute_result"
    }
   ],
   "source": [
    "b[2:]"
   ]
  },
  {
   "cell_type": "code",
   "execution_count": 22,
   "id": "90edf378",
   "metadata": {},
   "outputs": [
    {
     "name": "stdout",
     "output_type": "stream",
     "text": [
      "0\n"
     ]
    }
   ],
   "source": [
    "print(\"hello world\".count(\"1\"))"
   ]
  },
  {
   "cell_type": "markdown",
   "id": "7a9f28c9",
   "metadata": {},
   "source": [
    "assign python to a class A and and \"class\" to B then merge A and B into C "
   ]
  },
  {
   "cell_type": "code",
   "execution_count": 24,
   "id": "8298e426",
   "metadata": {},
   "outputs": [
    {
     "name": "stdout",
     "output_type": "stream",
     "text": [
      "python\n"
     ]
    }
   ],
   "source": [
    "A =\"python\"\n",
    "b = \"CLASS\"\n",
    "print (A)"
   ]
  },
  {
   "cell_type": "code",
   "execution_count": 26,
   "id": "3b398a23",
   "metadata": {},
   "outputs": [
    {
     "name": "stdout",
     "output_type": "stream",
     "text": [
      "CLASS\n"
     ]
    }
   ],
   "source": [
    "print(b)"
   ]
  },
  {
   "cell_type": "code",
   "execution_count": 28,
   "id": "ac118d07",
   "metadata": {},
   "outputs": [
    {
     "name": "stdout",
     "output_type": "stream",
     "text": [
      "python CLASS\n"
     ]
    }
   ],
   "source": [
    "print(A,b)"
   ]
  },
  {
   "cell_type": "code",
   "execution_count": 31,
   "id": "8aaee11d",
   "metadata": {},
   "outputs": [
    {
     "name": "stdout",
     "output_type": "stream",
     "text": [
      "('python', 'CLASS')\n"
     ]
    }
   ],
   "source": [
    "c=(A,b)\n",
    "print(c)"
   ]
  },
  {
   "cell_type": "code",
   "execution_count": 42,
   "id": "c8604b97",
   "metadata": {},
   "outputs": [],
   "source": [
    "c=A +\" \" +b"
   ]
  },
  {
   "cell_type": "code",
   "execution_count": 43,
   "id": "fb0067bb",
   "metadata": {},
   "outputs": [
    {
     "name": "stdout",
     "output_type": "stream",
     "text": [
      "python class\n"
     ]
    }
   ],
   "source": [
    "print(c.lower())"
   ]
  },
  {
   "cell_type": "code",
   "execution_count": 45,
   "id": "453c4131",
   "metadata": {},
   "outputs": [],
   "source": [
    "fruits =[\"mango\",\"pineapple\",\"carrot\",\"fig\",\"orange\",\"lemon\"]"
   ]
  },
  {
   "cell_type": "code",
   "execution_count": 67,
   "id": "539aac64",
   "metadata": {},
   "outputs": [
    {
     "data": {
      "text/plain": [
       "['orange', 'lemon']"
      ]
     },
     "execution_count": 67,
     "metadata": {},
     "output_type": "execute_result"
    }
   ],
   "source": [
    "fruits[4:]"
   ]
  },
  {
   "cell_type": "code",
   "execution_count": 68,
   "id": "420e65d0",
   "metadata": {},
   "outputs": [
    {
     "data": {
      "text/plain": [
       "('orange', 'lemon')"
      ]
     },
     "execution_count": 68,
     "metadata": {},
     "output_type": "execute_result"
    }
   ],
   "source": [
    "fruits[4],fruits[5]"
   ]
  },
  {
   "cell_type": "code",
   "execution_count": 74,
   "id": "c589e8e5",
   "metadata": {},
   "outputs": [],
   "source": [
    "fruits[3]=\"pineapple\""
   ]
  },
  {
   "cell_type": "code",
   "execution_count": 75,
   "id": "db1c50c2",
   "metadata": {},
   "outputs": [
    {
     "data": {
      "text/plain": [
       "['mango', 'pineapple', 'carrot', 'pineapple', 'orange', 'lemon']"
      ]
     },
     "execution_count": 75,
     "metadata": {},
     "output_type": "execute_result"
    }
   ],
   "source": [
    "fruits"
   ]
  },
  {
   "cell_type": "code",
   "execution_count": null,
   "id": "dd064e3a",
   "metadata": {},
   "outputs": [],
   "source": []
  }
 ],
 "metadata": {
  "kernelspec": {
   "display_name": "Python 3",
   "language": "python",
   "name": "python3"
  },
  "language_info": {
   "codemirror_mode": {
    "name": "ipython",
    "version": 3
   },
   "file_extension": ".py",
   "mimetype": "text/x-python",
   "name": "python",
   "nbconvert_exporter": "python",
   "pygments_lexer": "ipython3",
   "version": "3.8.8"
  }
 },
 "nbformat": 4,
 "nbformat_minor": 5
}
