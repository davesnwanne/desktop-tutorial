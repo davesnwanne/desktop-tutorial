{
 "cells": [
  {
   "cell_type": "markdown",
   "id": "4d4b7328",
   "metadata": {},
   "source": [
    "Assignment operators and comparison opertaors"
   ]
  },
  {
   "cell_type": "code",
   "execution_count": 1,
   "id": "f4c16b72",
   "metadata": {},
   "outputs": [],
   "source": [
    "#\"=\" is an assignment operator, used to assign a value to a variable\n",
    "a = 5\n",
    "name = \"mike\""
   ]
  },
  {
   "cell_type": "markdown",
   "id": "1dc30147",
   "metadata": {},
   "source": [
    "comparison operators return boolean values(returns true if both values are desame, but false if one is wrong)\n",
    "comparison operators are used to compare to values \n"
   ]
  },
  {
   "cell_type": "code",
   "execution_count": 2,
   "id": "87afe100",
   "metadata": {},
   "outputs": [
    {
     "data": {
      "text/plain": [
       "True"
      ]
     },
     "execution_count": 2,
     "metadata": {},
     "output_type": "execute_result"
    }
   ],
   "source": [
    "\"mike\"==\"mike\""
   ]
  },
  {
   "cell_type": "code",
   "execution_count": 3,
   "id": "90c3f709",
   "metadata": {},
   "outputs": [
    {
     "data": {
      "text/plain": [
       "False"
      ]
     },
     "execution_count": 3,
     "metadata": {},
     "output_type": "execute_result"
    }
   ],
   "source": [
    "\"mike\"==\"Mike\""
   ]
  },
  {
   "cell_type": "code",
   "execution_count": 4,
   "id": "e6c1fee0",
   "metadata": {},
   "outputs": [
    {
     "data": {
      "text/plain": [
       "True"
      ]
     },
     "execution_count": 4,
     "metadata": {},
     "output_type": "execute_result"
    }
   ],
   "source": [
    "3 == 3"
   ]
  },
  {
   "cell_type": "markdown",
   "id": "43ce3fd1",
   "metadata": {},
   "source": [
    "### other comparison operators\n",
    "### greater than  >\n",
    "### less than     <\n",
    "### greater than or equal to >=\n",
    "### less than or equal to   >=\n",
    "### not equal to           !=\n",
    "### equal t0               ==\n"
   ]
  },
  {
   "cell_type": "code",
   "execution_count": 5,
   "id": "62af0e8a",
   "metadata": {},
   "outputs": [
    {
     "data": {
      "text/plain": [
       "False"
      ]
     },
     "execution_count": 5,
     "metadata": {},
     "output_type": "execute_result"
    }
   ],
   "source": [
    "3 >= 4"
   ]
  },
  {
   "cell_type": "markdown",
   "id": "88f83684",
   "metadata": {},
   "source": [
    "use the colon sign after a condition to end the statement after using a keyword\n",
    "    "
   ]
  },
  {
   "cell_type": "code",
   "execution_count": 6,
   "id": "6278a1b3",
   "metadata": {},
   "outputs": [
    {
     "name": "stdout",
     "output_type": "stream",
     "text": [
      "they match\n"
     ]
    }
   ],
   "source": [
    "if 3 == 3:\n",
    "    print(\"they match\")"
   ]
  },
  {
   "cell_type": "code",
   "execution_count": 7,
   "id": "fbb1aa98",
   "metadata": {},
   "outputs": [
    {
     "name": "stdout",
     "output_type": "stream",
     "text": [
      "they match\n",
      "i will still display\n"
     ]
    }
   ],
   "source": [
    "if 3 == 3:\n",
    "    print(\"they match\")\n",
    "print(\"i will still display\")"
   ]
  },
  {
   "cell_type": "markdown",
   "id": "7e61ee2a",
   "metadata": {},
   "source": [
    "else statement will display if the condition in the if statement is not met"
   ]
  },
  {
   "cell_type": "code",
   "execution_count": 8,
   "id": "56d48582",
   "metadata": {},
   "outputs": [
    {
     "name": "stdout",
     "output_type": "stream",
     "text": [
      "they match\n"
     ]
    }
   ],
   "source": [
    "username=\"mike\"\n",
    "new_username=\"mike\"\n",
    "if username==new_username:\n",
    "    print(\"they match\")\n",
    "else:\n",
    "    print(\"invalid\")"
   ]
  },
  {
   "cell_type": "markdown",
   "id": "d143ceb6",
   "metadata": {},
   "source": [
    "elif statement will display if the previous condition is not met\n",
    "elif statement keeps checking other conditions until it gets to else"
   ]
  },
  {
   "cell_type": "code",
   "execution_count": 9,
   "id": "3f99ff4a",
   "metadata": {},
   "outputs": [
    {
     "name": "stdout",
     "output_type": "stream",
     "text": [
      "welcome, password match\n"
     ]
    }
   ],
   "source": [
    "email = \"tayo123@gmail.com\"\n",
    "email2 = \"mikegreat@gmail.com\"\n",
    "password = 1234\n",
    "password2 = 1234\n",
    "\n",
    "if email==email2:\n",
    "    print(\"welcome\")\n",
    "elif password == password2:\n",
    "    print(\"welcome, password match\")\n",
    "else:\n",
    "    print(\"go bacK\")"
   ]
  },
  {
   "cell_type": "code",
   "execution_count": 10,
   "id": "ec6aa164",
   "metadata": {},
   "outputs": [
    {
     "name": "stdout",
     "output_type": "stream",
     "text": [
      "C\n"
     ]
    }
   ],
   "source": [
    "#check grades of students\n",
    "\n",
    "maths = 50\n",
    "\n",
    "if maths > 90:\n",
    "    print(\"A\")\n",
    "elif maths == 90:\n",
    "    print(\"B\")\n",
    "elif maths < 90:\n",
    "    print(\"C\")\n",
    "else:\n",
    "    print(\"fail\")"
   ]
  },
  {
   "cell_type": "code",
   "execution_count": 11,
   "id": "2300ef18",
   "metadata": {},
   "outputs": [
    {
     "name": "stdout",
     "output_type": "stream",
     "text": [
      "D\n"
     ]
    }
   ],
   "source": [
    "#checking grades 2- and keyword\n",
    "\n",
    "english = 40\n",
    "\n",
    "if english >=70 and english <=100:\n",
    "    print(\"A\")\n",
    "elif english >=60 and english <70:\n",
    "    print(\"B\")\n",
    "elif english >=50 and english <50:\n",
    "    print(\"c\")\n",
    "elif english >=30 and english <=40:\n",
    "    print(\"D\")\n",
    "else:\n",
    "    print(\"fail\")\n",
    "    "
   ]
  },
  {
   "cell_type": "code",
   "execution_count": 12,
   "id": "11570e05",
   "metadata": {},
   "outputs": [
    {
     "name": "stdout",
     "output_type": "stream",
     "text": [
      "enter your score70\n",
      "A\n"
     ]
    }
   ],
   "source": [
    "#using input functions\n",
    "#input function is used to accept data from server\n",
    "\n",
    "english = int(input(\"enter your score\"))\n",
    "\n",
    "if english >=70 and english <=100:\n",
    "    print(\"A\")\n",
    "elif english >=60 and english <70:\n",
    "    print(\"B\")\n",
    "elif english >=50 and english <50:\n",
    "    print(\"c\")\n",
    "elif english >=30 and english <=40:\n",
    "    print(\"D\")\n",
    "else:\n",
    "    print(\"fail\")\n",
    "    "
   ]
  },
  {
   "cell_type": "markdown",
   "id": "c365693c",
   "metadata": {},
   "source": [
    "# python functions"
   ]
  },
  {
   "cell_type": "markdown",
   "id": "4958bbb8",
   "metadata": {},
   "source": [
    "#user defined function\n",
    "#user defined function is used when a user wants to define his/her own function\n",
    "#functions are created to make our coding simple and effective\n",
    "#we use the def function to create a userdefined function\n",
    "#functions may have parameters or they may not have\n"
   ]
  },
  {
   "cell_type": "code",
   "execution_count": 15,
   "id": "99b5b401",
   "metadata": {},
   "outputs": [
    {
     "name": "stdout",
     "output_type": "stream",
     "text": [
      "daniel\n",
      "gloria\n"
     ]
    }
   ],
   "source": [
    "def staff():\n",
    "    print(\"daniel\")\n",
    "    print(\"gloria\")\n",
    "staff()"
   ]
  },
  {
   "cell_type": "code",
   "execution_count": 19,
   "id": "117a873b",
   "metadata": {},
   "outputs": [
    {
     "name": "stdout",
     "output_type": "stream",
     "text": [
      "moni loves football\n",
      "david loves football\n"
     ]
    }
   ],
   "source": [
    "#parameters and arguments\n",
    "\n",
    "#parameters and arguments are stored in the paranthesis,\n",
    "#when a function is created you can add a parameter\n",
    "\n",
    "def games(fun=\"football\"):\n",
    "    print(\"moni loves\",fun)\n",
    "    print(\"david loves\", fun)\n",
    "games()"
   ]
  },
  {
   "cell_type": "code",
   "execution_count": 26,
   "id": "65e01beb",
   "metadata": {},
   "outputs": [
    {
     "name": "stdout",
     "output_type": "stream",
     "text": [
      "david loves football\n",
      "lynda loves football\n"
     ]
    }
   ],
   "source": [
    "def games(y):\n",
    "    print(\"david loves\", y)\n",
    "    print(\"lynda loves\",y)\n",
    "games(\"football\")"
   ]
  },
  {
   "cell_type": "code",
   "execution_count": 27,
   "id": "35ddd221",
   "metadata": {},
   "outputs": [
    {
     "data": {
      "text/plain": [
       "1000"
      ]
     },
     "execution_count": 27,
     "metadata": {},
     "output_type": "execute_result"
    }
   ],
   "source": [
    "#return keyword is used to return a value\n",
    "\n",
    "def num():\n",
    "    return 1000\n",
    "num()"
   ]
  },
  {
   "cell_type": "code",
   "execution_count": 28,
   "id": "277a3142",
   "metadata": {},
   "outputs": [
    {
     "name": "stdout",
     "output_type": "stream",
     "text": [
      "1000\n"
     ]
    }
   ],
   "source": [
    "def goal():\n",
    "    print(1000)\n",
    "goal()"
   ]
  },
  {
   "cell_type": "code",
   "execution_count": 29,
   "id": "7f5bd6c5",
   "metadata": {},
   "outputs": [
    {
     "data": {
      "text/plain": [
       "['dave', 'gloria']"
      ]
     },
     "execution_count": 29,
     "metadata": {},
     "output_type": "execute_result"
    }
   ],
   "source": [
    "def kids():\n",
    "    return [\"dave\",\"gloria\"]\n",
    "kids()"
   ]
  },
  {
   "cell_type": "code",
   "execution_count": 31,
   "id": "74c071cf",
   "metadata": {},
   "outputs": [
    {
     "data": {
      "text/plain": [
       "4"
      ]
     },
     "execution_count": 31,
     "metadata": {},
     "output_type": "execute_result"
    }
   ],
   "source": [
    "def numbers(r=4):\n",
    "    return r\n",
    "numbers()\n"
   ]
  },
  {
   "cell_type": "code",
   "execution_count": 32,
   "id": "71d3e0dd",
   "metadata": {},
   "outputs": [
    {
     "name": "stdout",
     "output_type": "stream",
     "text": [
      "15\n",
      "30\n",
      "40\n"
     ]
    }
   ],
   "source": [
    "def numbers(t):\n",
    "    return t*5\n",
    "print(numbers(3))\n",
    "print(numbers(6))\n",
    "print(numbers(8))\n"
   ]
  },
  {
   "cell_type": "code",
   "execution_count": null,
   "id": "1d056f41",
   "metadata": {},
   "outputs": [],
   "source": []
  }
 ],
 "metadata": {
  "kernelspec": {
   "display_name": "Python 3",
   "language": "python",
   "name": "python3"
  },
  "language_info": {
   "codemirror_mode": {
    "name": "ipython",
    "version": 3
   },
   "file_extension": ".py",
   "mimetype": "text/x-python",
   "name": "python",
   "nbconvert_exporter": "python",
   "pygments_lexer": "ipython3",
   "version": "3.8.8"
  }
 },
 "nbformat": 4,
 "nbformat_minor": 5
}
