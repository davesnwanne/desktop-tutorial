{
 "cells": [
  {
   "cell_type": "code",
   "execution_count": 1,
   "id": "3ef5f0de",
   "metadata": {},
   "outputs": [],
   "source": [
    "import pandas as pd\n",
    "data1=pd.read_excel(\"orders 1.xlsx\")\n",
    "data2=pd.read_excel(\"orders 2.xlsx\")"
   ]
  },
  {
   "cell_type": "markdown",
   "id": "66154e29",
   "metadata": {},
   "source": [
    "# concat is used to merge two dataframes together"
   ]
  },
  {
   "cell_type": "code",
   "execution_count": 9,
   "id": "8c91a8d7",
   "metadata": {},
   "outputs": [],
   "source": [
    "pd.concat([data1, data2], axis=0, ignore_index=True)\n",
    "\n",
    "#axis=0 means that it will concat it vertically(on top of each other)\n",
    "# horizintally( side by side) axis=1\n",
    "combined_vertical=pd.concat([data1, data2], axis=0, ignore_index=True)"
   ]
  },
  {
   "cell_type": "code",
   "execution_count": 10,
   "id": "678c0920",
   "metadata": {},
   "outputs": [
    {
     "data": {
      "text/html": [
       "<div>\n",
       "<style scoped>\n",
       "    .dataframe tbody tr th:only-of-type {\n",
       "        vertical-align: middle;\n",
       "    }\n",
       "\n",
       "    .dataframe tbody tr th {\n",
       "        vertical-align: top;\n",
       "    }\n",
       "\n",
       "    .dataframe thead th {\n",
       "        text-align: right;\n",
       "    }\n",
       "</style>\n",
       "<table border=\"1\" class=\"dataframe\">\n",
       "  <thead>\n",
       "    <tr style=\"text-align: right;\">\n",
       "      <th></th>\n",
       "      <th>Order no.</th>\n",
       "      <th>Date</th>\n",
       "      <th>Driver's name</th>\n",
       "      <th>Item</th>\n",
       "      <th>Number of items</th>\n",
       "      <th>Transport</th>\n",
       "      <th>Destination</th>\n",
       "    </tr>\n",
       "  </thead>\n",
       "  <tbody>\n",
       "    <tr>\n",
       "      <th>0</th>\n",
       "      <td>100001</td>\n",
       "      <td>2013-02-01</td>\n",
       "      <td>John May</td>\n",
       "      <td>TV</td>\n",
       "      <td>25</td>\n",
       "      <td>truck 4</td>\n",
       "      <td>Boston</td>\n",
       "    </tr>\n",
       "    <tr>\n",
       "      <th>1</th>\n",
       "      <td>100002</td>\n",
       "      <td>2013-02-01</td>\n",
       "      <td>Peter White</td>\n",
       "      <td>washing machine</td>\n",
       "      <td>30</td>\n",
       "      <td>truck 3</td>\n",
       "      <td>NY</td>\n",
       "    </tr>\n",
       "    <tr>\n",
       "      <th>2</th>\n",
       "      <td>100003</td>\n",
       "      <td>2013-02-02</td>\n",
       "      <td>Carl Nowak</td>\n",
       "      <td>washing machine</td>\n",
       "      <td>15</td>\n",
       "      <td>truck 3</td>\n",
       "      <td>Philadelphia</td>\n",
       "    </tr>\n",
       "    <tr>\n",
       "      <th>3</th>\n",
       "      <td>100004</td>\n",
       "      <td>2013-02-03</td>\n",
       "      <td>Peter White</td>\n",
       "      <td>TV</td>\n",
       "      <td>32</td>\n",
       "      <td>truck 4</td>\n",
       "      <td>NY</td>\n",
       "    </tr>\n",
       "    <tr>\n",
       "      <th>4</th>\n",
       "      <td>100005</td>\n",
       "      <td>2013-02-03</td>\n",
       "      <td>George Ramsay</td>\n",
       "      <td>refrigerator</td>\n",
       "      <td>25</td>\n",
       "      <td>truck 3</td>\n",
       "      <td>Boston</td>\n",
       "    </tr>\n",
       "    <tr>\n",
       "      <th>5</th>\n",
       "      <td>100006</td>\n",
       "      <td>2013-02-03</td>\n",
       "      <td>Carl Nowak</td>\n",
       "      <td>washing machine</td>\n",
       "      <td>18</td>\n",
       "      <td>truck 1</td>\n",
       "      <td>Baltimore</td>\n",
       "    </tr>\n",
       "    <tr>\n",
       "      <th>6</th>\n",
       "      <td>100007</td>\n",
       "      <td>2013-02-03</td>\n",
       "      <td>John May</td>\n",
       "      <td>refrigerator</td>\n",
       "      <td>15</td>\n",
       "      <td>truck 2</td>\n",
       "      <td>Philadelphia</td>\n",
       "    </tr>\n",
       "    <tr>\n",
       "      <th>7</th>\n",
       "      <td>100008</td>\n",
       "      <td>2013-02-04</td>\n",
       "      <td>Carl Nowak</td>\n",
       "      <td>refrigerator</td>\n",
       "      <td>25</td>\n",
       "      <td>truck 3</td>\n",
       "      <td>Baltimore</td>\n",
       "    </tr>\n",
       "    <tr>\n",
       "      <th>8</th>\n",
       "      <td>100009</td>\n",
       "      <td>2013-02-04</td>\n",
       "      <td>Peter White</td>\n",
       "      <td>TV</td>\n",
       "      <td>30</td>\n",
       "      <td>truck 1</td>\n",
       "      <td>Michigan</td>\n",
       "    </tr>\n",
       "    <tr>\n",
       "      <th>9</th>\n",
       "      <td>100010</td>\n",
       "      <td>2013-02-04</td>\n",
       "      <td>George Ramsay</td>\n",
       "      <td>refrigerator</td>\n",
       "      <td>15</td>\n",
       "      <td>truck 2</td>\n",
       "      <td>NY</td>\n",
       "    </tr>\n",
       "    <tr>\n",
       "      <th>10</th>\n",
       "      <td>100011</td>\n",
       "      <td>2013-02-04</td>\n",
       "      <td>Mertl Pavel</td>\n",
       "      <td>microwave</td>\n",
       "      <td>25</td>\n",
       "      <td>truck 3</td>\n",
       "      <td>Philadelphia</td>\n",
       "    </tr>\n",
       "    <tr>\n",
       "      <th>11</th>\n",
       "      <td>100012</td>\n",
       "      <td>2013-02-04</td>\n",
       "      <td>John May</td>\n",
       "      <td>washing machine</td>\n",
       "      <td>14</td>\n",
       "      <td>truck 4</td>\n",
       "      <td>NY</td>\n",
       "    </tr>\n",
       "    <tr>\n",
       "      <th>12</th>\n",
       "      <td>100013</td>\n",
       "      <td>2013-02-05</td>\n",
       "      <td>John May</td>\n",
       "      <td>washing machine</td>\n",
       "      <td>25</td>\n",
       "      <td>airplane</td>\n",
       "      <td>Baltimore</td>\n",
       "    </tr>\n",
       "    <tr>\n",
       "      <th>13</th>\n",
       "      <td>100014</td>\n",
       "      <td>2013-02-05</td>\n",
       "      <td>Carl Nowak</td>\n",
       "      <td>TV</td>\n",
       "      <td>30</td>\n",
       "      <td>truck 4</td>\n",
       "      <td>Philadelphia</td>\n",
       "    </tr>\n",
       "    <tr>\n",
       "      <th>14</th>\n",
       "      <td>100015</td>\n",
       "      <td>2013-02-05</td>\n",
       "      <td>George Ramsay</td>\n",
       "      <td>microwave</td>\n",
       "      <td>15</td>\n",
       "      <td>truck 3</td>\n",
       "      <td>Boston</td>\n",
       "    </tr>\n",
       "    <tr>\n",
       "      <th>15</th>\n",
       "      <td>100016</td>\n",
       "      <td>2013-02-05</td>\n",
       "      <td>Peter White</td>\n",
       "      <td>TV</td>\n",
       "      <td>15</td>\n",
       "      <td>truck 1</td>\n",
       "      <td>Michigan</td>\n",
       "    </tr>\n",
       "    <tr>\n",
       "      <th>16</th>\n",
       "      <td>100017</td>\n",
       "      <td>2013-02-06</td>\n",
       "      <td>John May</td>\n",
       "      <td>microwave</td>\n",
       "      <td>25</td>\n",
       "      <td>truck 1</td>\n",
       "      <td>NY</td>\n",
       "    </tr>\n",
       "    <tr>\n",
       "      <th>17</th>\n",
       "      <td>100018</td>\n",
       "      <td>2013-02-07</td>\n",
       "      <td>John May</td>\n",
       "      <td>TV</td>\n",
       "      <td>30</td>\n",
       "      <td>truck 4</td>\n",
       "      <td>Philadelphia</td>\n",
       "    </tr>\n",
       "    <tr>\n",
       "      <th>18</th>\n",
       "      <td>100019</td>\n",
       "      <td>2013-02-08</td>\n",
       "      <td>George Ramsay</td>\n",
       "      <td>washing machine</td>\n",
       "      <td>13</td>\n",
       "      <td>truck 3</td>\n",
       "      <td>Baltimore</td>\n",
       "    </tr>\n",
       "    <tr>\n",
       "      <th>19</th>\n",
       "      <td>100020</td>\n",
       "      <td>2013-02-08</td>\n",
       "      <td>Peter White</td>\n",
       "      <td>refrigerator</td>\n",
       "      <td>25</td>\n",
       "      <td>truck 2</td>\n",
       "      <td>Philadelphia</td>\n",
       "    </tr>\n",
       "    <tr>\n",
       "      <th>20</th>\n",
       "      <td>100021</td>\n",
       "      <td>2013-02-08</td>\n",
       "      <td>Carl Nowak</td>\n",
       "      <td>microwave</td>\n",
       "      <td>30</td>\n",
       "      <td>truck 1</td>\n",
       "      <td>Michigan</td>\n",
       "    </tr>\n",
       "    <tr>\n",
       "      <th>21</th>\n",
       "      <td>100022</td>\n",
       "      <td>2013-02-08</td>\n",
       "      <td>Peter White</td>\n",
       "      <td>washing machine</td>\n",
       "      <td>15</td>\n",
       "      <td>airplane</td>\n",
       "      <td>NY</td>\n",
       "    </tr>\n",
       "    <tr>\n",
       "      <th>22</th>\n",
       "      <td>100023</td>\n",
       "      <td>2013-02-08</td>\n",
       "      <td>John May</td>\n",
       "      <td>microwave</td>\n",
       "      <td>25</td>\n",
       "      <td>truck 4</td>\n",
       "      <td>Boston</td>\n",
       "    </tr>\n",
       "    <tr>\n",
       "      <th>23</th>\n",
       "      <td>100024</td>\n",
       "      <td>2013-02-09</td>\n",
       "      <td>George Ramsay</td>\n",
       "      <td>washing machine</td>\n",
       "      <td>34</td>\n",
       "      <td>truck 3</td>\n",
       "      <td>Baltimore</td>\n",
       "    </tr>\n",
       "    <tr>\n",
       "      <th>24</th>\n",
       "      <td>100001</td>\n",
       "      <td>2013-02-01</td>\n",
       "      <td>John May</td>\n",
       "      <td>TV</td>\n",
       "      <td>25</td>\n",
       "      <td>truck 4</td>\n",
       "      <td>Boston</td>\n",
       "    </tr>\n",
       "    <tr>\n",
       "      <th>25</th>\n",
       "      <td>100002</td>\n",
       "      <td>2013-02-01</td>\n",
       "      <td>Peter White</td>\n",
       "      <td>washing machine</td>\n",
       "      <td>30</td>\n",
       "      <td>truck 3</td>\n",
       "      <td>NY</td>\n",
       "    </tr>\n",
       "    <tr>\n",
       "      <th>26</th>\n",
       "      <td>100003</td>\n",
       "      <td>2013-02-02</td>\n",
       "      <td>Carl Nowak</td>\n",
       "      <td>washing machine</td>\n",
       "      <td>15</td>\n",
       "      <td>truck 3</td>\n",
       "      <td>Philadelphia</td>\n",
       "    </tr>\n",
       "    <tr>\n",
       "      <th>27</th>\n",
       "      <td>100004</td>\n",
       "      <td>2013-02-03</td>\n",
       "      <td>Peter White</td>\n",
       "      <td>TV</td>\n",
       "      <td>32</td>\n",
       "      <td>truck 4</td>\n",
       "      <td>NY</td>\n",
       "    </tr>\n",
       "    <tr>\n",
       "      <th>28</th>\n",
       "      <td>100005</td>\n",
       "      <td>2013-02-03</td>\n",
       "      <td>George Ramsay</td>\n",
       "      <td>refrigerator</td>\n",
       "      <td>25</td>\n",
       "      <td>truck 3</td>\n",
       "      <td>Boston</td>\n",
       "    </tr>\n",
       "    <tr>\n",
       "      <th>29</th>\n",
       "      <td>100006</td>\n",
       "      <td>2013-02-03</td>\n",
       "      <td>Carl Nowak</td>\n",
       "      <td>washing machine</td>\n",
       "      <td>18</td>\n",
       "      <td>truck 1</td>\n",
       "      <td>Baltimore</td>\n",
       "    </tr>\n",
       "    <tr>\n",
       "      <th>30</th>\n",
       "      <td>100007</td>\n",
       "      <td>2013-02-03</td>\n",
       "      <td>John May</td>\n",
       "      <td>refrigerator</td>\n",
       "      <td>15</td>\n",
       "      <td>truck 2</td>\n",
       "      <td>Philadelphia</td>\n",
       "    </tr>\n",
       "    <tr>\n",
       "      <th>31</th>\n",
       "      <td>100008</td>\n",
       "      <td>2013-02-04</td>\n",
       "      <td>Carl Nowak</td>\n",
       "      <td>refrigerator</td>\n",
       "      <td>25</td>\n",
       "      <td>truck 3</td>\n",
       "      <td>Baltimore</td>\n",
       "    </tr>\n",
       "    <tr>\n",
       "      <th>32</th>\n",
       "      <td>100009</td>\n",
       "      <td>2013-02-04</td>\n",
       "      <td>Peter White</td>\n",
       "      <td>TV</td>\n",
       "      <td>30</td>\n",
       "      <td>truck 1</td>\n",
       "      <td>Michigan</td>\n",
       "    </tr>\n",
       "    <tr>\n",
       "      <th>33</th>\n",
       "      <td>100010</td>\n",
       "      <td>2013-02-04</td>\n",
       "      <td>George Ramsay</td>\n",
       "      <td>refrigerator</td>\n",
       "      <td>15</td>\n",
       "      <td>truck 2</td>\n",
       "      <td>NY</td>\n",
       "    </tr>\n",
       "    <tr>\n",
       "      <th>34</th>\n",
       "      <td>100011</td>\n",
       "      <td>2013-02-04</td>\n",
       "      <td>Mertl Pavel</td>\n",
       "      <td>microwave</td>\n",
       "      <td>25</td>\n",
       "      <td>truck 3</td>\n",
       "      <td>Philadelphia</td>\n",
       "    </tr>\n",
       "    <tr>\n",
       "      <th>35</th>\n",
       "      <td>100012</td>\n",
       "      <td>2013-02-04</td>\n",
       "      <td>John May</td>\n",
       "      <td>washing machine</td>\n",
       "      <td>14</td>\n",
       "      <td>truck 4</td>\n",
       "      <td>NY</td>\n",
       "    </tr>\n",
       "    <tr>\n",
       "      <th>36</th>\n",
       "      <td>100013</td>\n",
       "      <td>2013-02-05</td>\n",
       "      <td>John May</td>\n",
       "      <td>washing machine</td>\n",
       "      <td>25</td>\n",
       "      <td>airplane</td>\n",
       "      <td>Baltimore</td>\n",
       "    </tr>\n",
       "    <tr>\n",
       "      <th>37</th>\n",
       "      <td>100014</td>\n",
       "      <td>2013-02-05</td>\n",
       "      <td>Carl Nowak</td>\n",
       "      <td>TV</td>\n",
       "      <td>30</td>\n",
       "      <td>truck 4</td>\n",
       "      <td>Philadelphia</td>\n",
       "    </tr>\n",
       "    <tr>\n",
       "      <th>38</th>\n",
       "      <td>100015</td>\n",
       "      <td>2013-02-05</td>\n",
       "      <td>George Ramsay</td>\n",
       "      <td>microwave</td>\n",
       "      <td>15</td>\n",
       "      <td>truck 3</td>\n",
       "      <td>Boston</td>\n",
       "    </tr>\n",
       "    <tr>\n",
       "      <th>39</th>\n",
       "      <td>100016</td>\n",
       "      <td>2013-02-05</td>\n",
       "      <td>Peter White</td>\n",
       "      <td>TV</td>\n",
       "      <td>15</td>\n",
       "      <td>truck 1</td>\n",
       "      <td>Michigan</td>\n",
       "    </tr>\n",
       "    <tr>\n",
       "      <th>40</th>\n",
       "      <td>100017</td>\n",
       "      <td>2013-02-06</td>\n",
       "      <td>John May</td>\n",
       "      <td>microwave</td>\n",
       "      <td>25</td>\n",
       "      <td>truck 1</td>\n",
       "      <td>NY</td>\n",
       "    </tr>\n",
       "    <tr>\n",
       "      <th>41</th>\n",
       "      <td>100018</td>\n",
       "      <td>2013-02-07</td>\n",
       "      <td>John May</td>\n",
       "      <td>TV</td>\n",
       "      <td>30</td>\n",
       "      <td>truck 4</td>\n",
       "      <td>Philadelphia</td>\n",
       "    </tr>\n",
       "    <tr>\n",
       "      <th>42</th>\n",
       "      <td>100019</td>\n",
       "      <td>2013-02-08</td>\n",
       "      <td>George Ramsay</td>\n",
       "      <td>washing machine</td>\n",
       "      <td>13</td>\n",
       "      <td>truck 3</td>\n",
       "      <td>Baltimore</td>\n",
       "    </tr>\n",
       "    <tr>\n",
       "      <th>43</th>\n",
       "      <td>100020</td>\n",
       "      <td>2013-02-08</td>\n",
       "      <td>Peter White</td>\n",
       "      <td>refrigerator</td>\n",
       "      <td>25</td>\n",
       "      <td>truck 2</td>\n",
       "      <td>Philadelphia</td>\n",
       "    </tr>\n",
       "    <tr>\n",
       "      <th>44</th>\n",
       "      <td>100021</td>\n",
       "      <td>2013-02-08</td>\n",
       "      <td>Carl Nowak</td>\n",
       "      <td>microwave</td>\n",
       "      <td>30</td>\n",
       "      <td>truck 1</td>\n",
       "      <td>Michigan</td>\n",
       "    </tr>\n",
       "    <tr>\n",
       "      <th>45</th>\n",
       "      <td>100022</td>\n",
       "      <td>2013-02-08</td>\n",
       "      <td>Peter White</td>\n",
       "      <td>washing machine</td>\n",
       "      <td>15</td>\n",
       "      <td>airplane</td>\n",
       "      <td>NY</td>\n",
       "    </tr>\n",
       "    <tr>\n",
       "      <th>46</th>\n",
       "      <td>100023</td>\n",
       "      <td>2013-02-08</td>\n",
       "      <td>John May</td>\n",
       "      <td>microwave</td>\n",
       "      <td>25</td>\n",
       "      <td>truck 4</td>\n",
       "      <td>Boston</td>\n",
       "    </tr>\n",
       "    <tr>\n",
       "      <th>47</th>\n",
       "      <td>100024</td>\n",
       "      <td>2013-02-09</td>\n",
       "      <td>George Ramsay</td>\n",
       "      <td>washing machine</td>\n",
       "      <td>34</td>\n",
       "      <td>truck 3</td>\n",
       "      <td>Baltimore</td>\n",
       "    </tr>\n",
       "  </tbody>\n",
       "</table>\n",
       "</div>"
      ],
      "text/plain": [
       "    Order no.       Date  Driver's name             Item  Number of items  \\\n",
       "0      100001 2013-02-01       John May               TV               25   \n",
       "1      100002 2013-02-01    Peter White  washing machine               30   \n",
       "2      100003 2013-02-02     Carl Nowak  washing machine               15   \n",
       "3      100004 2013-02-03    Peter White               TV               32   \n",
       "4      100005 2013-02-03  George Ramsay     refrigerator               25   \n",
       "5      100006 2013-02-03     Carl Nowak  washing machine               18   \n",
       "6      100007 2013-02-03       John May     refrigerator               15   \n",
       "7      100008 2013-02-04     Carl Nowak     refrigerator               25   \n",
       "8      100009 2013-02-04    Peter White               TV               30   \n",
       "9      100010 2013-02-04  George Ramsay     refrigerator               15   \n",
       "10     100011 2013-02-04    Mertl Pavel        microwave               25   \n",
       "11     100012 2013-02-04       John May  washing machine               14   \n",
       "12     100013 2013-02-05       John May  washing machine               25   \n",
       "13     100014 2013-02-05     Carl Nowak               TV               30   \n",
       "14     100015 2013-02-05  George Ramsay        microwave               15   \n",
       "15     100016 2013-02-05    Peter White               TV               15   \n",
       "16     100017 2013-02-06       John May        microwave               25   \n",
       "17     100018 2013-02-07       John May               TV               30   \n",
       "18     100019 2013-02-08  George Ramsay  washing machine               13   \n",
       "19     100020 2013-02-08    Peter White     refrigerator               25   \n",
       "20     100021 2013-02-08     Carl Nowak        microwave               30   \n",
       "21     100022 2013-02-08    Peter White  washing machine               15   \n",
       "22     100023 2013-02-08       John May        microwave               25   \n",
       "23     100024 2013-02-09  George Ramsay  washing machine               34   \n",
       "24     100001 2013-02-01       John May               TV               25   \n",
       "25     100002 2013-02-01    Peter White  washing machine               30   \n",
       "26     100003 2013-02-02     Carl Nowak  washing machine               15   \n",
       "27     100004 2013-02-03    Peter White               TV               32   \n",
       "28     100005 2013-02-03  George Ramsay     refrigerator               25   \n",
       "29     100006 2013-02-03     Carl Nowak  washing machine               18   \n",
       "30     100007 2013-02-03       John May     refrigerator               15   \n",
       "31     100008 2013-02-04     Carl Nowak     refrigerator               25   \n",
       "32     100009 2013-02-04    Peter White               TV               30   \n",
       "33     100010 2013-02-04  George Ramsay     refrigerator               15   \n",
       "34     100011 2013-02-04    Mertl Pavel        microwave               25   \n",
       "35     100012 2013-02-04       John May  washing machine               14   \n",
       "36     100013 2013-02-05       John May  washing machine               25   \n",
       "37     100014 2013-02-05     Carl Nowak               TV               30   \n",
       "38     100015 2013-02-05  George Ramsay        microwave               15   \n",
       "39     100016 2013-02-05    Peter White               TV               15   \n",
       "40     100017 2013-02-06       John May        microwave               25   \n",
       "41     100018 2013-02-07       John May               TV               30   \n",
       "42     100019 2013-02-08  George Ramsay  washing machine               13   \n",
       "43     100020 2013-02-08    Peter White     refrigerator               25   \n",
       "44     100021 2013-02-08     Carl Nowak        microwave               30   \n",
       "45     100022 2013-02-08    Peter White  washing machine               15   \n",
       "46     100023 2013-02-08       John May        microwave               25   \n",
       "47     100024 2013-02-09  George Ramsay  washing machine               34   \n",
       "\n",
       "   Transport   Destination  \n",
       "0    truck 4        Boston  \n",
       "1    truck 3            NY  \n",
       "2    truck 3  Philadelphia  \n",
       "3    truck 4            NY  \n",
       "4    truck 3        Boston  \n",
       "5    truck 1     Baltimore  \n",
       "6    truck 2  Philadelphia  \n",
       "7    truck 3     Baltimore  \n",
       "8    truck 1      Michigan  \n",
       "9    truck 2            NY  \n",
       "10   truck 3  Philadelphia  \n",
       "11   truck 4            NY  \n",
       "12  airplane     Baltimore  \n",
       "13   truck 4  Philadelphia  \n",
       "14   truck 3        Boston  \n",
       "15   truck 1      Michigan  \n",
       "16   truck 1            NY  \n",
       "17   truck 4  Philadelphia  \n",
       "18   truck 3     Baltimore  \n",
       "19   truck 2  Philadelphia  \n",
       "20   truck 1      Michigan  \n",
       "21  airplane            NY  \n",
       "22   truck 4        Boston  \n",
       "23   truck 3     Baltimore  \n",
       "24   truck 4        Boston  \n",
       "25   truck 3            NY  \n",
       "26   truck 3  Philadelphia  \n",
       "27   truck 4            NY  \n",
       "28   truck 3        Boston  \n",
       "29   truck 1     Baltimore  \n",
       "30   truck 2  Philadelphia  \n",
       "31   truck 3     Baltimore  \n",
       "32   truck 1      Michigan  \n",
       "33   truck 2            NY  \n",
       "34   truck 3  Philadelphia  \n",
       "35   truck 4            NY  \n",
       "36  airplane     Baltimore  \n",
       "37   truck 4  Philadelphia  \n",
       "38   truck 3        Boston  \n",
       "39   truck 1      Michigan  \n",
       "40   truck 1            NY  \n",
       "41   truck 4  Philadelphia  \n",
       "42   truck 3     Baltimore  \n",
       "43   truck 2  Philadelphia  \n",
       "44   truck 1      Michigan  \n",
       "45  airplane            NY  \n",
       "46   truck 4        Boston  \n",
       "47   truck 3     Baltimore  "
      ]
     },
     "execution_count": 10,
     "metadata": {},
     "output_type": "execute_result"
    }
   ],
   "source": [
    "combined_vertical"
   ]
  },
  {
   "cell_type": "code",
   "execution_count": 18,
   "id": "f6e45751",
   "metadata": {},
   "outputs": [
    {
     "data": {
      "text/html": [
       "<div>\n",
       "<style scoped>\n",
       "    .dataframe tbody tr th:only-of-type {\n",
       "        vertical-align: middle;\n",
       "    }\n",
       "\n",
       "    .dataframe tbody tr th {\n",
       "        vertical-align: top;\n",
       "    }\n",
       "\n",
       "    .dataframe thead th {\n",
       "        text-align: right;\n",
       "    }\n",
       "</style>\n",
       "<table border=\"1\" class=\"dataframe\">\n",
       "  <thead>\n",
       "    <tr style=\"text-align: right;\">\n",
       "      <th></th>\n",
       "      <th>Order no.</th>\n",
       "      <th>Date</th>\n",
       "      <th>Driver's name</th>\n",
       "      <th>Item</th>\n",
       "      <th>Number of items</th>\n",
       "      <th>Transport</th>\n",
       "      <th>Destination</th>\n",
       "    </tr>\n",
       "  </thead>\n",
       "  <tbody>\n",
       "    <tr>\n",
       "      <th>0</th>\n",
       "      <td>100001</td>\n",
       "      <td>2013-02-01</td>\n",
       "      <td>John May</td>\n",
       "      <td>TV</td>\n",
       "      <td>25</td>\n",
       "      <td>truck 4</td>\n",
       "      <td>Boston</td>\n",
       "    </tr>\n",
       "    <tr>\n",
       "      <th>6</th>\n",
       "      <td>100007</td>\n",
       "      <td>2013-02-03</td>\n",
       "      <td>John May</td>\n",
       "      <td>refrigerator</td>\n",
       "      <td>15</td>\n",
       "      <td>truck 2</td>\n",
       "      <td>Philadelphia</td>\n",
       "    </tr>\n",
       "    <tr>\n",
       "      <th>11</th>\n",
       "      <td>100012</td>\n",
       "      <td>2013-02-04</td>\n",
       "      <td>John May</td>\n",
       "      <td>washing machine</td>\n",
       "      <td>14</td>\n",
       "      <td>truck 4</td>\n",
       "      <td>NY</td>\n",
       "    </tr>\n",
       "    <tr>\n",
       "      <th>12</th>\n",
       "      <td>100013</td>\n",
       "      <td>2013-02-05</td>\n",
       "      <td>John May</td>\n",
       "      <td>washing machine</td>\n",
       "      <td>25</td>\n",
       "      <td>airplane</td>\n",
       "      <td>Baltimore</td>\n",
       "    </tr>\n",
       "    <tr>\n",
       "      <th>16</th>\n",
       "      <td>100017</td>\n",
       "      <td>2013-02-06</td>\n",
       "      <td>John May</td>\n",
       "      <td>microwave</td>\n",
       "      <td>25</td>\n",
       "      <td>truck 1</td>\n",
       "      <td>NY</td>\n",
       "    </tr>\n",
       "    <tr>\n",
       "      <th>17</th>\n",
       "      <td>100018</td>\n",
       "      <td>2013-02-07</td>\n",
       "      <td>John May</td>\n",
       "      <td>TV</td>\n",
       "      <td>30</td>\n",
       "      <td>truck 4</td>\n",
       "      <td>Philadelphia</td>\n",
       "    </tr>\n",
       "    <tr>\n",
       "      <th>22</th>\n",
       "      <td>100023</td>\n",
       "      <td>2013-02-08</td>\n",
       "      <td>John May</td>\n",
       "      <td>microwave</td>\n",
       "      <td>25</td>\n",
       "      <td>truck 4</td>\n",
       "      <td>Boston</td>\n",
       "    </tr>\n",
       "    <tr>\n",
       "      <th>24</th>\n",
       "      <td>100001</td>\n",
       "      <td>2013-02-01</td>\n",
       "      <td>John May</td>\n",
       "      <td>TV</td>\n",
       "      <td>25</td>\n",
       "      <td>truck 4</td>\n",
       "      <td>Boston</td>\n",
       "    </tr>\n",
       "    <tr>\n",
       "      <th>30</th>\n",
       "      <td>100007</td>\n",
       "      <td>2013-02-03</td>\n",
       "      <td>John May</td>\n",
       "      <td>refrigerator</td>\n",
       "      <td>15</td>\n",
       "      <td>truck 2</td>\n",
       "      <td>Philadelphia</td>\n",
       "    </tr>\n",
       "    <tr>\n",
       "      <th>35</th>\n",
       "      <td>100012</td>\n",
       "      <td>2013-02-04</td>\n",
       "      <td>John May</td>\n",
       "      <td>washing machine</td>\n",
       "      <td>14</td>\n",
       "      <td>truck 4</td>\n",
       "      <td>NY</td>\n",
       "    </tr>\n",
       "    <tr>\n",
       "      <th>36</th>\n",
       "      <td>100013</td>\n",
       "      <td>2013-02-05</td>\n",
       "      <td>John May</td>\n",
       "      <td>washing machine</td>\n",
       "      <td>25</td>\n",
       "      <td>airplane</td>\n",
       "      <td>Baltimore</td>\n",
       "    </tr>\n",
       "    <tr>\n",
       "      <th>40</th>\n",
       "      <td>100017</td>\n",
       "      <td>2013-02-06</td>\n",
       "      <td>John May</td>\n",
       "      <td>microwave</td>\n",
       "      <td>25</td>\n",
       "      <td>truck 1</td>\n",
       "      <td>NY</td>\n",
       "    </tr>\n",
       "    <tr>\n",
       "      <th>41</th>\n",
       "      <td>100018</td>\n",
       "      <td>2013-02-07</td>\n",
       "      <td>John May</td>\n",
       "      <td>TV</td>\n",
       "      <td>30</td>\n",
       "      <td>truck 4</td>\n",
       "      <td>Philadelphia</td>\n",
       "    </tr>\n",
       "    <tr>\n",
       "      <th>46</th>\n",
       "      <td>100023</td>\n",
       "      <td>2013-02-08</td>\n",
       "      <td>John May</td>\n",
       "      <td>microwave</td>\n",
       "      <td>25</td>\n",
       "      <td>truck 4</td>\n",
       "      <td>Boston</td>\n",
       "    </tr>\n",
       "  </tbody>\n",
       "</table>\n",
       "</div>"
      ],
      "text/plain": [
       "    Order no.       Date Driver's name             Item  Number of items  \\\n",
       "0      100001 2013-02-01      John May               TV               25   \n",
       "6      100007 2013-02-03      John May     refrigerator               15   \n",
       "11     100012 2013-02-04      John May  washing machine               14   \n",
       "12     100013 2013-02-05      John May  washing machine               25   \n",
       "16     100017 2013-02-06      John May        microwave               25   \n",
       "17     100018 2013-02-07      John May               TV               30   \n",
       "22     100023 2013-02-08      John May        microwave               25   \n",
       "24     100001 2013-02-01      John May               TV               25   \n",
       "30     100007 2013-02-03      John May     refrigerator               15   \n",
       "35     100012 2013-02-04      John May  washing machine               14   \n",
       "36     100013 2013-02-05      John May  washing machine               25   \n",
       "40     100017 2013-02-06      John May        microwave               25   \n",
       "41     100018 2013-02-07      John May               TV               30   \n",
       "46     100023 2013-02-08      John May        microwave               25   \n",
       "\n",
       "   Transport   Destination  \n",
       "0    truck 4        Boston  \n",
       "6    truck 2  Philadelphia  \n",
       "11   truck 4            NY  \n",
       "12  airplane     Baltimore  \n",
       "16   truck 1            NY  \n",
       "17   truck 4  Philadelphia  \n",
       "22   truck 4        Boston  \n",
       "24   truck 4        Boston  \n",
       "30   truck 2  Philadelphia  \n",
       "35   truck 4            NY  \n",
       "36  airplane     Baltimore  \n",
       "40   truck 1            NY  \n",
       "41   truck 4  Philadelphia  \n",
       "46   truck 4        Boston  "
      ]
     },
     "execution_count": 18,
     "metadata": {},
     "output_type": "execute_result"
    }
   ],
   "source": [
    "combined_vertical[\"Number of items\"].sum()\n",
    "combined_vertical.loc[a]"
   ]
  },
  {
   "cell_type": "markdown",
   "id": "4a05fae1",
   "metadata": {},
   "source": [
    "# str.contains()\n",
    "\n",
    "#str is used to check if a column contains the character that matches the argument\n",
    "# works with only strings str()\n",
    "# outputs any string *related* to the requested function"
   ]
  },
  {
   "cell_type": "code",
   "execution_count": 17,
   "id": "2966dfe1",
   "metadata": {},
   "outputs": [],
   "source": [
    "a=combined_vertical[\"Driver's name\"].str.contains(\"May\")\n"
   ]
  },
  {
   "cell_type": "markdown",
   "id": "d02bfabb",
   "metadata": {},
   "source": [
    "# adding a row/index to a dataframe in a concatenated dataframe"
   ]
  },
  {
   "cell_type": "code",
   "execution_count": 20,
   "id": "91a3a5f1",
   "metadata": {},
   "outputs": [],
   "source": [
    "combined_vertical.loc[48]=[\"\",\"\",\"\",\"\",\"\",\"\",\"\"]"
   ]
  },
  {
   "cell_type": "code",
   "execution_count": 21,
   "id": "de44973e",
   "metadata": {},
   "outputs": [
    {
     "data": {
      "text/html": [
       "<div>\n",
       "<style scoped>\n",
       "    .dataframe tbody tr th:only-of-type {\n",
       "        vertical-align: middle;\n",
       "    }\n",
       "\n",
       "    .dataframe tbody tr th {\n",
       "        vertical-align: top;\n",
       "    }\n",
       "\n",
       "    .dataframe thead th {\n",
       "        text-align: right;\n",
       "    }\n",
       "</style>\n",
       "<table border=\"1\" class=\"dataframe\">\n",
       "  <thead>\n",
       "    <tr style=\"text-align: right;\">\n",
       "      <th></th>\n",
       "      <th>Order no.</th>\n",
       "      <th>Date</th>\n",
       "      <th>Driver's name</th>\n",
       "      <th>Item</th>\n",
       "      <th>Number of items</th>\n",
       "      <th>Transport</th>\n",
       "      <th>Destination</th>\n",
       "    </tr>\n",
       "  </thead>\n",
       "  <tbody>\n",
       "    <tr>\n",
       "      <th>0</th>\n",
       "      <td>100001</td>\n",
       "      <td>2013-02-01 00:00:00</td>\n",
       "      <td>John May</td>\n",
       "      <td>TV</td>\n",
       "      <td>25</td>\n",
       "      <td>truck 4</td>\n",
       "      <td>Boston</td>\n",
       "    </tr>\n",
       "    <tr>\n",
       "      <th>1</th>\n",
       "      <td>100002</td>\n",
       "      <td>2013-02-01 00:00:00</td>\n",
       "      <td>Peter White</td>\n",
       "      <td>washing machine</td>\n",
       "      <td>30</td>\n",
       "      <td>truck 3</td>\n",
       "      <td>NY</td>\n",
       "    </tr>\n",
       "    <tr>\n",
       "      <th>2</th>\n",
       "      <td>100003</td>\n",
       "      <td>2013-02-02 00:00:00</td>\n",
       "      <td>Carl Nowak</td>\n",
       "      <td>washing machine</td>\n",
       "      <td>15</td>\n",
       "      <td>truck 3</td>\n",
       "      <td>Philadelphia</td>\n",
       "    </tr>\n",
       "    <tr>\n",
       "      <th>3</th>\n",
       "      <td>100004</td>\n",
       "      <td>2013-02-03 00:00:00</td>\n",
       "      <td>Peter White</td>\n",
       "      <td>TV</td>\n",
       "      <td>32</td>\n",
       "      <td>truck 4</td>\n",
       "      <td>NY</td>\n",
       "    </tr>\n",
       "    <tr>\n",
       "      <th>4</th>\n",
       "      <td>100005</td>\n",
       "      <td>2013-02-03 00:00:00</td>\n",
       "      <td>George Ramsay</td>\n",
       "      <td>refrigerator</td>\n",
       "      <td>25</td>\n",
       "      <td>truck 3</td>\n",
       "      <td>Boston</td>\n",
       "    </tr>\n",
       "    <tr>\n",
       "      <th>5</th>\n",
       "      <td>100006</td>\n",
       "      <td>2013-02-03 00:00:00</td>\n",
       "      <td>Carl Nowak</td>\n",
       "      <td>washing machine</td>\n",
       "      <td>18</td>\n",
       "      <td>truck 1</td>\n",
       "      <td>Baltimore</td>\n",
       "    </tr>\n",
       "    <tr>\n",
       "      <th>6</th>\n",
       "      <td>100007</td>\n",
       "      <td>2013-02-03 00:00:00</td>\n",
       "      <td>John May</td>\n",
       "      <td>refrigerator</td>\n",
       "      <td>15</td>\n",
       "      <td>truck 2</td>\n",
       "      <td>Philadelphia</td>\n",
       "    </tr>\n",
       "    <tr>\n",
       "      <th>7</th>\n",
       "      <td>100008</td>\n",
       "      <td>2013-02-04 00:00:00</td>\n",
       "      <td>Carl Nowak</td>\n",
       "      <td>refrigerator</td>\n",
       "      <td>25</td>\n",
       "      <td>truck 3</td>\n",
       "      <td>Baltimore</td>\n",
       "    </tr>\n",
       "    <tr>\n",
       "      <th>8</th>\n",
       "      <td>100009</td>\n",
       "      <td>2013-02-04 00:00:00</td>\n",
       "      <td>Peter White</td>\n",
       "      <td>TV</td>\n",
       "      <td>30</td>\n",
       "      <td>truck 1</td>\n",
       "      <td>Michigan</td>\n",
       "    </tr>\n",
       "    <tr>\n",
       "      <th>9</th>\n",
       "      <td>100010</td>\n",
       "      <td>2013-02-04 00:00:00</td>\n",
       "      <td>George Ramsay</td>\n",
       "      <td>refrigerator</td>\n",
       "      <td>15</td>\n",
       "      <td>truck 2</td>\n",
       "      <td>NY</td>\n",
       "    </tr>\n",
       "    <tr>\n",
       "      <th>10</th>\n",
       "      <td>100011</td>\n",
       "      <td>2013-02-04 00:00:00</td>\n",
       "      <td>Mertl Pavel</td>\n",
       "      <td>microwave</td>\n",
       "      <td>25</td>\n",
       "      <td>truck 3</td>\n",
       "      <td>Philadelphia</td>\n",
       "    </tr>\n",
       "    <tr>\n",
       "      <th>11</th>\n",
       "      <td>100012</td>\n",
       "      <td>2013-02-04 00:00:00</td>\n",
       "      <td>John May</td>\n",
       "      <td>washing machine</td>\n",
       "      <td>14</td>\n",
       "      <td>truck 4</td>\n",
       "      <td>NY</td>\n",
       "    </tr>\n",
       "    <tr>\n",
       "      <th>12</th>\n",
       "      <td>100013</td>\n",
       "      <td>2013-02-05 00:00:00</td>\n",
       "      <td>John May</td>\n",
       "      <td>washing machine</td>\n",
       "      <td>25</td>\n",
       "      <td>airplane</td>\n",
       "      <td>Baltimore</td>\n",
       "    </tr>\n",
       "    <tr>\n",
       "      <th>13</th>\n",
       "      <td>100014</td>\n",
       "      <td>2013-02-05 00:00:00</td>\n",
       "      <td>Carl Nowak</td>\n",
       "      <td>TV</td>\n",
       "      <td>30</td>\n",
       "      <td>truck 4</td>\n",
       "      <td>Philadelphia</td>\n",
       "    </tr>\n",
       "    <tr>\n",
       "      <th>14</th>\n",
       "      <td>100015</td>\n",
       "      <td>2013-02-05 00:00:00</td>\n",
       "      <td>George Ramsay</td>\n",
       "      <td>microwave</td>\n",
       "      <td>15</td>\n",
       "      <td>truck 3</td>\n",
       "      <td>Boston</td>\n",
       "    </tr>\n",
       "    <tr>\n",
       "      <th>15</th>\n",
       "      <td>100016</td>\n",
       "      <td>2013-02-05 00:00:00</td>\n",
       "      <td>Peter White</td>\n",
       "      <td>TV</td>\n",
       "      <td>15</td>\n",
       "      <td>truck 1</td>\n",
       "      <td>Michigan</td>\n",
       "    </tr>\n",
       "    <tr>\n",
       "      <th>16</th>\n",
       "      <td>100017</td>\n",
       "      <td>2013-02-06 00:00:00</td>\n",
       "      <td>John May</td>\n",
       "      <td>microwave</td>\n",
       "      <td>25</td>\n",
       "      <td>truck 1</td>\n",
       "      <td>NY</td>\n",
       "    </tr>\n",
       "    <tr>\n",
       "      <th>17</th>\n",
       "      <td>100018</td>\n",
       "      <td>2013-02-07 00:00:00</td>\n",
       "      <td>John May</td>\n",
       "      <td>TV</td>\n",
       "      <td>30</td>\n",
       "      <td>truck 4</td>\n",
       "      <td>Philadelphia</td>\n",
       "    </tr>\n",
       "    <tr>\n",
       "      <th>18</th>\n",
       "      <td>100019</td>\n",
       "      <td>2013-02-08 00:00:00</td>\n",
       "      <td>George Ramsay</td>\n",
       "      <td>washing machine</td>\n",
       "      <td>13</td>\n",
       "      <td>truck 3</td>\n",
       "      <td>Baltimore</td>\n",
       "    </tr>\n",
       "    <tr>\n",
       "      <th>19</th>\n",
       "      <td>100020</td>\n",
       "      <td>2013-02-08 00:00:00</td>\n",
       "      <td>Peter White</td>\n",
       "      <td>refrigerator</td>\n",
       "      <td>25</td>\n",
       "      <td>truck 2</td>\n",
       "      <td>Philadelphia</td>\n",
       "    </tr>\n",
       "    <tr>\n",
       "      <th>20</th>\n",
       "      <td>100021</td>\n",
       "      <td>2013-02-08 00:00:00</td>\n",
       "      <td>Carl Nowak</td>\n",
       "      <td>microwave</td>\n",
       "      <td>30</td>\n",
       "      <td>truck 1</td>\n",
       "      <td>Michigan</td>\n",
       "    </tr>\n",
       "    <tr>\n",
       "      <th>21</th>\n",
       "      <td>100022</td>\n",
       "      <td>2013-02-08 00:00:00</td>\n",
       "      <td>Peter White</td>\n",
       "      <td>washing machine</td>\n",
       "      <td>15</td>\n",
       "      <td>airplane</td>\n",
       "      <td>NY</td>\n",
       "    </tr>\n",
       "    <tr>\n",
       "      <th>22</th>\n",
       "      <td>100023</td>\n",
       "      <td>2013-02-08 00:00:00</td>\n",
       "      <td>John May</td>\n",
       "      <td>microwave</td>\n",
       "      <td>25</td>\n",
       "      <td>truck 4</td>\n",
       "      <td>Boston</td>\n",
       "    </tr>\n",
       "    <tr>\n",
       "      <th>23</th>\n",
       "      <td>100024</td>\n",
       "      <td>2013-02-09 00:00:00</td>\n",
       "      <td>George Ramsay</td>\n",
       "      <td>washing machine</td>\n",
       "      <td>34</td>\n",
       "      <td>truck 3</td>\n",
       "      <td>Baltimore</td>\n",
       "    </tr>\n",
       "    <tr>\n",
       "      <th>24</th>\n",
       "      <td>100001</td>\n",
       "      <td>2013-02-01 00:00:00</td>\n",
       "      <td>John May</td>\n",
       "      <td>TV</td>\n",
       "      <td>25</td>\n",
       "      <td>truck 4</td>\n",
       "      <td>Boston</td>\n",
       "    </tr>\n",
       "    <tr>\n",
       "      <th>25</th>\n",
       "      <td>100002</td>\n",
       "      <td>2013-02-01 00:00:00</td>\n",
       "      <td>Peter White</td>\n",
       "      <td>washing machine</td>\n",
       "      <td>30</td>\n",
       "      <td>truck 3</td>\n",
       "      <td>NY</td>\n",
       "    </tr>\n",
       "    <tr>\n",
       "      <th>26</th>\n",
       "      <td>100003</td>\n",
       "      <td>2013-02-02 00:00:00</td>\n",
       "      <td>Carl Nowak</td>\n",
       "      <td>washing machine</td>\n",
       "      <td>15</td>\n",
       "      <td>truck 3</td>\n",
       "      <td>Philadelphia</td>\n",
       "    </tr>\n",
       "    <tr>\n",
       "      <th>27</th>\n",
       "      <td>100004</td>\n",
       "      <td>2013-02-03 00:00:00</td>\n",
       "      <td>Peter White</td>\n",
       "      <td>TV</td>\n",
       "      <td>32</td>\n",
       "      <td>truck 4</td>\n",
       "      <td>NY</td>\n",
       "    </tr>\n",
       "    <tr>\n",
       "      <th>28</th>\n",
       "      <td>100005</td>\n",
       "      <td>2013-02-03 00:00:00</td>\n",
       "      <td>George Ramsay</td>\n",
       "      <td>refrigerator</td>\n",
       "      <td>25</td>\n",
       "      <td>truck 3</td>\n",
       "      <td>Boston</td>\n",
       "    </tr>\n",
       "    <tr>\n",
       "      <th>29</th>\n",
       "      <td>100006</td>\n",
       "      <td>2013-02-03 00:00:00</td>\n",
       "      <td>Carl Nowak</td>\n",
       "      <td>washing machine</td>\n",
       "      <td>18</td>\n",
       "      <td>truck 1</td>\n",
       "      <td>Baltimore</td>\n",
       "    </tr>\n",
       "    <tr>\n",
       "      <th>30</th>\n",
       "      <td>100007</td>\n",
       "      <td>2013-02-03 00:00:00</td>\n",
       "      <td>John May</td>\n",
       "      <td>refrigerator</td>\n",
       "      <td>15</td>\n",
       "      <td>truck 2</td>\n",
       "      <td>Philadelphia</td>\n",
       "    </tr>\n",
       "    <tr>\n",
       "      <th>31</th>\n",
       "      <td>100008</td>\n",
       "      <td>2013-02-04 00:00:00</td>\n",
       "      <td>Carl Nowak</td>\n",
       "      <td>refrigerator</td>\n",
       "      <td>25</td>\n",
       "      <td>truck 3</td>\n",
       "      <td>Baltimore</td>\n",
       "    </tr>\n",
       "    <tr>\n",
       "      <th>32</th>\n",
       "      <td>100009</td>\n",
       "      <td>2013-02-04 00:00:00</td>\n",
       "      <td>Peter White</td>\n",
       "      <td>TV</td>\n",
       "      <td>30</td>\n",
       "      <td>truck 1</td>\n",
       "      <td>Michigan</td>\n",
       "    </tr>\n",
       "    <tr>\n",
       "      <th>33</th>\n",
       "      <td>100010</td>\n",
       "      <td>2013-02-04 00:00:00</td>\n",
       "      <td>George Ramsay</td>\n",
       "      <td>refrigerator</td>\n",
       "      <td>15</td>\n",
       "      <td>truck 2</td>\n",
       "      <td>NY</td>\n",
       "    </tr>\n",
       "    <tr>\n",
       "      <th>34</th>\n",
       "      <td>100011</td>\n",
       "      <td>2013-02-04 00:00:00</td>\n",
       "      <td>Mertl Pavel</td>\n",
       "      <td>microwave</td>\n",
       "      <td>25</td>\n",
       "      <td>truck 3</td>\n",
       "      <td>Philadelphia</td>\n",
       "    </tr>\n",
       "    <tr>\n",
       "      <th>35</th>\n",
       "      <td>100012</td>\n",
       "      <td>2013-02-04 00:00:00</td>\n",
       "      <td>John May</td>\n",
       "      <td>washing machine</td>\n",
       "      <td>14</td>\n",
       "      <td>truck 4</td>\n",
       "      <td>NY</td>\n",
       "    </tr>\n",
       "    <tr>\n",
       "      <th>36</th>\n",
       "      <td>100013</td>\n",
       "      <td>2013-02-05 00:00:00</td>\n",
       "      <td>John May</td>\n",
       "      <td>washing machine</td>\n",
       "      <td>25</td>\n",
       "      <td>airplane</td>\n",
       "      <td>Baltimore</td>\n",
       "    </tr>\n",
       "    <tr>\n",
       "      <th>37</th>\n",
       "      <td>100014</td>\n",
       "      <td>2013-02-05 00:00:00</td>\n",
       "      <td>Carl Nowak</td>\n",
       "      <td>TV</td>\n",
       "      <td>30</td>\n",
       "      <td>truck 4</td>\n",
       "      <td>Philadelphia</td>\n",
       "    </tr>\n",
       "    <tr>\n",
       "      <th>38</th>\n",
       "      <td>100015</td>\n",
       "      <td>2013-02-05 00:00:00</td>\n",
       "      <td>George Ramsay</td>\n",
       "      <td>microwave</td>\n",
       "      <td>15</td>\n",
       "      <td>truck 3</td>\n",
       "      <td>Boston</td>\n",
       "    </tr>\n",
       "    <tr>\n",
       "      <th>39</th>\n",
       "      <td>100016</td>\n",
       "      <td>2013-02-05 00:00:00</td>\n",
       "      <td>Peter White</td>\n",
       "      <td>TV</td>\n",
       "      <td>15</td>\n",
       "      <td>truck 1</td>\n",
       "      <td>Michigan</td>\n",
       "    </tr>\n",
       "    <tr>\n",
       "      <th>40</th>\n",
       "      <td>100017</td>\n",
       "      <td>2013-02-06 00:00:00</td>\n",
       "      <td>John May</td>\n",
       "      <td>microwave</td>\n",
       "      <td>25</td>\n",
       "      <td>truck 1</td>\n",
       "      <td>NY</td>\n",
       "    </tr>\n",
       "    <tr>\n",
       "      <th>41</th>\n",
       "      <td>100018</td>\n",
       "      <td>2013-02-07 00:00:00</td>\n",
       "      <td>John May</td>\n",
       "      <td>TV</td>\n",
       "      <td>30</td>\n",
       "      <td>truck 4</td>\n",
       "      <td>Philadelphia</td>\n",
       "    </tr>\n",
       "    <tr>\n",
       "      <th>42</th>\n",
       "      <td>100019</td>\n",
       "      <td>2013-02-08 00:00:00</td>\n",
       "      <td>George Ramsay</td>\n",
       "      <td>washing machine</td>\n",
       "      <td>13</td>\n",
       "      <td>truck 3</td>\n",
       "      <td>Baltimore</td>\n",
       "    </tr>\n",
       "    <tr>\n",
       "      <th>43</th>\n",
       "      <td>100020</td>\n",
       "      <td>2013-02-08 00:00:00</td>\n",
       "      <td>Peter White</td>\n",
       "      <td>refrigerator</td>\n",
       "      <td>25</td>\n",
       "      <td>truck 2</td>\n",
       "      <td>Philadelphia</td>\n",
       "    </tr>\n",
       "    <tr>\n",
       "      <th>44</th>\n",
       "      <td>100021</td>\n",
       "      <td>2013-02-08 00:00:00</td>\n",
       "      <td>Carl Nowak</td>\n",
       "      <td>microwave</td>\n",
       "      <td>30</td>\n",
       "      <td>truck 1</td>\n",
       "      <td>Michigan</td>\n",
       "    </tr>\n",
       "    <tr>\n",
       "      <th>45</th>\n",
       "      <td>100022</td>\n",
       "      <td>2013-02-08 00:00:00</td>\n",
       "      <td>Peter White</td>\n",
       "      <td>washing machine</td>\n",
       "      <td>15</td>\n",
       "      <td>airplane</td>\n",
       "      <td>NY</td>\n",
       "    </tr>\n",
       "    <tr>\n",
       "      <th>46</th>\n",
       "      <td>100023</td>\n",
       "      <td>2013-02-08 00:00:00</td>\n",
       "      <td>John May</td>\n",
       "      <td>microwave</td>\n",
       "      <td>25</td>\n",
       "      <td>truck 4</td>\n",
       "      <td>Boston</td>\n",
       "    </tr>\n",
       "    <tr>\n",
       "      <th>47</th>\n",
       "      <td>100024</td>\n",
       "      <td>2013-02-09 00:00:00</td>\n",
       "      <td>George Ramsay</td>\n",
       "      <td>washing machine</td>\n",
       "      <td>34</td>\n",
       "      <td>truck 3</td>\n",
       "      <td>Baltimore</td>\n",
       "    </tr>\n",
       "    <tr>\n",
       "      <th>48</th>\n",
       "      <td></td>\n",
       "      <td></td>\n",
       "      <td></td>\n",
       "      <td></td>\n",
       "      <td></td>\n",
       "      <td></td>\n",
       "      <td></td>\n",
       "    </tr>\n",
       "  </tbody>\n",
       "</table>\n",
       "</div>"
      ],
      "text/plain": [
       "   Order no.                 Date  Driver's name             Item  \\\n",
       "0     100001  2013-02-01 00:00:00       John May               TV   \n",
       "1     100002  2013-02-01 00:00:00    Peter White  washing machine   \n",
       "2     100003  2013-02-02 00:00:00     Carl Nowak  washing machine   \n",
       "3     100004  2013-02-03 00:00:00    Peter White               TV   \n",
       "4     100005  2013-02-03 00:00:00  George Ramsay     refrigerator   \n",
       "5     100006  2013-02-03 00:00:00     Carl Nowak  washing machine   \n",
       "6     100007  2013-02-03 00:00:00       John May     refrigerator   \n",
       "7     100008  2013-02-04 00:00:00     Carl Nowak     refrigerator   \n",
       "8     100009  2013-02-04 00:00:00    Peter White               TV   \n",
       "9     100010  2013-02-04 00:00:00  George Ramsay     refrigerator   \n",
       "10    100011  2013-02-04 00:00:00    Mertl Pavel        microwave   \n",
       "11    100012  2013-02-04 00:00:00       John May  washing machine   \n",
       "12    100013  2013-02-05 00:00:00       John May  washing machine   \n",
       "13    100014  2013-02-05 00:00:00     Carl Nowak               TV   \n",
       "14    100015  2013-02-05 00:00:00  George Ramsay        microwave   \n",
       "15    100016  2013-02-05 00:00:00    Peter White               TV   \n",
       "16    100017  2013-02-06 00:00:00       John May        microwave   \n",
       "17    100018  2013-02-07 00:00:00       John May               TV   \n",
       "18    100019  2013-02-08 00:00:00  George Ramsay  washing machine   \n",
       "19    100020  2013-02-08 00:00:00    Peter White     refrigerator   \n",
       "20    100021  2013-02-08 00:00:00     Carl Nowak        microwave   \n",
       "21    100022  2013-02-08 00:00:00    Peter White  washing machine   \n",
       "22    100023  2013-02-08 00:00:00       John May        microwave   \n",
       "23    100024  2013-02-09 00:00:00  George Ramsay  washing machine   \n",
       "24    100001  2013-02-01 00:00:00       John May               TV   \n",
       "25    100002  2013-02-01 00:00:00    Peter White  washing machine   \n",
       "26    100003  2013-02-02 00:00:00     Carl Nowak  washing machine   \n",
       "27    100004  2013-02-03 00:00:00    Peter White               TV   \n",
       "28    100005  2013-02-03 00:00:00  George Ramsay     refrigerator   \n",
       "29    100006  2013-02-03 00:00:00     Carl Nowak  washing machine   \n",
       "30    100007  2013-02-03 00:00:00       John May     refrigerator   \n",
       "31    100008  2013-02-04 00:00:00     Carl Nowak     refrigerator   \n",
       "32    100009  2013-02-04 00:00:00    Peter White               TV   \n",
       "33    100010  2013-02-04 00:00:00  George Ramsay     refrigerator   \n",
       "34    100011  2013-02-04 00:00:00    Mertl Pavel        microwave   \n",
       "35    100012  2013-02-04 00:00:00       John May  washing machine   \n",
       "36    100013  2013-02-05 00:00:00       John May  washing machine   \n",
       "37    100014  2013-02-05 00:00:00     Carl Nowak               TV   \n",
       "38    100015  2013-02-05 00:00:00  George Ramsay        microwave   \n",
       "39    100016  2013-02-05 00:00:00    Peter White               TV   \n",
       "40    100017  2013-02-06 00:00:00       John May        microwave   \n",
       "41    100018  2013-02-07 00:00:00       John May               TV   \n",
       "42    100019  2013-02-08 00:00:00  George Ramsay  washing machine   \n",
       "43    100020  2013-02-08 00:00:00    Peter White     refrigerator   \n",
       "44    100021  2013-02-08 00:00:00     Carl Nowak        microwave   \n",
       "45    100022  2013-02-08 00:00:00    Peter White  washing machine   \n",
       "46    100023  2013-02-08 00:00:00       John May        microwave   \n",
       "47    100024  2013-02-09 00:00:00  George Ramsay  washing machine   \n",
       "48                                                                  \n",
       "\n",
       "   Number of items Transport   Destination  \n",
       "0               25   truck 4        Boston  \n",
       "1               30   truck 3            NY  \n",
       "2               15   truck 3  Philadelphia  \n",
       "3               32   truck 4            NY  \n",
       "4               25   truck 3        Boston  \n",
       "5               18   truck 1     Baltimore  \n",
       "6               15   truck 2  Philadelphia  \n",
       "7               25   truck 3     Baltimore  \n",
       "8               30   truck 1      Michigan  \n",
       "9               15   truck 2            NY  \n",
       "10              25   truck 3  Philadelphia  \n",
       "11              14   truck 4            NY  \n",
       "12              25  airplane     Baltimore  \n",
       "13              30   truck 4  Philadelphia  \n",
       "14              15   truck 3        Boston  \n",
       "15              15   truck 1      Michigan  \n",
       "16              25   truck 1            NY  \n",
       "17              30   truck 4  Philadelphia  \n",
       "18              13   truck 3     Baltimore  \n",
       "19              25   truck 2  Philadelphia  \n",
       "20              30   truck 1      Michigan  \n",
       "21              15  airplane            NY  \n",
       "22              25   truck 4        Boston  \n",
       "23              34   truck 3     Baltimore  \n",
       "24              25   truck 4        Boston  \n",
       "25              30   truck 3            NY  \n",
       "26              15   truck 3  Philadelphia  \n",
       "27              32   truck 4            NY  \n",
       "28              25   truck 3        Boston  \n",
       "29              18   truck 1     Baltimore  \n",
       "30              15   truck 2  Philadelphia  \n",
       "31              25   truck 3     Baltimore  \n",
       "32              30   truck 1      Michigan  \n",
       "33              15   truck 2            NY  \n",
       "34              25   truck 3  Philadelphia  \n",
       "35              14   truck 4            NY  \n",
       "36              25  airplane     Baltimore  \n",
       "37              30   truck 4  Philadelphia  \n",
       "38              15   truck 3        Boston  \n",
       "39              15   truck 1      Michigan  \n",
       "40              25   truck 1            NY  \n",
       "41              30   truck 4  Philadelphia  \n",
       "42              13   truck 3     Baltimore  \n",
       "43              25   truck 2  Philadelphia  \n",
       "44              30   truck 1      Michigan  \n",
       "45              15  airplane            NY  \n",
       "46              25   truck 4        Boston  \n",
       "47              34   truck 3     Baltimore  \n",
       "48                                          "
      ]
     },
     "execution_count": 21,
     "metadata": {},
     "output_type": "execute_result"
    }
   ],
   "source": [
    "combined_vertical\n"
   ]
  },
  {
   "cell_type": "code",
   "execution_count": 23,
   "id": "e04e0bc8",
   "metadata": {},
   "outputs": [
    {
     "data": {
      "text/html": [
       "<div>\n",
       "<style scoped>\n",
       "    .dataframe tbody tr th:only-of-type {\n",
       "        vertical-align: middle;\n",
       "    }\n",
       "\n",
       "    .dataframe tbody tr th {\n",
       "        vertical-align: top;\n",
       "    }\n",
       "\n",
       "    .dataframe thead th {\n",
       "        text-align: right;\n",
       "    }\n",
       "</style>\n",
       "<table border=\"1\" class=\"dataframe\">\n",
       "  <thead>\n",
       "    <tr style=\"text-align: right;\">\n",
       "      <th></th>\n",
       "      <th>Order no.</th>\n",
       "      <th>Date</th>\n",
       "      <th>Driver's name</th>\n",
       "      <th>Item</th>\n",
       "      <th>Number of items</th>\n",
       "      <th>Transport</th>\n",
       "      <th>Destination</th>\n",
       "    </tr>\n",
       "  </thead>\n",
       "  <tbody>\n",
       "    <tr>\n",
       "      <th>0</th>\n",
       "      <td>100001</td>\n",
       "      <td>2013-02-01 00:00:00</td>\n",
       "      <td>John May</td>\n",
       "      <td>TV</td>\n",
       "      <td>25</td>\n",
       "      <td>truck 4</td>\n",
       "      <td>Boston</td>\n",
       "    </tr>\n",
       "    <tr>\n",
       "      <th>1</th>\n",
       "      <td>100002</td>\n",
       "      <td>2013-02-01 00:00:00</td>\n",
       "      <td>Peter White</td>\n",
       "      <td>washing machine</td>\n",
       "      <td>30</td>\n",
       "      <td>truck 3</td>\n",
       "      <td>NY</td>\n",
       "    </tr>\n",
       "    <tr>\n",
       "      <th>2</th>\n",
       "      <td>100003</td>\n",
       "      <td>2013-02-02 00:00:00</td>\n",
       "      <td>Carl Nowak</td>\n",
       "      <td>washing machine</td>\n",
       "      <td>15</td>\n",
       "      <td>truck 3</td>\n",
       "      <td>Philadelphia</td>\n",
       "    </tr>\n",
       "    <tr>\n",
       "      <th>3</th>\n",
       "      <td>100004</td>\n",
       "      <td>2013-02-03 00:00:00</td>\n",
       "      <td>Peter White</td>\n",
       "      <td>TV</td>\n",
       "      <td>32</td>\n",
       "      <td>truck 4</td>\n",
       "      <td>NY</td>\n",
       "    </tr>\n",
       "    <tr>\n",
       "      <th>4</th>\n",
       "      <td>100005</td>\n",
       "      <td>2013-02-03 00:00:00</td>\n",
       "      <td>George Ramsay</td>\n",
       "      <td>refrigerator</td>\n",
       "      <td>25</td>\n",
       "      <td>truck 3</td>\n",
       "      <td>Boston</td>\n",
       "    </tr>\n",
       "    <tr>\n",
       "      <th>5</th>\n",
       "      <td>100006</td>\n",
       "      <td>2013-02-03 00:00:00</td>\n",
       "      <td>Carl Nowak</td>\n",
       "      <td>washing machine</td>\n",
       "      <td>18</td>\n",
       "      <td>truck 1</td>\n",
       "      <td>Baltimore</td>\n",
       "    </tr>\n",
       "    <tr>\n",
       "      <th>6</th>\n",
       "      <td>100007</td>\n",
       "      <td>2013-02-03 00:00:00</td>\n",
       "      <td>John May</td>\n",
       "      <td>refrigerator</td>\n",
       "      <td>15</td>\n",
       "      <td>truck 2</td>\n",
       "      <td>Philadelphia</td>\n",
       "    </tr>\n",
       "    <tr>\n",
       "      <th>7</th>\n",
       "      <td>100008</td>\n",
       "      <td>2013-02-04 00:00:00</td>\n",
       "      <td>Carl Nowak</td>\n",
       "      <td>refrigerator</td>\n",
       "      <td>25</td>\n",
       "      <td>truck 3</td>\n",
       "      <td>Baltimore</td>\n",
       "    </tr>\n",
       "    <tr>\n",
       "      <th>8</th>\n",
       "      <td>100009</td>\n",
       "      <td>2013-02-04 00:00:00</td>\n",
       "      <td>Peter White</td>\n",
       "      <td>TV</td>\n",
       "      <td>30</td>\n",
       "      <td>truck 1</td>\n",
       "      <td>Michigan</td>\n",
       "    </tr>\n",
       "    <tr>\n",
       "      <th>9</th>\n",
       "      <td>100010</td>\n",
       "      <td>2013-02-04 00:00:00</td>\n",
       "      <td>George Ramsay</td>\n",
       "      <td>refrigerator</td>\n",
       "      <td>15</td>\n",
       "      <td>truck 2</td>\n",
       "      <td>NY</td>\n",
       "    </tr>\n",
       "    <tr>\n",
       "      <th>10</th>\n",
       "      <td>100011</td>\n",
       "      <td>2013-02-04 00:00:00</td>\n",
       "      <td>Mertl Pavel</td>\n",
       "      <td>microwave</td>\n",
       "      <td>25</td>\n",
       "      <td>truck 3</td>\n",
       "      <td>Philadelphia</td>\n",
       "    </tr>\n",
       "    <tr>\n",
       "      <th>11</th>\n",
       "      <td>100012</td>\n",
       "      <td>2013-02-04 00:00:00</td>\n",
       "      <td>John May</td>\n",
       "      <td>washing machine</td>\n",
       "      <td>14</td>\n",
       "      <td>truck 4</td>\n",
       "      <td>NY</td>\n",
       "    </tr>\n",
       "    <tr>\n",
       "      <th>12</th>\n",
       "      <td>100013</td>\n",
       "      <td>2013-02-05 00:00:00</td>\n",
       "      <td>John May</td>\n",
       "      <td>washing machine</td>\n",
       "      <td>25</td>\n",
       "      <td>airplane</td>\n",
       "      <td>Baltimore</td>\n",
       "    </tr>\n",
       "    <tr>\n",
       "      <th>13</th>\n",
       "      <td>100014</td>\n",
       "      <td>2013-02-05 00:00:00</td>\n",
       "      <td>Carl Nowak</td>\n",
       "      <td>TV</td>\n",
       "      <td>30</td>\n",
       "      <td>truck 4</td>\n",
       "      <td>Philadelphia</td>\n",
       "    </tr>\n",
       "    <tr>\n",
       "      <th>14</th>\n",
       "      <td>100015</td>\n",
       "      <td>2013-02-05 00:00:00</td>\n",
       "      <td>George Ramsay</td>\n",
       "      <td>microwave</td>\n",
       "      <td>15</td>\n",
       "      <td>truck 3</td>\n",
       "      <td>Boston</td>\n",
       "    </tr>\n",
       "    <tr>\n",
       "      <th>15</th>\n",
       "      <td>100016</td>\n",
       "      <td>2013-02-05 00:00:00</td>\n",
       "      <td>Peter White</td>\n",
       "      <td>TV</td>\n",
       "      <td>15</td>\n",
       "      <td>truck 1</td>\n",
       "      <td>Michigan</td>\n",
       "    </tr>\n",
       "    <tr>\n",
       "      <th>16</th>\n",
       "      <td>100017</td>\n",
       "      <td>2013-02-06 00:00:00</td>\n",
       "      <td>John May</td>\n",
       "      <td>microwave</td>\n",
       "      <td>25</td>\n",
       "      <td>truck 1</td>\n",
       "      <td>NY</td>\n",
       "    </tr>\n",
       "    <tr>\n",
       "      <th>17</th>\n",
       "      <td>100018</td>\n",
       "      <td>2013-02-07 00:00:00</td>\n",
       "      <td>John May</td>\n",
       "      <td>TV</td>\n",
       "      <td>30</td>\n",
       "      <td>truck 4</td>\n",
       "      <td>Philadelphia</td>\n",
       "    </tr>\n",
       "    <tr>\n",
       "      <th>18</th>\n",
       "      <td>100019</td>\n",
       "      <td>2013-02-08 00:00:00</td>\n",
       "      <td>George Ramsay</td>\n",
       "      <td>washing machine</td>\n",
       "      <td>13</td>\n",
       "      <td>truck 3</td>\n",
       "      <td>Baltimore</td>\n",
       "    </tr>\n",
       "    <tr>\n",
       "      <th>19</th>\n",
       "      <td>100020</td>\n",
       "      <td>2013-02-08 00:00:00</td>\n",
       "      <td>Peter White</td>\n",
       "      <td>refrigerator</td>\n",
       "      <td>25</td>\n",
       "      <td>truck 2</td>\n",
       "      <td>Philadelphia</td>\n",
       "    </tr>\n",
       "    <tr>\n",
       "      <th>20</th>\n",
       "      <td>100021</td>\n",
       "      <td>2013-02-08 00:00:00</td>\n",
       "      <td>Carl Nowak</td>\n",
       "      <td>microwave</td>\n",
       "      <td>30</td>\n",
       "      <td>truck 1</td>\n",
       "      <td>Michigan</td>\n",
       "    </tr>\n",
       "    <tr>\n",
       "      <th>21</th>\n",
       "      <td>100022</td>\n",
       "      <td>2013-02-08 00:00:00</td>\n",
       "      <td>Peter White</td>\n",
       "      <td>washing machine</td>\n",
       "      <td>15</td>\n",
       "      <td>airplane</td>\n",
       "      <td>NY</td>\n",
       "    </tr>\n",
       "    <tr>\n",
       "      <th>22</th>\n",
       "      <td>100023</td>\n",
       "      <td>2013-02-08 00:00:00</td>\n",
       "      <td>John May</td>\n",
       "      <td>microwave</td>\n",
       "      <td>25</td>\n",
       "      <td>truck 4</td>\n",
       "      <td>Boston</td>\n",
       "    </tr>\n",
       "    <tr>\n",
       "      <th>23</th>\n",
       "      <td>100024</td>\n",
       "      <td>2013-02-09 00:00:00</td>\n",
       "      <td>George Ramsay</td>\n",
       "      <td>washing machine</td>\n",
       "      <td>34</td>\n",
       "      <td>truck 3</td>\n",
       "      <td>Baltimore</td>\n",
       "    </tr>\n",
       "    <tr>\n",
       "      <th>24</th>\n",
       "      <td>100001</td>\n",
       "      <td>2013-02-01 00:00:00</td>\n",
       "      <td>John May</td>\n",
       "      <td>TV</td>\n",
       "      <td>25</td>\n",
       "      <td>truck 4</td>\n",
       "      <td>Boston</td>\n",
       "    </tr>\n",
       "    <tr>\n",
       "      <th>25</th>\n",
       "      <td>100002</td>\n",
       "      <td>2013-02-01 00:00:00</td>\n",
       "      <td>Peter White</td>\n",
       "      <td>washing machine</td>\n",
       "      <td>30</td>\n",
       "      <td>truck 3</td>\n",
       "      <td>NY</td>\n",
       "    </tr>\n",
       "    <tr>\n",
       "      <th>26</th>\n",
       "      <td>100003</td>\n",
       "      <td>2013-02-02 00:00:00</td>\n",
       "      <td>Carl Nowak</td>\n",
       "      <td>washing machine</td>\n",
       "      <td>15</td>\n",
       "      <td>truck 3</td>\n",
       "      <td>Philadelphia</td>\n",
       "    </tr>\n",
       "    <tr>\n",
       "      <th>27</th>\n",
       "      <td>100004</td>\n",
       "      <td>2013-02-03 00:00:00</td>\n",
       "      <td>Peter White</td>\n",
       "      <td>TV</td>\n",
       "      <td>32</td>\n",
       "      <td>truck 4</td>\n",
       "      <td>NY</td>\n",
       "    </tr>\n",
       "    <tr>\n",
       "      <th>28</th>\n",
       "      <td>100005</td>\n",
       "      <td>2013-02-03 00:00:00</td>\n",
       "      <td>George Ramsay</td>\n",
       "      <td>refrigerator</td>\n",
       "      <td>25</td>\n",
       "      <td>truck 3</td>\n",
       "      <td>Boston</td>\n",
       "    </tr>\n",
       "    <tr>\n",
       "      <th>29</th>\n",
       "      <td>100006</td>\n",
       "      <td>2013-02-03 00:00:00</td>\n",
       "      <td>Carl Nowak</td>\n",
       "      <td>washing machine</td>\n",
       "      <td>18</td>\n",
       "      <td>truck 1</td>\n",
       "      <td>Baltimore</td>\n",
       "    </tr>\n",
       "    <tr>\n",
       "      <th>30</th>\n",
       "      <td>100007</td>\n",
       "      <td>2013-02-03 00:00:00</td>\n",
       "      <td>John May</td>\n",
       "      <td>refrigerator</td>\n",
       "      <td>15</td>\n",
       "      <td>truck 2</td>\n",
       "      <td>Philadelphia</td>\n",
       "    </tr>\n",
       "    <tr>\n",
       "      <th>31</th>\n",
       "      <td>100008</td>\n",
       "      <td>2013-02-04 00:00:00</td>\n",
       "      <td>Carl Nowak</td>\n",
       "      <td>refrigerator</td>\n",
       "      <td>25</td>\n",
       "      <td>truck 3</td>\n",
       "      <td>Baltimore</td>\n",
       "    </tr>\n",
       "    <tr>\n",
       "      <th>32</th>\n",
       "      <td>100009</td>\n",
       "      <td>2013-02-04 00:00:00</td>\n",
       "      <td>Peter White</td>\n",
       "      <td>TV</td>\n",
       "      <td>30</td>\n",
       "      <td>truck 1</td>\n",
       "      <td>Michigan</td>\n",
       "    </tr>\n",
       "    <tr>\n",
       "      <th>33</th>\n",
       "      <td>100010</td>\n",
       "      <td>2013-02-04 00:00:00</td>\n",
       "      <td>George Ramsay</td>\n",
       "      <td>refrigerator</td>\n",
       "      <td>15</td>\n",
       "      <td>truck 2</td>\n",
       "      <td>NY</td>\n",
       "    </tr>\n",
       "    <tr>\n",
       "      <th>34</th>\n",
       "      <td>100011</td>\n",
       "      <td>2013-02-04 00:00:00</td>\n",
       "      <td>Mertl Pavel</td>\n",
       "      <td>microwave</td>\n",
       "      <td>25</td>\n",
       "      <td>truck 3</td>\n",
       "      <td>Philadelphia</td>\n",
       "    </tr>\n",
       "    <tr>\n",
       "      <th>35</th>\n",
       "      <td>100012</td>\n",
       "      <td>2013-02-04 00:00:00</td>\n",
       "      <td>John May</td>\n",
       "      <td>washing machine</td>\n",
       "      <td>14</td>\n",
       "      <td>truck 4</td>\n",
       "      <td>NY</td>\n",
       "    </tr>\n",
       "    <tr>\n",
       "      <th>36</th>\n",
       "      <td>100013</td>\n",
       "      <td>2013-02-05 00:00:00</td>\n",
       "      <td>John May</td>\n",
       "      <td>washing machine</td>\n",
       "      <td>25</td>\n",
       "      <td>airplane</td>\n",
       "      <td>Baltimore</td>\n",
       "    </tr>\n",
       "    <tr>\n",
       "      <th>37</th>\n",
       "      <td>100014</td>\n",
       "      <td>2013-02-05 00:00:00</td>\n",
       "      <td>Carl Nowak</td>\n",
       "      <td>TV</td>\n",
       "      <td>30</td>\n",
       "      <td>truck 4</td>\n",
       "      <td>Philadelphia</td>\n",
       "    </tr>\n",
       "    <tr>\n",
       "      <th>38</th>\n",
       "      <td>100015</td>\n",
       "      <td>2013-02-05 00:00:00</td>\n",
       "      <td>George Ramsay</td>\n",
       "      <td>microwave</td>\n",
       "      <td>15</td>\n",
       "      <td>truck 3</td>\n",
       "      <td>Boston</td>\n",
       "    </tr>\n",
       "    <tr>\n",
       "      <th>39</th>\n",
       "      <td>100016</td>\n",
       "      <td>2013-02-05 00:00:00</td>\n",
       "      <td>Peter White</td>\n",
       "      <td>TV</td>\n",
       "      <td>15</td>\n",
       "      <td>truck 1</td>\n",
       "      <td>Michigan</td>\n",
       "    </tr>\n",
       "    <tr>\n",
       "      <th>40</th>\n",
       "      <td>100017</td>\n",
       "      <td>2013-02-06 00:00:00</td>\n",
       "      <td>John May</td>\n",
       "      <td>microwave</td>\n",
       "      <td>25</td>\n",
       "      <td>truck 1</td>\n",
       "      <td>NY</td>\n",
       "    </tr>\n",
       "    <tr>\n",
       "      <th>41</th>\n",
       "      <td>100018</td>\n",
       "      <td>2013-02-07 00:00:00</td>\n",
       "      <td>John May</td>\n",
       "      <td>TV</td>\n",
       "      <td>30</td>\n",
       "      <td>truck 4</td>\n",
       "      <td>Philadelphia</td>\n",
       "    </tr>\n",
       "    <tr>\n",
       "      <th>42</th>\n",
       "      <td>100019</td>\n",
       "      <td>2013-02-08 00:00:00</td>\n",
       "      <td>George Ramsay</td>\n",
       "      <td>washing machine</td>\n",
       "      <td>13</td>\n",
       "      <td>truck 3</td>\n",
       "      <td>Baltimore</td>\n",
       "    </tr>\n",
       "    <tr>\n",
       "      <th>43</th>\n",
       "      <td>100020</td>\n",
       "      <td>2013-02-08 00:00:00</td>\n",
       "      <td>Peter White</td>\n",
       "      <td>refrigerator</td>\n",
       "      <td>25</td>\n",
       "      <td>truck 2</td>\n",
       "      <td>Philadelphia</td>\n",
       "    </tr>\n",
       "    <tr>\n",
       "      <th>44</th>\n",
       "      <td>100021</td>\n",
       "      <td>2013-02-08 00:00:00</td>\n",
       "      <td>Carl Nowak</td>\n",
       "      <td>microwave</td>\n",
       "      <td>30</td>\n",
       "      <td>truck 1</td>\n",
       "      <td>Michigan</td>\n",
       "    </tr>\n",
       "    <tr>\n",
       "      <th>45</th>\n",
       "      <td>100022</td>\n",
       "      <td>2013-02-08 00:00:00</td>\n",
       "      <td>Peter White</td>\n",
       "      <td>washing machine</td>\n",
       "      <td>15</td>\n",
       "      <td>airplane</td>\n",
       "      <td>NY</td>\n",
       "    </tr>\n",
       "    <tr>\n",
       "      <th>46</th>\n",
       "      <td>100023</td>\n",
       "      <td>2013-02-08 00:00:00</td>\n",
       "      <td>John May</td>\n",
       "      <td>microwave</td>\n",
       "      <td>25</td>\n",
       "      <td>truck 4</td>\n",
       "      <td>Boston</td>\n",
       "    </tr>\n",
       "    <tr>\n",
       "      <th>47</th>\n",
       "      <td>100024</td>\n",
       "      <td>2013-02-09 00:00:00</td>\n",
       "      <td>George Ramsay</td>\n",
       "      <td>washing machine</td>\n",
       "      <td>34</td>\n",
       "      <td>truck 3</td>\n",
       "      <td>Baltimore</td>\n",
       "    </tr>\n",
       "    <tr>\n",
       "      <th>48</th>\n",
       "      <td></td>\n",
       "      <td></td>\n",
       "      <td></td>\n",
       "      <td></td>\n",
       "      <td></td>\n",
       "      <td></td>\n",
       "      <td></td>\n",
       "    </tr>\n",
       "    <tr>\n",
       "      <th>49</th>\n",
       "      <td>total</td>\n",
       "      <td>kia</td>\n",
       "      <td>babymama</td>\n",
       "      <td>dell</td>\n",
       "      <td>lilo</td>\n",
       "      <td>pops</td>\n",
       "      <td>tradingview</td>\n",
       "    </tr>\n",
       "  </tbody>\n",
       "</table>\n",
       "</div>"
      ],
      "text/plain": [
       "   Order no.                 Date  Driver's name             Item  \\\n",
       "0     100001  2013-02-01 00:00:00       John May               TV   \n",
       "1     100002  2013-02-01 00:00:00    Peter White  washing machine   \n",
       "2     100003  2013-02-02 00:00:00     Carl Nowak  washing machine   \n",
       "3     100004  2013-02-03 00:00:00    Peter White               TV   \n",
       "4     100005  2013-02-03 00:00:00  George Ramsay     refrigerator   \n",
       "5     100006  2013-02-03 00:00:00     Carl Nowak  washing machine   \n",
       "6     100007  2013-02-03 00:00:00       John May     refrigerator   \n",
       "7     100008  2013-02-04 00:00:00     Carl Nowak     refrigerator   \n",
       "8     100009  2013-02-04 00:00:00    Peter White               TV   \n",
       "9     100010  2013-02-04 00:00:00  George Ramsay     refrigerator   \n",
       "10    100011  2013-02-04 00:00:00    Mertl Pavel        microwave   \n",
       "11    100012  2013-02-04 00:00:00       John May  washing machine   \n",
       "12    100013  2013-02-05 00:00:00       John May  washing machine   \n",
       "13    100014  2013-02-05 00:00:00     Carl Nowak               TV   \n",
       "14    100015  2013-02-05 00:00:00  George Ramsay        microwave   \n",
       "15    100016  2013-02-05 00:00:00    Peter White               TV   \n",
       "16    100017  2013-02-06 00:00:00       John May        microwave   \n",
       "17    100018  2013-02-07 00:00:00       John May               TV   \n",
       "18    100019  2013-02-08 00:00:00  George Ramsay  washing machine   \n",
       "19    100020  2013-02-08 00:00:00    Peter White     refrigerator   \n",
       "20    100021  2013-02-08 00:00:00     Carl Nowak        microwave   \n",
       "21    100022  2013-02-08 00:00:00    Peter White  washing machine   \n",
       "22    100023  2013-02-08 00:00:00       John May        microwave   \n",
       "23    100024  2013-02-09 00:00:00  George Ramsay  washing machine   \n",
       "24    100001  2013-02-01 00:00:00       John May               TV   \n",
       "25    100002  2013-02-01 00:00:00    Peter White  washing machine   \n",
       "26    100003  2013-02-02 00:00:00     Carl Nowak  washing machine   \n",
       "27    100004  2013-02-03 00:00:00    Peter White               TV   \n",
       "28    100005  2013-02-03 00:00:00  George Ramsay     refrigerator   \n",
       "29    100006  2013-02-03 00:00:00     Carl Nowak  washing machine   \n",
       "30    100007  2013-02-03 00:00:00       John May     refrigerator   \n",
       "31    100008  2013-02-04 00:00:00     Carl Nowak     refrigerator   \n",
       "32    100009  2013-02-04 00:00:00    Peter White               TV   \n",
       "33    100010  2013-02-04 00:00:00  George Ramsay     refrigerator   \n",
       "34    100011  2013-02-04 00:00:00    Mertl Pavel        microwave   \n",
       "35    100012  2013-02-04 00:00:00       John May  washing machine   \n",
       "36    100013  2013-02-05 00:00:00       John May  washing machine   \n",
       "37    100014  2013-02-05 00:00:00     Carl Nowak               TV   \n",
       "38    100015  2013-02-05 00:00:00  George Ramsay        microwave   \n",
       "39    100016  2013-02-05 00:00:00    Peter White               TV   \n",
       "40    100017  2013-02-06 00:00:00       John May        microwave   \n",
       "41    100018  2013-02-07 00:00:00       John May               TV   \n",
       "42    100019  2013-02-08 00:00:00  George Ramsay  washing machine   \n",
       "43    100020  2013-02-08 00:00:00    Peter White     refrigerator   \n",
       "44    100021  2013-02-08 00:00:00     Carl Nowak        microwave   \n",
       "45    100022  2013-02-08 00:00:00    Peter White  washing machine   \n",
       "46    100023  2013-02-08 00:00:00       John May        microwave   \n",
       "47    100024  2013-02-09 00:00:00  George Ramsay  washing machine   \n",
       "48                                                                  \n",
       "49     total                  kia       babymama             dell   \n",
       "\n",
       "   Number of items Transport   Destination  \n",
       "0               25   truck 4        Boston  \n",
       "1               30   truck 3            NY  \n",
       "2               15   truck 3  Philadelphia  \n",
       "3               32   truck 4            NY  \n",
       "4               25   truck 3        Boston  \n",
       "5               18   truck 1     Baltimore  \n",
       "6               15   truck 2  Philadelphia  \n",
       "7               25   truck 3     Baltimore  \n",
       "8               30   truck 1      Michigan  \n",
       "9               15   truck 2            NY  \n",
       "10              25   truck 3  Philadelphia  \n",
       "11              14   truck 4            NY  \n",
       "12              25  airplane     Baltimore  \n",
       "13              30   truck 4  Philadelphia  \n",
       "14              15   truck 3        Boston  \n",
       "15              15   truck 1      Michigan  \n",
       "16              25   truck 1            NY  \n",
       "17              30   truck 4  Philadelphia  \n",
       "18              13   truck 3     Baltimore  \n",
       "19              25   truck 2  Philadelphia  \n",
       "20              30   truck 1      Michigan  \n",
       "21              15  airplane            NY  \n",
       "22              25   truck 4        Boston  \n",
       "23              34   truck 3     Baltimore  \n",
       "24              25   truck 4        Boston  \n",
       "25              30   truck 3            NY  \n",
       "26              15   truck 3  Philadelphia  \n",
       "27              32   truck 4            NY  \n",
       "28              25   truck 3        Boston  \n",
       "29              18   truck 1     Baltimore  \n",
       "30              15   truck 2  Philadelphia  \n",
       "31              25   truck 3     Baltimore  \n",
       "32              30   truck 1      Michigan  \n",
       "33              15   truck 2            NY  \n",
       "34              25   truck 3  Philadelphia  \n",
       "35              14   truck 4            NY  \n",
       "36              25  airplane     Baltimore  \n",
       "37              30   truck 4  Philadelphia  \n",
       "38              15   truck 3        Boston  \n",
       "39              15   truck 1      Michigan  \n",
       "40              25   truck 1            NY  \n",
       "41              30   truck 4  Philadelphia  \n",
       "42              13   truck 3     Baltimore  \n",
       "43              25   truck 2  Philadelphia  \n",
       "44              30   truck 1      Michigan  \n",
       "45              15  airplane            NY  \n",
       "46              25   truck 4        Boston  \n",
       "47              34   truck 3     Baltimore  \n",
       "48                                          \n",
       "49            lilo      pops   tradingview  "
      ]
     },
     "execution_count": 23,
     "metadata": {},
     "output_type": "execute_result"
    }
   ],
   "source": [
    "combined_vertical.loc[49]=[\"total\",\"kia\",\"babymama\",\"dell\",\"lilo\",\"pops\",\"tradingview\"]\n",
    "combined_vertical"
   ]
  },
  {
   "cell_type": "code",
   "execution_count": 25,
   "id": "fb1bbb02",
   "metadata": {},
   "outputs": [],
   "source": [
    "case1=pd.read_excel(\"Export 2022.xlsx\")\n",
    "case2=pd.read_excel(\"Export 2023.xlsx\")"
   ]
  },
  {
   "cell_type": "code",
   "execution_count": 32,
   "id": "3df9040f",
   "metadata": {},
   "outputs": [
    {
     "data": {
      "text/html": [
       "<div>\n",
       "<style scoped>\n",
       "    .dataframe tbody tr th:only-of-type {\n",
       "        vertical-align: middle;\n",
       "    }\n",
       "\n",
       "    .dataframe tbody tr th {\n",
       "        vertical-align: top;\n",
       "    }\n",
       "\n",
       "    .dataframe thead th {\n",
       "        text-align: right;\n",
       "    }\n",
       "</style>\n",
       "<table border=\"1\" class=\"dataframe\">\n",
       "  <thead>\n",
       "    <tr style=\"text-align: right;\">\n",
       "      <th></th>\n",
       "      <th>Country</th>\n",
       "      <th>Product</th>\n",
       "      <th>Quantity</th>\n",
       "    </tr>\n",
       "  </thead>\n",
       "  <tbody>\n",
       "    <tr>\n",
       "      <th>0</th>\n",
       "      <td>Lagos</td>\n",
       "      <td>flour</td>\n",
       "      <td>11</td>\n",
       "    </tr>\n",
       "    <tr>\n",
       "      <th>1</th>\n",
       "      <td>Ogun</td>\n",
       "      <td>flour</td>\n",
       "      <td>12</td>\n",
       "    </tr>\n",
       "    <tr>\n",
       "      <th>2</th>\n",
       "      <td>Cross River</td>\n",
       "      <td>flour</td>\n",
       "      <td>20</td>\n",
       "    </tr>\n",
       "    <tr>\n",
       "      <th>3</th>\n",
       "      <td>Ogun</td>\n",
       "      <td>flour</td>\n",
       "      <td>27</td>\n",
       "    </tr>\n",
       "    <tr>\n",
       "      <th>4</th>\n",
       "      <td>Edo</td>\n",
       "      <td>flour</td>\n",
       "      <td>11</td>\n",
       "    </tr>\n",
       "    <tr>\n",
       "      <th>...</th>\n",
       "      <td>...</td>\n",
       "      <td>...</td>\n",
       "      <td>...</td>\n",
       "    </tr>\n",
       "    <tr>\n",
       "      <th>1387</th>\n",
       "      <td>Cross River</td>\n",
       "      <td>beans</td>\n",
       "      <td>23</td>\n",
       "    </tr>\n",
       "    <tr>\n",
       "      <th>1388</th>\n",
       "      <td>Edo</td>\n",
       "      <td>beans</td>\n",
       "      <td>19</td>\n",
       "    </tr>\n",
       "    <tr>\n",
       "      <th>1389</th>\n",
       "      <td>Edo</td>\n",
       "      <td>cashew</td>\n",
       "      <td>13</td>\n",
       "    </tr>\n",
       "    <tr>\n",
       "      <th>1390</th>\n",
       "      <td>Lagos</td>\n",
       "      <td>cotton</td>\n",
       "      <td>26</td>\n",
       "    </tr>\n",
       "    <tr>\n",
       "      <th>1391</th>\n",
       "      <td>Abuja</td>\n",
       "      <td>rice</td>\n",
       "      <td>8</td>\n",
       "    </tr>\n",
       "  </tbody>\n",
       "</table>\n",
       "<p>1392 rows × 3 columns</p>\n",
       "</div>"
      ],
      "text/plain": [
       "          Country Product  Quantity\n",
       "0           Lagos   flour        11\n",
       "1            Ogun   flour        12\n",
       "2     Cross River   flour        20\n",
       "3            Ogun   flour        27\n",
       "4             Edo   flour        11\n",
       "...           ...     ...       ...\n",
       "1387  Cross River   beans        23\n",
       "1388          Edo   beans        19\n",
       "1389          Edo  cashew        13\n",
       "1390        Lagos  cotton        26\n",
       "1391        Abuja    rice         8\n",
       "\n",
       "[1392 rows x 3 columns]"
      ]
     },
     "execution_count": 32,
     "metadata": {},
     "output_type": "execute_result"
    }
   ],
   "source": [
    "verticalcombo=pd.concat([case1,case2],axis=0,ignore_index=True)\n",
    "verticalcombo"
   ]
  },
  {
   "cell_type": "code",
   "execution_count": 59,
   "id": "d45874f0",
   "metadata": {},
   "outputs": [
    {
     "data": {
      "image/png": "[encoded data removed]",
      "text/plain": [
       "<Figure size 432x288 with 1 Axes>"
      ]
     },
     "metadata": {
      "needs_background": "light"
     },
     "output_type": "display_data"
    }
   ],
   "source": [
    "\n",
    "verticalcombo.groupby(\"Product\").sum().reset_index()\n",
    "newcombo=verticalcombo.groupby(\"Product\").sum().reset_index().plot(kind=\"bar\",x=\"Product\",y=\"Quantity\",color=\"green\",\\\n",
    "fontsize=15, grid=True)"
   ]
  },
  {
   "cell_type": "code",
   "execution_count": 67,
   "id": "221ee65d",
   "metadata": {},
   "outputs": [
    {
     "data": {
      "image/png": "[encoded data removed]",
      "text/plain": [
       "<Figure size 432x288 with 1 Axes>"
      ]
     },
     "metadata": {
      "needs_background": "light"
     },
     "output_type": "display_data"
    }
   ],
   "source": [
    "newcombo=verticalcombo.groupby(\"Product\").sum().sort_values(\"Product\",ascending=True).\\\n",
    "reset_index().plot(kind=\"barh\",x=\"Product\",y=[\"Quantity\"],color=\"red\",\n",
    "fontsize=15, grid=True)"
   ]
  },
  {
   "cell_type": "code",
   "execution_count": null,
   "id": "9e8f6687",
   "metadata": {},
   "outputs": [],
   "source": [
    "newcombo=verticalcombo.groupby(\"Product\").sum().reset_index().plot(kind=\"bar\",x=\"Product\",y=\"Quantity\",color=\"green\",\\\n",
    "fontsize=15, grid=True)"
   ]
  },
  {
   "cell_type": "code",
   "execution_count": 44,
   "id": "8121e986",
   "metadata": {},
   "outputs": [
    {
     "data": {
      "text/html": [
       "<div>\n",
       "<style scoped>\n",
       "    .dataframe tbody tr th:only-of-type {\n",
       "        vertical-align: middle;\n",
       "    }\n",
       "\n",
       "    .dataframe tbody tr th {\n",
       "        vertical-align: top;\n",
       "    }\n",
       "\n",
       "    .dataframe thead th {\n",
       "        text-align: right;\n",
       "    }\n",
       "</style>\n",
       "<table border=\"1\" class=\"dataframe\">\n",
       "  <thead>\n",
       "    <tr style=\"text-align: right;\">\n",
       "      <th></th>\n",
       "      <th>Product</th>\n",
       "      <th>Quantity</th>\n",
       "    </tr>\n",
       "  </thead>\n",
       "  <tbody>\n",
       "    <tr>\n",
       "      <th>0</th>\n",
       "      <td>beans</td>\n",
       "      <td>3116</td>\n",
       "    </tr>\n",
       "    <tr>\n",
       "      <th>1</th>\n",
       "      <td>cashew</td>\n",
       "      <td>3258</td>\n",
       "    </tr>\n",
       "    <tr>\n",
       "      <th>2</th>\n",
       "      <td>cotton</td>\n",
       "      <td>7250</td>\n",
       "    </tr>\n",
       "    <tr>\n",
       "      <th>3</th>\n",
       "      <td>flour</td>\n",
       "      <td>3356</td>\n",
       "    </tr>\n",
       "    <tr>\n",
       "      <th>4</th>\n",
       "      <td>rice</td>\n",
       "      <td>3980</td>\n",
       "    </tr>\n",
       "    <tr>\n",
       "      <th>5</th>\n",
       "      <td>textile</td>\n",
       "      <td>3812</td>\n",
       "    </tr>\n",
       "  </tbody>\n",
       "</table>\n",
       "</div>"
      ],
      "text/plain": [
       "   Product  Quantity\n",
       "0    beans      3116\n",
       "1   cashew      3258\n",
       "2   cotton      7250\n",
       "3    flour      3356\n",
       "4     rice      3980\n",
       "5  textile      3812"
      ]
     },
     "execution_count": 44,
     "metadata": {},
     "output_type": "execute_result"
    }
   ],
   "source": [
    "newcombo"
   ]
  },
  {
   "cell_type": "code",
   "execution_count": 38,
   "id": "86ff207a",
   "metadata": {},
   "outputs": [],
   "source": [
    "import seaborn as sns"
   ]
  },
  {
   "cell_type": "code",
   "execution_count": 39,
   "id": "65afe4c0",
   "metadata": {},
   "outputs": [],
   "source": [
    "import matplotlib.pyplot as plt"
   ]
  },
  {
   "cell_type": "code",
   "execution_count": 76,
   "id": "fcaac90d",
   "metadata": {},
   "outputs": [],
   "source": [
    "import plotly.express as px"
   ]
  },
  {
   "cell_type": "code",
   "execution_count": 74,
   "id": "ccb9d9e4",
   "metadata": {
    "scrolled": true
   },
   "outputs": [
    {
     "data": {
      "text/html": [
       "<div>\n",
       "<style scoped>\n",
       "    .dataframe tbody tr th:only-of-type {\n",
       "        vertical-align: middle;\n",
       "    }\n",
       "\n",
       "    .dataframe tbody tr th {\n",
       "        vertical-align: top;\n",
       "    }\n",
       "\n",
       "    .dataframe thead th {\n",
       "        text-align: right;\n",
       "    }\n",
       "</style>\n",
       "<table border=\"1\" class=\"dataframe\">\n",
       "  <thead>\n",
       "    <tr style=\"text-align: right;\">\n",
       "      <th></th>\n",
       "      <th>Product</th>\n",
       "      <th>Quantity</th>\n",
       "    </tr>\n",
       "  </thead>\n",
       "  <tbody>\n",
       "    <tr>\n",
       "      <th>0</th>\n",
       "      <td>beans</td>\n",
       "      <td>3116</td>\n",
       "    </tr>\n",
       "    <tr>\n",
       "      <th>1</th>\n",
       "      <td>cashew</td>\n",
       "      <td>3258</td>\n",
       "    </tr>\n",
       "    <tr>\n",
       "      <th>2</th>\n",
       "      <td>cotton</td>\n",
       "      <td>7250</td>\n",
       "    </tr>\n",
       "    <tr>\n",
       "      <th>3</th>\n",
       "      <td>flour</td>\n",
       "      <td>3356</td>\n",
       "    </tr>\n",
       "    <tr>\n",
       "      <th>4</th>\n",
       "      <td>rice</td>\n",
       "      <td>3980</td>\n",
       "    </tr>\n",
       "    <tr>\n",
       "      <th>5</th>\n",
       "      <td>textile</td>\n",
       "      <td>3812</td>\n",
       "    </tr>\n",
       "  </tbody>\n",
       "</table>\n",
       "</div>"
      ],
      "text/plain": [
       "   Product  Quantity\n",
       "0    beans      3116\n",
       "1   cashew      3258\n",
       "2   cotton      7250\n",
       "3    flour      3356\n",
       "4     rice      3980\n",
       "5  textile      3812"
      ]
     },
     "execution_count": 74,
     "metadata": {},
     "output_type": "execute_result"
    }
   ],
   "source": [
    "# the grouped must be assigned to a variable\n",
    "a=newcombo=verticalcombo.groupby(\"Product\").sum().reset_index()\n",
    "a"
   ]
  },
  {
   "cell_type": "markdown",
   "id": "62311455",
   "metadata": {},
   "source": [
    "# your color is your x-axis\n"
   ]
  },
  {
   "cell_type": "code",
   "execution_count": 98,
   "id": "d38444ff",
   "metadata": {
    "scrolled": false
   },
   "outputs": [
    {
     "data": {
      "application/vnd.plotly.v1+json": {
       "config": {
        "plotlyServerURL": "https://plot.ly"
       },
       "data": [
        {
         "alignmentgroup": "True",
         "hovertemplate": "Product=%{x}<br>Quantity=%{y}<extra></extra>",
         "legendgroup": "beans",
         "marker": {
          "color": "#636efa",
          "pattern": {
           "shape": ""
          }
         },
         "name": "beans",
         "offsetgroup": "beans",
         "orientation": "v",
         "showlegend": true,
         "textposition": "auto",
         "type": "bar",
         "x": [
          "beans"
         ],
         "xaxis": "x",
         "y": [
          3116
         ],
         "yaxis": "y"
        },
        {
         "alignmentgroup": "True",
         "hovertemplate": "Product=%{x}<br>Quantity=%{y}<extra></extra>",
         "legendgroup": "cashew",
         "marker": {
          "color": "#EF553B",
          "pattern": {
           "shape": ""
          }
         },
         "name": "cashew",
         "offsetgroup": "cashew",
         "orientation": "v",
         "showlegend": true,
         "textposition": "auto",
         "type": "bar",
         "x": [
          "cashew"
         ],
         "xaxis": "x",
         "y": [
          3258
         ],
         "yaxis": "y"
        },
        {
         "alignmentgroup": "True",
         "hovertemplate": "Product=%{x}<br>Quantity=%{y}<extra></extra>",
         "legendgroup": "cotton",
         "marker": {
          "color": "#00cc96",
          "pattern": {
           "shape": ""
          }
         },
         "name": "cotton",
         "offsetgroup": "cotton",
         "orientation": "v",
         "showlegend": true,
         "textposition": "auto",
         "type": "bar",
         "x": [
          "cotton"
         ],
         "xaxis": "x",
         "y": [
          7250
         ],
         "yaxis": "y"
        },
        {
         "alignmentgroup": "True",
         "hovertemplate": "Product=%{x}<br>Quantity=%{y}<extra></extra>",
         "legendgroup": "flour",
         "marker": {
          "color": "#ab63fa",
          "pattern": {
           "shape": ""
          }
         },
         "name": "flour",
         "offsetgroup": "flour",
         "orientation": "v",
         "showlegend": true,
         "textposition": "auto",
         "type": "bar",
         "x": [
          "flour"
         ],
         "xaxis": "x",
         "y": [
          3356
         ],
         "yaxis": "y"
        },
        {
         "alignmentgroup": "True",
         "hovertemplate": "Product=%{x}<br>Quantity=%{y}<extra></extra>",
         "legendgroup": "rice",
         "marker": {
          "color": "#FFA15A",
          "pattern": {
           "shape": ""
          }
         },
         "name": "rice",
         "offsetgroup": "rice",
         "orientation": "v",
         "showlegend": true,
         "textposition": "auto",
         "type": "bar",
         "x": [
          "rice"
         ],
         "xaxis": "x",
         "y": [
          3980
         ],
         "yaxis": "y"
        },
        {
         "alignmentgroup": "True",
         "hovertemplate": "Product=%{x}<br>Quantity=%{y}<extra></extra>",
         "legendgroup": "textile",
         "marker": {
          "color": "#19d3f3",
          "pattern": {
           "shape": ""
          }
         },
         "name": "textile",
         "offsetgroup": "textile",
         "orientation": "v",
         "showlegend": true,
         "textposition": "auto",
         "type": "bar",
         "x": [
          "textile"
         ],
         "xaxis": "x",
         "y": [
          3812
         ],
         "yaxis": "y"
        }
       ],
       "layout": {
        "barmode": "relative",
        "height": 500,
        "legend": {
         "title": {
          "text": "Product"
         },
         "tracegroupgap": 0
        },
        "template": {
         "data": {
          "bar": [
           {
            "error_x": {
             "color": "#2a3f5f"
            },
            "error_y": {
             "color": "#2a3f5f"
            },
            "marker": {
             "line": {
              "color": "#E5ECF6",
              "width": 0.5
             },
             "pattern": {
              "fillmode": "overlay",
              "size": 10,
              "solidity": 0.2
             }
            },
            "type": "bar"
           }
          ],
          "barpolar": [
           {
            "marker": {
             "line": {
              "color": "#E5ECF6",
              "width": 0.5
             },
             "pattern": {
              "fillmode": "overlay",
              "size": 10,
              "solidity": 0.2
             }
            },
            "type": "barpolar"
           }
          ],
          "carpet": [
           {
            "aaxis": {
             "endlinecolor": "#2a3f5f",
             "gridcolor": "white",
             "linecolor": "white",
             "minorgridcolor": "white",
             "startlinecolor": "#2a3f5f"
            },
            "baxis": {
             "endlinecolor": "#2a3f5f",
             "gridcolor": "white",
             "linecolor": "white",
             "minorgridcolor": "white",
             "startlinecolor": "#2a3f5f"
            },
            "type": "carpet"
           }
          ],
          "choropleth": [
           {
            "colorbar": {
             "outlinewidth": 0,
             "ticks": ""
            },
            "type": "choropleth"
           }
          ],
          "contour": [
           {
            "colorbar": {
             "outlinewidth": 0,
             "ticks": ""
            },
            "colorscale": [
             [
              0,
              "#0d0887"
             ],
             [
              0.1111111111111111,
              "#46039f"
             ],
             [
              0.2222222222222222,
              "#7201a8"
             ],
             [
              0.3333333333333333,
              "#9c179e"
             ],
             [
              0.4444444444444444,
              "#bd3786"
             ],
             [
              0.5555555555555556,
              "#d8576b"
             ],
             [
              0.6666666666666666,
              "#ed7953"
             ],
             [
              0.7777777777777778,
              "#fb9f3a"
             ],
             [
              0.8888888888888888,
              "#fdca26"
             ],
             [
              1,
              "#f0f921"
             ]
            ],
            "type": "contour"
           }
          ],
          "contourcarpet": [
           {
            "colorbar": {
             "outlinewidth": 0,
             "ticks": ""
            },
            "type": "contourcarpet"
           }
          ],
          "heatmap": [
           {
            "colorbar": {
             "outlinewidth": 0,
             "ticks": ""
            },
            "colorscale": [
             [
              0,
              "#0d0887"
             ],
             [
              0.1111111111111111,
              "#46039f"
             ],
             [
              0.2222222222222222,
              "#7201a8"
             ],
             [
              0.3333333333333333,
              "#9c179e"
             ],
             [
              0.4444444444444444,
              "#bd3786"
             ],
             [
              0.5555555555555556,
              "#d8576b"
             ],
             [
              0.6666666666666666,
              "#ed7953"
             ],
             [
              0.7777777777777778,
              "#fb9f3a"
             ],
             [
              0.8888888888888888,
              "#fdca26"
             ],
             [
              1,
              "#f0f921"
             ]
            ],
            "type": "heatmap"
           }
          ],
          "heatmapgl": [
           {
            "colorbar": {
             "outlinewidth": 0,
             "ticks": ""
            },
            "colorscale": [
             [
              0,
              "#0d0887"
             ],
             [
              0.1111111111111111,
              "#46039f"
             ],
             [
              0.2222222222222222,
              "#7201a8"
             ],
             [
              0.3333333333333333,
              "#9c179e"
             ],
             [
              0.4444444444444444,
              "#bd3786"
             ],
             [
              0.5555555555555556,
              "#d8576b"
             ],
             [
              0.6666666666666666,
              "#ed7953"
             ],
             [
              0.7777777777777778,
              "#fb9f3a"
             ],
             [
              0.8888888888888888,
              "#fdca26"
             ],
             [
              1,
              "#f0f921"
             ]
            ],
            "type": "heatmapgl"
           }
          ],
          "histogram": [
           {
            "marker": {
             "pattern": {
              "fillmode": "overlay",
              "size": 10,
              "solidity": 0.2
             }
            },
            "type": "histogram"
           }
          ],
          "histogram2d": [
           {
            "colorbar": {
             "outlinewidth": 0,
             "ticks": ""
            },
            "colorscale": [
             [
              0,
              "#0d0887"
             ],
             [
              0.1111111111111111,
              "#46039f"
             ],
             [
              0.2222222222222222,
              "#7201a8"
             ],
             [
              0.3333333333333333,
              "#9c179e"
             ],
             [
              0.4444444444444444,
              "#bd3786"
             ],
             [
              0.5555555555555556,
              "#d8576b"
             ],
             [
              0.6666666666666666,
              "#ed7953"
             ],
             [
              0.7777777777777778,
              "#fb9f3a"
             ],
             [
              0.8888888888888888,
              "#fdca26"
             ],
             [
              1,
              "#f0f921"
             ]
            ],
            "type": "histogram2d"
           }
          ],
          "histogram2dcontour": [
           {
            "colorbar": {
             "outlinewidth": 0,
             "ticks": ""
            },
            "colorscale": [
             [
              0,
              "#0d0887"
             ],
             [
              0.1111111111111111,
              "#46039f"
             ],
             [
              0.2222222222222222,
              "#7201a8"
             ],
             [
              0.3333333333333333,
              "#9c179e"
             ],
             [
              0.4444444444444444,
              "#bd3786"
             ],
             [
              0.5555555555555556,
              "#d8576b"
             ],
             [
              0.6666666666666666,
              "#ed7953"
             ],
             [
              0.7777777777777778,
              "#fb9f3a"
             ],
             [
              0.8888888888888888,
              "#fdca26"
             ],
             [
              1,
              "#f0f921"
             ]
            ],
            "type": "histogram2dcontour"
           }
          ],
          "mesh3d": [
           {
            "colorbar": {
             "outlinewidth": 0,
             "ticks": ""
            },
            "type": "mesh3d"
           }
          ],
          "parcoords": [
           {
            "line": {
             "colorbar": {
              "outlinewidth": 0,
              "ticks": ""
             }
            },
            "type": "parcoords"
           }
          ],
          "pie": [
           {
            "automargin": true,
            "type": "pie"
           }
          ],
          "scatter": [
           {
            "fillpattern": {
             "fillmode": "overlay",
             "size": 10,
             "solidity": 0.2
            },
            "type": "scatter"
           }
          ],
          "scatter3d": [
           {
            "line": {
             "colorbar": {
              "outlinewidth": 0,
              "ticks": ""
             }
            },
            "marker": {
             "colorbar": {
              "outlinewidth": 0,
              "ticks": ""
             }
            },
            "type": "scatter3d"
           }
          ],
          "scattercarpet": [
           {
            "marker": {
             "colorbar": {
              "outlinewidth": 0,
              "ticks": ""
             }
            },
            "type": "scattercarpet"
           }
          ],
          "scattergeo": [
           {
            "marker": {
             "colorbar": {
              "outlinewidth": 0,
              "ticks": ""
             }
            },
            "type": "scattergeo"
           }
          ],
          "scattergl": [
           {
            "marker": {
             "colorbar": {
              "outlinewidth": 0,
              "ticks": ""
             }
            },
            "type": "scattergl"
           }
          ],
          "scattermapbox": [
           {
            "marker": {
             "colorbar": {
              "outlinewidth": 0,
              "ticks": ""
             }
            },
            "type": "scattermapbox"
           }
          ],
          "scatterpolar": [
           {
            "marker": {
             "colorbar": {
              "outlinewidth": 0,
              "ticks": ""
             }
            },
            "type": "scatterpolar"
           }
          ],
          "scatterpolargl": [
           {
            "marker": {
             "colorbar": {
              "outlinewidth": 0,
              "ticks": ""
             }
            },
            "type": "scatterpolargl"
           }
          ],
          "scatterternary": [
           {
            "marker": {
             "colorbar": {
              "outlinewidth": 0,
              "ticks": ""
             }
            },
            "type": "scatterternary"
           }
          ],
          "surface": [
           {
            "colorbar": {
             "outlinewidth": 0,
             "ticks": ""
            },
            "colorscale": [
             [
              0,
              "#0d0887"
             ],
             [
              0.1111111111111111,
              "#46039f"
             ],
             [
              0.2222222222222222,
              "#7201a8"
             ],
             [
              0.3333333333333333,
              "#9c179e"
             ],
             [
              0.4444444444444444,
              "#bd3786"
             ],
             [
              0.5555555555555556,
              "#d8576b"
             ],
             [
              0.6666666666666666,
              "#ed7953"
             ],
             [
              0.7777777777777778,
              "#fb9f3a"
             ],
             [
              0.8888888888888888,
              "#fdca26"
             ],
             [
              1,
              "#f0f921"
             ]
            ],
            "type": "surface"
           }
          ],
          "table": [
           {
            "cells": {
             "fill": {
              "color": "#EBF0F8"
             },
             "line": {
              "color": "white"
             }
            },
            "header": {
             "fill": {
              "color": "#C8D4E3"
             },
             "line": {
              "color": "white"
             }
            },
            "type": "table"
           }
          ]
         },
         "layout": {
          "annotationdefaults": {
           "arrowcolor": "#2a3f5f",
           "arrowhead": 0,
           "arrowwidth": 1
          },
          "autotypenumbers": "strict",
          "coloraxis": {
           "colorbar": {
            "outlinewidth": 0,
            "ticks": ""
           }
          },
          "colorscale": {
           "diverging": [
            [
             0,
             "#8e0152"
            ],
            [
             0.1,
             "#c51b7d"
            ],
            [
             0.2,
             "#de77ae"
            ],
            [
             0.3,
             "#f1b6da"
            ],
            [
             0.4,
             "#fde0ef"
            ],
            [
             0.5,
             "#f7f7f7"
            ],
            [
             0.6,
             "#e6f5d0"
            ],
            [
             0.7,
             "#b8e186"
            ],
            [
             0.8,
             "#7fbc41"
            ],
            [
             0.9,
             "#4d9221"
            ],
            [
             1,
             "#276419"
            ]
           ],
           "sequential": [
            [
             0,
             "#0d0887"
            ],
            [
             0.1111111111111111,
             "#46039f"
            ],
            [
             0.2222222222222222,
             "#7201a8"
            ],
            [
             0.3333333333333333,
             "#9c179e"
            ],
            [
             0.4444444444444444,
             "#bd3786"
            ],
            [
             0.5555555555555556,
             "#d8576b"
            ],
            [
             0.6666666666666666,
             "#ed7953"
            ],
            [
             0.7777777777777778,
             "#fb9f3a"
            ],
            [
             0.8888888888888888,
             "#fdca26"
            ],
            [
             1,
             "#f0f921"
            ]
           ],
           "sequentialminus": [
            [
             0,
             "#0d0887"
            ],
            [
             0.1111111111111111,
             "#46039f"
            ],
            [
             0.2222222222222222,
             "#7201a8"
            ],
            [
             0.3333333333333333,
             "#9c179e"
            ],
            [
             0.4444444444444444,
             "#bd3786"
            ],
            [
             0.5555555555555556,
             "#d8576b"
            ],
            [
             0.6666666666666666,
             "#ed7953"
            ],
            [
             0.7777777777777778,
             "#fb9f3a"
            ],
            [
             0.8888888888888888,
             "#fdca26"
            ],
            [
             1,
             "#f0f921"
            ]
           ]
          },
          "colorway": [
           "#636efa",
           "#EF553B",
           "#00cc96",
           "#ab63fa",
           "#FFA15A",
           "#19d3f3",
           "#FF6692",
           "#B6E880",
           "#FF97FF",
           "#FECB52"
          ],
          "font": {
           "color": "#2a3f5f"
          },
          "geo": {
           "bgcolor": "white",
           "lakecolor": "white",
           "landcolor": "#E5ECF6",
           "showlakes": true,
           "showland": true,
           "subunitcolor": "white"
          },
          "hoverlabel": {
           "align": "left"
          },
          "hovermode": "closest",
          "mapbox": {
           "style": "light"
          },
          "paper_bgcolor": "white",
          "plot_bgcolor": "#E5ECF6",
          "polar": {
           "angularaxis": {
            "gridcolor": "white",
            "linecolor": "white",
            "ticks": ""
           },
           "bgcolor": "#E5ECF6",
           "radialaxis": {
            "gridcolor": "white",
            "linecolor": "white",
            "ticks": ""
           }
          },
          "scene": {
           "xaxis": {
            "backgroundcolor": "#E5ECF6",
            "gridcolor": "white",
            "gridwidth": 2,
            "linecolor": "white",
            "showbackground": true,
            "ticks": "",
            "zerolinecolor": "white"
           },
           "yaxis": {
            "backgroundcolor": "#E5ECF6",
            "gridcolor": "white",
            "gridwidth": 2,
            "linecolor": "white",
            "showbackground": true,
            "ticks": "",
            "zerolinecolor": "white"
           },
           "zaxis": {
            "backgroundcolor": "#E5ECF6",
            "gridcolor": "white",
            "gridwidth": 2,
            "linecolor": "white",
            "showbackground": true,
            "ticks": "",
            "zerolinecolor": "white"
           }
          },
          "shapedefaults": {
           "line": {
            "color": "#2a3f5f"
           }
          },
          "ternary": {
           "aaxis": {
            "gridcolor": "white",
            "linecolor": "white",
            "ticks": ""
           },
           "baxis": {
            "gridcolor": "white",
            "linecolor": "white",
            "ticks": ""
           },
           "bgcolor": "#E5ECF6",
           "caxis": {
            "gridcolor": "white",
            "linecolor": "white",
            "ticks": ""
           }
          },
          "title": {
           "x": 0.05
          },
          "xaxis": {
           "automargin": true,
           "gridcolor": "white",
           "linecolor": "white",
           "ticks": "",
           "title": {
            "standoff": 15
           },
           "zerolinecolor": "white",
           "zerolinewidth": 2
          },
          "yaxis": {
           "automargin": true,
           "gridcolor": "white",
           "linecolor": "white",
           "ticks": "",
           "title": {
            "standoff": 15
           },
           "zerolinecolor": "white",
           "zerolinewidth": 2
          }
         }
        },
        "title": {
         "text": "product vs quantity"
        },
        "width": 700,
        "xaxis": {
         "anchor": "y",
         "categoryarray": [
          "beans",
          "cashew",
          "cotton",
          "flour",
          "rice",
          "textile"
         ],
         "categoryorder": "array",
         "domain": [
          0,
          1
         ],
         "title": {
          "text": "Product"
         }
        },
        "yaxis": {
         "anchor": "x",
         "domain": [
          0,
          1
         ],
         "title": {
          "text": "Quantity"
         }
        }
       }
      },
      "text/html": [
       "<div>                            <div id=\"0bba7e1f-fb3c-4d57-a012-0b1b0a6cf0d3\" class=\"plotly-graph-div\" style=\"height:500px; width:700px;\"></div>            <script type=\"text/javascript\">                require([\"plotly\"], function(Plotly) {                    window.PLOTLYENV=window.PLOTLYENV || {};                                    if (document.getElementById(\"0bba7e1f-fb3c-4d57-a012-0b1b0a6cf0d3\")) {                    Plotly.newPlot(                        \"0bba7e1f-fb3c-4d57-a012-0b1b0a6cf0d3\",                        [{\"alignmentgroup\":\"True\",\"hovertemplate\":\"Product=%{x}\\u003cbr\\u003eQuantity=%{y}\\u003cextra\\u003e\\u003c\\u002fextra\\u003e\",\"legendgroup\":\"beans\",\"marker\":{\"color\":\"#636efa\",\"pattern\":{\"shape\":\"\"}},\"name\":\"beans\",\"offsetgroup\":\"beans\",\"orientation\":\"v\",\"showlegend\":true,\"textposition\":\"auto\",\"x\":[\"beans\"],\"xaxis\":\"x\",\"y\":[3116],\"yaxis\":\"y\",\"type\":\"bar\"},{\"alignmentgroup\":\"True\",\"hovertemplate\":\"Product=%{x}\\u003cbr\\u003eQuantity=%{y}\\u003cextra\\u003e\\u003c\\u002fextra\\u003e\",\"legendgroup\":\"cashew\",\"marker\":{\"color\":\"#EF553B\",\"pattern\":{\"shape\":\"\"}},\"name\":\"cashew\",\"offsetgroup\":\"cashew\",\"orientation\":\"v\",\"showlegend\":true,\"textposition\":\"auto\",\"x\":[\"cashew\"],\"xaxis\":\"x\",\"y\":[3258],\"yaxis\":\"y\",\"type\":\"bar\"},{\"alignmentgroup\":\"True\",\"hovertemplate\":\"Product=%{x}\\u003cbr\\u003eQuantity=%{y}\\u003cextra\\u003e\\u003c\\u002fextra\\u003e\",\"legendgroup\":\"cotton\",\"marker\":{\"color\":\"#00cc96\",\"pattern\":{\"shape\":\"\"}},\"name\":\"cotton\",\"offsetgroup\":\"cotton\",\"orientation\":\"v\",\"showlegend\":true,\"textposition\":\"auto\",\"x\":[\"cotton\"],\"xaxis\":\"x\",\"y\":[7250],\"yaxis\":\"y\",\"type\":\"bar\"},{\"alignmentgroup\":\"True\",\"hovertemplate\":\"Product=%{x}\\u003cbr\\u003eQuantity=%{y}\\u003cextra\\u003e\\u003c\\u002fextra\\u003e\",\"legendgroup\":\"flour\",\"marker\":{\"color\":\"#ab63fa\",\"pattern\":{\"shape\":\"\"}},\"name\":\"flour\",\"offsetgroup\":\"flour\",\"orientation\":\"v\",\"showlegend\":true,\"textposition\":\"auto\",\"x\":[\"flour\"],\"xaxis\":\"x\",\"y\":[3356],\"yaxis\":\"y\",\"type\":\"bar\"},{\"alignmentgroup\":\"True\",\"hovertemplate\":\"Product=%{x}\\u003cbr\\u003eQuantity=%{y}\\u003cextra\\u003e\\u003c\\u002fextra\\u003e\",\"legendgroup\":\"rice\",\"marker\":{\"color\":\"#FFA15A\",\"pattern\":{\"shape\":\"\"}},\"name\":\"rice\",\"offsetgroup\":\"rice\",\"orientation\":\"v\",\"showlegend\":true,\"textposition\":\"auto\",\"x\":[\"rice\"],\"xaxis\":\"x\",\"y\":[3980],\"yaxis\":\"y\",\"type\":\"bar\"},{\"alignmentgroup\":\"True\",\"hovertemplate\":\"Product=%{x}\\u003cbr\\u003eQuantity=%{y}\\u003cextra\\u003e\\u003c\\u002fextra\\u003e\",\"legendgroup\":\"textile\",\"marker\":{\"color\":\"#19d3f3\",\"pattern\":{\"shape\":\"\"}},\"name\":\"textile\",\"offsetgroup\":\"textile\",\"orientation\":\"v\",\"showlegend\":true,\"textposition\":\"auto\",\"x\":[\"textile\"],\"xaxis\":\"x\",\"y\":[3812],\"yaxis\":\"y\",\"type\":\"bar\"}],                        {\"template\":{\"data\":{\"histogram2dcontour\":[{\"type\":\"histogram2dcontour\",\"colorbar\":{\"outlinewidth\":0,\"ticks\":\"\"},\"colorscale\":[[0.0,\"#0d0887\"],[0.1111111111111111,\"#46039f\"],[0.2222222222222222,\"#7201a8\"],[0.3333333333333333,\"#9c179e\"],[0.4444444444444444,\"#bd3786\"],[0.5555555555555556,\"#d8576b\"],[0.6666666666666666,\"#ed7953\"],[0.7777777777777778,\"#fb9f3a\"],[0.8888888888888888,\"#fdca26\"],[1.0,\"#f0f921\"]]}],\"choropleth\":[{\"type\":\"choropleth\",\"colorbar\":{\"outlinewidth\":0,\"ticks\":\"\"}}],\"histogram2d\":[{\"type\":\"histogram2d\",\"colorbar\":{\"outlinewidth\":0,\"ticks\":\"\"},\"colorscale\":[[0.0,\"#0d0887\"],[0.1111111111111111,\"#46039f\"],[0.2222222222222222,\"#7201a8\"],[0.3333333333333333,\"#9c179e\"],[0.4444444444444444,\"#bd3786\"],[0.5555555555555556,\"#d8576b\"],[0.6666666666666666,\"#ed7953\"],[0.7777777777777778,\"#fb9f3a\"],[0.8888888888888888,\"#fdca26\"],[1.0,\"#f0f921\"]]}],\"heatmap\":[{\"type\":\"heatmap\",\"colorbar\":{\"outlinewidth\":0,\"ticks\":\"\"},\"colorscale\":[[0.0,\"#0d0887\"],[0.1111111111111111,\"#46039f\"],[0.2222222222222222,\"#7201a8\"],[0.3333333333333333,\"#9c179e\"],[0.4444444444444444,\"#bd3786\"],[0.5555555555555556,\"#d8576b\"],[0.6666666666666666,\"#ed7953\"],[0.7777777777777778,\"#fb9f3a\"],[0.8888888888888888,\"#fdca26\"],[1.0,\"#f0f921\"]]}],\"heatmapgl\":[{\"type\":\"heatmapgl\",\"colorbar\":{\"outlinewidth\":0,\"ticks\":\"\"},\"colorscale\":[[0.0,\"#0d0887\"],[0.1111111111111111,\"#46039f\"],[0.2222222222222222,\"#7201a8\"],[0.3333333333333333,\"#9c179e\"],[0.4444444444444444,\"#bd3786\"],[0.5555555555555556,\"#d8576b\"],[0.6666666666666666,\"#ed7953\"],[0.7777777777777778,\"#fb9f3a\"],[0.8888888888888888,\"#fdca26\"],[1.0,\"#f0f921\"]]}],\"contourcarpet\":[{\"type\":\"contourcarpet\",\"colorbar\":{\"outlinewidth\":0,\"ticks\":\"\"}}],\"contour\":[{\"type\":\"contour\",\"colorbar\":{\"outlinewidth\":0,\"ticks\":\"\"},\"colorscale\":[[0.0,\"#0d0887\"],[0.1111111111111111,\"#46039f\"],[0.2222222222222222,\"#7201a8\"],[0.3333333333333333,\"#9c179e\"],[0.4444444444444444,\"#bd3786\"],[0.5555555555555556,\"#d8576b\"],[0.6666666666666666,\"#ed7953\"],[0.7777777777777778,\"#fb9f3a\"],[0.8888888888888888,\"#fdca26\"],[1.0,\"#f0f921\"]]}],\"surface\":[{\"type\":\"surface\",\"colorbar\":{\"outlinewidth\":0,\"ticks\":\"\"},\"colorscale\":[[0.0,\"#0d0887\"],[0.1111111111111111,\"#46039f\"],[0.2222222222222222,\"#7201a8\"],[0.3333333333333333,\"#9c179e\"],[0.4444444444444444,\"#bd3786\"],[0.5555555555555556,\"#d8576b\"],[0.6666666666666666,\"#ed7953\"],[0.7777777777777778,\"#fb9f3a\"],[0.8888888888888888,\"#fdca26\"],[1.0,\"#f0f921\"]]}],\"mesh3d\":[{\"type\":\"mesh3d\",\"colorbar\":{\"outlinewidth\":0,\"ticks\":\"\"}}],\"scatter\":[{\"fillpattern\":{\"fillmode\":\"overlay\",\"size\":10,\"solidity\":0.2},\"type\":\"scatter\"}],\"parcoords\":[{\"type\":\"parcoords\",\"line\":{\"colorbar\":{\"outlinewidth\":0,\"ticks\":\"\"}}}],\"scatterpolargl\":[{\"type\":\"scatterpolargl\",\"marker\":{\"colorbar\":{\"outlinewidth\":0,\"ticks\":\"\"}}}],\"bar\":[{\"error_x\":{\"color\":\"#2a3f5f\"},\"error_y\":{\"color\":\"#2a3f5f\"},\"marker\":{\"line\":{\"color\":\"#E5ECF6\",\"width\":0.5},\"pattern\":{\"fillmode\":\"overlay\",\"size\":10,\"solidity\":0.2}},\"type\":\"bar\"}],\"scattergeo\":[{\"type\":\"scattergeo\",\"marker\":{\"colorbar\":{\"outlinewidth\":0,\"ticks\":\"\"}}}],\"scatterpolar\":[{\"type\":\"scatterpolar\",\"marker\":{\"colorbar\":{\"outlinewidth\":0,\"ticks\":\"\"}}}],\"histogram\":[{\"marker\":{\"pattern\":{\"fillmode\":\"overlay\",\"size\":10,\"solidity\":0.2}},\"type\":\"histogram\"}],\"scattergl\":[{\"type\":\"scattergl\",\"marker\":{\"colorbar\":{\"outlinewidth\":0,\"ticks\":\"\"}}}],\"scatter3d\":[{\"type\":\"scatter3d\",\"line\":{\"colorbar\":{\"outlinewidth\":0,\"ticks\":\"\"}},\"marker\":{\"colorbar\":{\"outlinewidth\":0,\"ticks\":\"\"}}}],\"scattermapbox\":[{\"type\":\"scattermapbox\",\"marker\":{\"colorbar\":{\"outlinewidth\":0,\"ticks\":\"\"}}}],\"scatterternary\":[{\"type\":\"scatterternary\",\"marker\":{\"colorbar\":{\"outlinewidth\":0,\"ticks\":\"\"}}}],\"scattercarpet\":[{\"type\":\"scattercarpet\",\"marker\":{\"colorbar\":{\"outlinewidth\":0,\"ticks\":\"\"}}}],\"carpet\":[{\"aaxis\":{\"endlinecolor\":\"#2a3f5f\",\"gridcolor\":\"white\",\"linecolor\":\"white\",\"minorgridcolor\":\"white\",\"startlinecolor\":\"#2a3f5f\"},\"baxis\":{\"endlinecolor\":\"#2a3f5f\",\"gridcolor\":\"white\",\"linecolor\":\"white\",\"minorgridcolor\":\"white\",\"startlinecolor\":\"#2a3f5f\"},\"type\":\"carpet\"}],\"table\":[{\"cells\":{\"fill\":{\"color\":\"#EBF0F8\"},\"line\":{\"color\":\"white\"}},\"header\":{\"fill\":{\"color\":\"#C8D4E3\"},\"line\":{\"color\":\"white\"}},\"type\":\"table\"}],\"barpolar\":[{\"marker\":{\"line\":{\"color\":\"#E5ECF6\",\"width\":0.5},\"pattern\":{\"fillmode\":\"overlay\",\"size\":10,\"solidity\":0.2}},\"type\":\"barpolar\"}],\"pie\":[{\"automargin\":true,\"type\":\"pie\"}]},\"layout\":{\"autotypenumbers\":\"strict\",\"colorway\":[\"#636efa\",\"#EF553B\",\"#00cc96\",\"#ab63fa\",\"#FFA15A\",\"#19d3f3\",\"#FF6692\",\"#B6E880\",\"#FF97FF\",\"#FECB52\"],\"font\":{\"color\":\"#2a3f5f\"},\"hovermode\":\"closest\",\"hoverlabel\":{\"align\":\"left\"},\"paper_bgcolor\":\"white\",\"plot_bgcolor\":\"#E5ECF6\",\"polar\":{\"bgcolor\":\"#E5ECF6\",\"angularaxis\":{\"gridcolor\":\"white\",\"linecolor\":\"white\",\"ticks\":\"\"},\"radialaxis\":{\"gridcolor\":\"white\",\"linecolor\":\"white\",\"ticks\":\"\"}},\"ternary\":{\"bgcolor\":\"#E5ECF6\",\"aaxis\":{\"gridcolor\":\"white\",\"linecolor\":\"white\",\"ticks\":\"\"},\"baxis\":{\"gridcolor\":\"white\",\"linecolor\":\"white\",\"ticks\":\"\"},\"caxis\":{\"gridcolor\":\"white\",\"linecolor\":\"white\",\"ticks\":\"\"}},\"coloraxis\":{\"colorbar\":{\"outlinewidth\":0,\"ticks\":\"\"}},\"colorscale\":{\"sequential\":[[0.0,\"#0d0887\"],[0.1111111111111111,\"#46039f\"],[0.2222222222222222,\"#7201a8\"],[0.3333333333333333,\"#9c179e\"],[0.4444444444444444,\"#bd3786\"],[0.5555555555555556,\"#d8576b\"],[0.6666666666666666,\"#ed7953\"],[0.7777777777777778,\"#fb9f3a\"],[0.8888888888888888,\"#fdca26\"],[1.0,\"#f0f921\"]],\"sequentialminus\":[[0.0,\"#0d0887\"],[0.1111111111111111,\"#46039f\"],[0.2222222222222222,\"#7201a8\"],[0.3333333333333333,\"#9c179e\"],[0.4444444444444444,\"#bd3786\"],[0.5555555555555556,\"#d8576b\"],[0.6666666666666666,\"#ed7953\"],[0.7777777777777778,\"#fb9f3a\"],[0.8888888888888888,\"#fdca26\"],[1.0,\"#f0f921\"]],\"diverging\":[[0,\"#8e0152\"],[0.1,\"#c51b7d\"],[0.2,\"#de77ae\"],[0.3,\"#f1b6da\"],[0.4,\"#fde0ef\"],[0.5,\"#f7f7f7\"],[0.6,\"#e6f5d0\"],[0.7,\"#b8e186\"],[0.8,\"#7fbc41\"],[0.9,\"#4d9221\"],[1,\"#276419\"]]},\"xaxis\":{\"gridcolor\":\"white\",\"linecolor\":\"white\",\"ticks\":\"\",\"title\":{\"standoff\":15},\"zerolinecolor\":\"white\",\"automargin\":true,\"zerolinewidth\":2},\"yaxis\":{\"gridcolor\":\"white\",\"linecolor\":\"white\",\"ticks\":\"\",\"title\":{\"standoff\":15},\"zerolinecolor\":\"white\",\"automargin\":true,\"zerolinewidth\":2},\"scene\":{\"xaxis\":{\"backgroundcolor\":\"#E5ECF6\",\"gridcolor\":\"white\",\"linecolor\":\"white\",\"showbackground\":true,\"ticks\":\"\",\"zerolinecolor\":\"white\",\"gridwidth\":2},\"yaxis\":{\"backgroundcolor\":\"#E5ECF6\",\"gridcolor\":\"white\",\"linecolor\":\"white\",\"showbackground\":true,\"ticks\":\"\",\"zerolinecolor\":\"white\",\"gridwidth\":2},\"zaxis\":{\"backgroundcolor\":\"#E5ECF6\",\"gridcolor\":\"white\",\"linecolor\":\"white\",\"showbackground\":true,\"ticks\":\"\",\"zerolinecolor\":\"white\",\"gridwidth\":2}},\"shapedefaults\":{\"line\":{\"color\":\"#2a3f5f\"}},\"annotationdefaults\":{\"arrowcolor\":\"#2a3f5f\",\"arrowhead\":0,\"arrowwidth\":1},\"geo\":{\"bgcolor\":\"white\",\"landcolor\":\"#E5ECF6\",\"subunitcolor\":\"white\",\"showland\":true,\"showlakes\":true,\"lakecolor\":\"white\"},\"title\":{\"x\":0.05},\"mapbox\":{\"style\":\"light\"}}},\"xaxis\":{\"anchor\":\"y\",\"domain\":[0.0,1.0],\"title\":{\"text\":\"Product\"},\"categoryorder\":\"array\",\"categoryarray\":[\"beans\",\"cashew\",\"cotton\",\"flour\",\"rice\",\"textile\"]},\"yaxis\":{\"anchor\":\"x\",\"domain\":[0.0,1.0],\"title\":{\"text\":\"Quantity\"}},\"legend\":{\"title\":{\"text\":\"Product\"},\"tracegroupgap\":0},\"title\":{\"text\":\"product vs quantity\"},\"barmode\":\"relative\",\"height\":500,\"width\":700},                        {\"responsive\": true}                    ).then(function(){\n",
       "                            \n",
       "var gd = document.getElementById('0bba7e1f-fb3c-4d57-a012-0b1b0a6cf0d3');\n",
       "var x = new MutationObserver(function (mutations, observer) {{\n",
       "        var display = window.getComputedStyle(gd).display;\n",
       "        if (!display || display === 'none') {{\n",
       "            console.log([gd, 'removed!']);\n",
       "            Plotly.purge(gd);\n",
       "            observer.disconnect();\n",
       "        }}\n",
       "}});\n",
       "\n",
       "// Listen for the removal of the full notebook cells\n",
       "var notebookContainer = gd.closest('#notebook-container');\n",
       "if (notebookContainer) {{\n",
       "    x.observe(notebookContainer, {childList: true});\n",
       "}}\n",
       "\n",
       "// Listen for the clearing of the current output cell\n",
       "var outputEl = gd.closest('.output');\n",
       "if (outputEl) {{\n",
       "    x.observe(outputEl, {childList: true});\n",
       "}}\n",
       "\n",
       "                        })                };                });            </script>        </div>"
      ]
     },
     "metadata": {},
     "output_type": "display_data"
    }
   ],
   "source": [
    "px.bar(a,x=\"Product\",y=\"Quantity\",title=\"product vs quantity\",height=500,width=700)\n",
    "chart2=px.bar(a,x=\"Product\",y=\"Quantity\",title=\"product vs quantity\",height=500,width=700,color=\"Product\")\n",
    "chart2"
   ]
  },
  {
   "cell_type": "markdown",
   "id": "96762699",
   "metadata": {},
   "source": [
    "# your data is the dataframe where the content(x,y) is located"
   ]
  },
  {
   "cell_type": "code",
   "execution_count": 100,
   "id": "b1cc7625",
   "metadata": {},
   "outputs": [
    {
     "data": {
      "text/plain": [
       "<AxesSubplot:xlabel='Product', ylabel='Quantity'>"
      ]
     },
     "execution_count": 100,
     "metadata": {},
     "output_type": "execute_result"
    },
    {
     "data": {
      "image/png": "[encoded data removed]",
      "text/plain": [
       "<Figure size 432x288 with 1 Axes>"
      ]
     },
     "metadata": {
      "needs_background": "light"
     },
     "output_type": "display_data"
    }
   ],
   "source": [
    "sns.barplot(y=\"Quantity\",x=\"Product\",data=a)"
   ]
  }
 ],
 "metadata": {
  "kernelspec": {
   "display_name": "Python 3",
   "language": "python",
   "name": "python3"
  },
  "language_info": {
   "codemirror_mode": {
    "name": "ipython",
    "version": 3
   },
   "file_extension": ".py",
   "mimetype": "text/x-python",
   "name": "python",
   "nbconvert_exporter": "python",
   "pygments_lexer": "ipython3",
   "version": "3.8.8"
  }
 },
 "nbformat": 4,
 "nbformat_minor": 5
}
