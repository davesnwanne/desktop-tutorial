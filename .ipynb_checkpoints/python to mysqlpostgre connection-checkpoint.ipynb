{
 "cells": [
  {
   "cell_type": "markdown",
   "id": "59ee643e",
   "metadata": {},
   "source": [
    "# installing a new libary from python you use !\n",
    "# and also from CMD prompt using pip install  \"ctrl r\" to open cmd"
   ]
  },
  {
   "cell_type": "code",
   "execution_count": 2,
   "id": "4400c7ed",
   "metadata": {},
   "outputs": [
    {
     "name": "stdout",
     "output_type": "stream",
     "text": [
      "Collecting pymysql\n",
      "  Downloading PyMySQL-1.1.0-py3-none-any.whl (44 kB)\n",
      "Installing collected packages: pymysql\n",
      "Successfully installed pymysql-1.1.0\n"
     ]
    }
   ],
   "source": [
    "!pip install pymysql\n",
    "\n",
    "#pymysql is used to connect pandas to mysql database management system"
   ]
  },
  {
   "cell_type": "code",
   "execution_count": null,
   "id": "0ce36c70",
   "metadata": {},
   "outputs": [],
   "source": [
    "! pip install psycopg2\n",
    "#pyscopg2 is used to connect pandas to a postgresql database management system\n"
   ]
  },
  {
   "cell_type": "code",
   "execution_count": 8,
   "id": "c24277de",
   "metadata": {},
   "outputs": [],
   "source": [
    "from pymysql import connect\n",
    "#from psycopg2 import connect\n",
    "\n",
    "import warnings\n",
    "warnings.filterwarnings(\"ignore\")"
   ]
  },
  {
   "cell_type": "code",
   "execution_count": 10,
   "id": "59590eb3",
   "metadata": {},
   "outputs": [
    {
     "data": {
      "text/plain": [
       "<pymysql.connections.Connection at 0x1bb9d940f10>"
      ]
     },
     "execution_count": 10,
     "metadata": {},
     "output_type": "execute_result"
    }
   ],
   "source": [
    "#connect will enable the installed libary to connect to mysql\n",
    "\n",
    "connect(host=\"localhost\",user=\"root\" ,password=\"065321\", database=\"car\")\n"
   ]
  },
  {
   "cell_type": "code",
   "execution_count": 12,
   "id": "5b18ac30",
   "metadata": {},
   "outputs": [],
   "source": [
    "details=connect(host=\"localhost\",user=\"root\",password=\"065321\", database=\"car\")"
   ]
  },
  {
   "cell_type": "markdown",
   "id": "2ec2fe5d",
   "metadata": {},
   "source": [
    "# before excutecuting anyrows you have to use .cursor()"
   ]
  },
  {
   "cell_type": "code",
   "execution_count": 13,
   "id": "8b9ca1ab",
   "metadata": {
    "scrolled": true
   },
   "outputs": [
    {
     "data": {
      "text/plain": [
       "<pymysql.cursors.Cursor at 0x1bb9da5b550>"
      ]
     },
     "execution_count": 13,
     "metadata": {},
     "output_type": "execute_result"
    }
   ],
   "source": [
    "# navigate through the database\n",
    "details.cursor()\n",
    "# use the the assigned name .cursor() to access the table"
   ]
  },
  {
   "cell_type": "code",
   "execution_count": 17,
   "id": "059ed532",
   "metadata": {},
   "outputs": [],
   "source": [
    "import pandas as pd"
   ]
  },
  {
   "cell_type": "code",
   "execution_count": 15,
   "id": "1fdbf597",
   "metadata": {},
   "outputs": [],
   "source": [
    "query=\"select *from lists\""
   ]
  },
  {
   "cell_type": "markdown",
   "id": "aef73a3a",
   "metadata": {},
   "source": [
    "# details.cursor().execute(query)"
   ]
  },
  {
   "cell_type": "code",
   "execution_count": 18,
   "id": "937a8a62",
   "metadata": {},
   "outputs": [
    {
     "data": {
      "text/plain": [
       "7"
      ]
     },
     "execution_count": 18,
     "metadata": {},
     "output_type": "execute_result"
    }
   ],
   "source": [
    "details.cursor().execute(query)"
   ]
  },
  {
   "cell_type": "markdown",
   "id": "2641c62c",
   "metadata": {},
   "source": [
    "# read sql(query,details)"
   ]
  },
  {
   "cell_type": "code",
   "execution_count": 23,
   "id": "1daebf90",
   "metadata": {},
   "outputs": [],
   "source": [
    "manufacturers=pd.read_sql(query, details)"
   ]
  },
  {
   "cell_type": "code",
   "execution_count": 24,
   "id": "e6b60480",
   "metadata": {},
   "outputs": [
    {
     "data": {
      "text/html": [
       "<div>\n",
       "<style scoped>\n",
       "    .dataframe tbody tr th:only-of-type {\n",
       "        vertical-align: middle;\n",
       "    }\n",
       "\n",
       "    .dataframe tbody tr th {\n",
       "        vertical-align: top;\n",
       "    }\n",
       "\n",
       "    .dataframe thead th {\n",
       "        text-align: right;\n",
       "    }\n",
       "</style>\n",
       "<table border=\"1\" class=\"dataframe\">\n",
       "  <thead>\n",
       "    <tr style=\"text-align: right;\">\n",
       "      <th></th>\n",
       "      <th>RANKS</th>\n",
       "      <th>CHANGE_FROM_LAST_YEAR</th>\n",
       "      <th>BRAND</th>\n",
       "      <th>BRAND_AVERAGE</th>\n",
       "      <th>NUMBER_OF_MODELS</th>\n",
       "      <th>MOST_RELIABLE_MODEL_SCORE</th>\n",
       "      <th>LEAST_RELIABLE_MODEL_SCORE</th>\n",
       "    </tr>\n",
       "  </thead>\n",
       "  <tbody>\n",
       "    <tr>\n",
       "      <th>0</th>\n",
       "      <td>6</td>\n",
       "      <td>5</td>\n",
       "      <td>AUDI</td>\n",
       "      <td>60</td>\n",
       "      <td>5</td>\n",
       "      <td>95</td>\n",
       "      <td>46</td>\n",
       "    </tr>\n",
       "    <tr>\n",
       "      <th>1</th>\n",
       "      <td>7</td>\n",
       "      <td>1</td>\n",
       "      <td>SUBARU</td>\n",
       "      <td>59</td>\n",
       "      <td>6</td>\n",
       "      <td>80</td>\n",
       "      <td>64</td>\n",
       "    </tr>\n",
       "    <tr>\n",
       "      <th>2</th>\n",
       "      <td>8</td>\n",
       "      <td>1</td>\n",
       "      <td>ACURA</td>\n",
       "      <td>57</td>\n",
       "      <td>3</td>\n",
       "      <td>64</td>\n",
       "      <td>45</td>\n",
       "    </tr>\n",
       "    <tr>\n",
       "      <th>3</th>\n",
       "      <td>9</td>\n",
       "      <td>6</td>\n",
       "      <td>KIA</td>\n",
       "      <td>54</td>\n",
       "      <td>9</td>\n",
       "      <td>85</td>\n",
       "      <td>5</td>\n",
       "    </tr>\n",
       "    <tr>\n",
       "      <th>4</th>\n",
       "      <td>10</td>\n",
       "      <td>14</td>\n",
       "      <td>LINCOLN</td>\n",
       "      <td>54</td>\n",
       "      <td>3</td>\n",
       "      <td>82</td>\n",
       "      <td>8</td>\n",
       "    </tr>\n",
       "    <tr>\n",
       "      <th>5</th>\n",
       "      <td>11</td>\n",
       "      <td>7</td>\n",
       "      <td>BUICK</td>\n",
       "      <td>54</td>\n",
       "      <td>3</td>\n",
       "      <td>55</td>\n",
       "      <td>52</td>\n",
       "    </tr>\n",
       "    <tr>\n",
       "      <th>6</th>\n",
       "      <td>12</td>\n",
       "      <td>9</td>\n",
       "      <td>GENESIS</td>\n",
       "      <td>52</td>\n",
       "      <td>3</td>\n",
       "      <td>67</td>\n",
       "      <td>38</td>\n",
       "    </tr>\n",
       "  </tbody>\n",
       "</table>\n",
       "</div>"
      ],
      "text/plain": [
       "   RANKS  CHANGE_FROM_LAST_YEAR    BRAND  BRAND_AVERAGE  NUMBER_OF_MODELS  \\\n",
       "0      6                      5     AUDI             60                 5   \n",
       "1      7                      1   SUBARU             59                 6   \n",
       "2      8                      1    ACURA             57                 3   \n",
       "3      9                      6      KIA             54                 9   \n",
       "4     10                     14  LINCOLN             54                 3   \n",
       "5     11                      7    BUICK             54                 3   \n",
       "6     12                      9  GENESIS             52                 3   \n",
       "\n",
       "   MOST_RELIABLE_MODEL_SCORE  LEAST_RELIABLE_MODEL_SCORE  \n",
       "0                         95                          46  \n",
       "1                         80                          64  \n",
       "2                         64                          45  \n",
       "3                         85                           5  \n",
       "4                         82                           8  \n",
       "5                         55                          52  \n",
       "6                         67                          38  "
      ]
     },
     "execution_count": 24,
     "metadata": {},
     "output_type": "execute_result"
    }
   ],
   "source": [
    "manufacturers"
   ]
  },
  {
   "cell_type": "code",
   "execution_count": 22,
   "id": "025842f5",
   "metadata": {},
   "outputs": [],
   "source": [
    "manufacturers2=details=connect(host=\"localhost\",user=\"root\",password=\"065321\", database=\"car\")"
   ]
  },
  {
   "cell_type": "code",
   "execution_count": null,
   "id": "56d8034f",
   "metadata": {},
   "outputs": [],
   "source": [
    "# using \"create database \"name\".  it will create a databse on mysql localhost or database"
   ]
  },
  {
   "cell_type": "code",
   "execution_count": 25,
   "id": "7f6a8985",
   "metadata": {},
   "outputs": [],
   "source": [
    "query2=\"create database family\""
   ]
  },
  {
   "cell_type": "code",
   "execution_count": 28,
   "id": "939fe129",
   "metadata": {},
   "outputs": [
    {
     "data": {
      "text/plain": [
       "1"
      ]
     },
     "execution_count": 28,
     "metadata": {},
     "output_type": "execute_result"
    }
   ],
   "source": [
    "manufacturers2.cursor().execute(query2)"
   ]
  },
  {
   "cell_type": "code",
   "execution_count": null,
   "id": "8cab884d",
   "metadata": {},
   "outputs": [],
   "source": []
  }
 ],
 "metadata": {
  "kernelspec": {
   "display_name": "Python 3",
   "language": "python",
   "name": "python3"
  },
  "language_info": {
   "codemirror_mode": {
    "name": "ipython",
    "version": 3
   },
   "file_extension": ".py",
   "mimetype": "text/x-python",
   "name": "python",
   "nbconvert_exporter": "python",
   "pygments_lexer": "ipython3",
   "version": "3.8.8"
  }
 },
 "nbformat": 4,
 "nbformat_minor": 5
}
