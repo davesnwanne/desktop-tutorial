{
 "cells": [
  {
   "cell_type": "markdown",
   "id": "cca045e3",
   "metadata": {},
   "source": [
    "Assignment operators and comparison opertaors"
   ]
  },
  {
   "cell_type": "code",
   "execution_count": 1,
   "id": "e9bf65d0",
   "metadata": {},
   "outputs": [],
   "source": [
    "#\"=\" is an assignment operator, used to assign a value to a variable\n",
    "a = 5\n",
    "name = \"mike\""
   ]
  },
  {
   "cell_type": "markdown",
   "id": "4116998a",
   "metadata": {},
   "source": [
    "comparison operators return boolean values(returns true if both values are desame, but false if one is wrong)\n",
    "comparison operators are used to compare to values \n"
   ]
  },
  {
   "cell_type": "code",
   "execution_count": 2,
   "id": "321be032",
   "metadata": {},
   "outputs": [
    {
     "data": {
      "text/plain": [
       "True"
      ]
     },
     "execution_count": 2,
     "metadata": {},
     "output_type": "execute_result"
    }
   ],
   "source": [
    "\"mike\"==\"mike\""
   ]
  },
  {
   "cell_type": "code",
   "execution_count": 3,
   "id": "6af38546",
   "metadata": {},
   "outputs": [
    {
     "data": {
      "text/plain": [
       "False"
      ]
     },
     "execution_count": 3,
     "metadata": {},
     "output_type": "execute_result"
    }
   ],
   "source": [
    "\"mike\"==\"Mike\""
   ]
  },
  {
   "cell_type": "code",
   "execution_count": 4,
   "id": "ae97e1fb",
   "metadata": {},
   "outputs": [
    {
     "data": {
      "text/plain": [
       "True"
      ]
     },
     "execution_count": 4,
     "metadata": {},
     "output_type": "execute_result"
    }
   ],
   "source": [
    "3 == 3"
   ]
  },
  {
   "cell_type": "markdown",
   "id": "41ef8058",
   "metadata": {},
   "source": [
    "### other comparison operators\n",
    "### greater than  >\n",
    "### less than     <\n",
    "### greater than or equal to >=\n",
    "### less than or equal to   >=\n",
    "### not equal to           !=\n",
    "### equal t0               ==\n"
   ]
  },
  {
   "cell_type": "code",
   "execution_count": 5,
   "id": "6fa9a3d8",
   "metadata": {},
   "outputs": [
    {
     "data": {
      "text/plain": [
       "False"
      ]
     },
     "execution_count": 5,
     "metadata": {},
     "output_type": "execute_result"
    }
   ],
   "source": [
    "3 >= 4"
   ]
  },
  {
   "cell_type": "markdown",
   "id": "8bdfea21",
   "metadata": {},
   "source": [
    "use the colon sign after a condition to end the statement after using a keyword\n",
    "    "
   ]
  },
  {
   "cell_type": "code",
   "execution_count": 6,
   "id": "6643184f",
   "metadata": {},
   "outputs": [
    {
     "name": "stdout",
     "output_type": "stream",
     "text": [
      "they match\n"
     ]
    }
   ],
   "source": [
    "if 3 == 3:\n",
    "    print(\"they match\")"
   ]
  },
  {
   "cell_type": "code",
   "execution_count": 33,
   "id": "8fc65119",
   "metadata": {},
   "outputs": [
    {
     "name": "stdout",
     "output_type": "stream",
     "text": [
      "they match\n",
      "i will still display\n"
     ]
    }
   ],
   "source": [
    "if 3 == 3:\n",
    "    print(\"they match\")\n",
    "print(\"i will still display\")"
   ]
  },
  {
   "cell_type": "markdown",
   "id": "c5a5145d",
   "metadata": {},
   "source": [
    "else statement will display if the condition in the if statement is not met"
   ]
  },
  {
   "cell_type": "code",
   "execution_count": 39,
   "id": "a022f8fc",
   "metadata": {},
   "outputs": [
    {
     "name": "stdout",
     "output_type": "stream",
     "text": [
      "they match\n"
     ]
    }
   ],
   "source": [
    "username=\"mike\"\n",
    "new_username=\"mike\"\n",
    "if \\\n",
    "username==new_username:\n",
    "    print(\"they match\")\n",
    "else:\n",
    "    print(\"invalid\")"
   ]
  },
  {
   "cell_type": "markdown",
   "id": "7ec71503",
   "metadata": {},
   "source": [
    "elif statement will display if the previous condition is not met\n",
    "elif statement keeps checking other conditions until it gets to else"
   ]
  },
  {
   "cell_type": "code",
   "execution_count": 9,
   "id": "5640a6e8",
   "metadata": {},
   "outputs": [
    {
     "name": "stdout",
     "output_type": "stream",
     "text": [
      "welcome, password match\n"
     ]
    }
   ],
   "source": [
    "email = \"tayo123@gmail.com\"\n",
    "email2 = \"mikegreat@gmail.com\"\n",
    "password = 1234\n",
    "password2 = 1234\n",
    "\n",
    "if email==email2:\n",
    "    print(\"welcome\")\n",
    "elif password == password2:\n",
    "    print(\"welcome, password match\")\n",
    "else:\n",
    "    print(\"go bacK\")"
   ]
  },
  {
   "cell_type": "code",
   "execution_count": 10,
   "id": "6c05dd4e",
   "metadata": {},
   "outputs": [
    {
     "name": "stdout",
     "output_type": "stream",
     "text": [
      "C\n"
     ]
    }
   ],
   "source": [
    "#check grades of students\n",
    "\n",
    "maths = 50\n",
    "\n",
    "if maths > 90:\n",
    "    print(\"A\")\n",
    "elif maths == 90:\n",
    "    print(\"B\")\n",
    "elif maths < 90:\n",
    "    print(\"C\")\n",
    "else:\n",
    "    print(\"fail\")"
   ]
  },
  {
   "cell_type": "code",
   "execution_count": 11,
   "id": "a5e2eff0",
   "metadata": {},
   "outputs": [
    {
     "name": "stdout",
     "output_type": "stream",
     "text": [
      "D\n"
     ]
    }
   ],
   "source": [
    "#checking grades 2- and keyword\n",
    "\n",
    "english = 40\n",
    "\n",
    "if english >=70 and english <=100:\n",
    "    print(\"A\")\n",
    "elif english >=60 and english <70:\n",
    "    print(\"B\")\n",
    "elif english >=50 and english <50:\n",
    "    print(\"c\")\n",
    "elif english >=30 and english <=40:\n",
    "    print(\"D\")\n",
    "else:\n",
    "    print(\"fail\")\n",
    "    "
   ]
  },
  {
   "cell_type": "code",
   "execution_count": 12,
   "id": "9d1e4bf2",
   "metadata": {},
   "outputs": [
    {
     "name": "stdout",
     "output_type": "stream",
     "text": [
      "enter your score70\n",
      "A\n"
     ]
    }
   ],
   "source": [
    "#using input functions\n",
    "#input function is used to accept data from server\n",
    "\n",
    "english = int(input(\"enter your score\"))\n",
    "\n",
    "if english >=70 and english <=100:\n",
    "    print(\"A\")\n",
    "elif english >=60 and english <70:\n",
    "    print(\"B\")\n",
    "elif english >=50 and english <50:\n",
    "    print(\"c\")\n",
    "elif english >=30 and english <=40:\n",
    "    print(\"D\")\n",
    "else:\n",
    "    print(\"fail\")\n",
    "    "
   ]
  },
  {
   "cell_type": "markdown",
   "id": "0a2e87d1",
   "metadata": {},
   "source": [
    "# python functions"
   ]
  },
  {
   "cell_type": "markdown",
   "id": "200b0abe",
   "metadata": {},
   "source": [
    "#user defined function\n",
    "#user defined function is used when a user wants to define his/her own function\n",
    "#functions are created to make our coding simple and effective\n",
    "#we use the def function to create a userdefined function\n",
    "#functions may have parameters or they may not have\n"
   ]
  },
  {
   "cell_type": "code",
   "execution_count": 15,
   "id": "feca89ca",
   "metadata": {},
   "outputs": [
    {
     "name": "stdout",
     "output_type": "stream",
     "text": [
      "daniel\n",
      "gloria\n"
     ]
    }
   ],
   "source": [
    "def staff():\n",
    "    print(\"daniel\")\n",
    "    print(\"gloria\")\n",
    "staff()"
   ]
  },
  {
   "cell_type": "code",
   "execution_count": 19,
   "id": "50b3974c",
   "metadata": {},
   "outputs": [
    {
     "name": "stdout",
     "output_type": "stream",
     "text": [
      "moni loves football\n",
      "david loves football\n"
     ]
    }
   ],
   "source": [
    "#parameters and arguments\n",
    "\n",
    "#parameters and arguments are stored in the paranthesis,\n",
    "#when a function is created you can add a parameter\n",
    "\n",
    "def games(fun=\"football\"):\n",
    "    print(\"moni loves\",fun)\n",
    "    print(\"david loves\", fun)\n",
    "games()"
   ]
  },
  {
   "cell_type": "code",
   "execution_count": 26,
   "id": "a30bb0ca",
   "metadata": {},
   "outputs": [
    {
     "name": "stdout",
     "output_type": "stream",
     "text": [
      "david loves football\n",
      "lynda loves football\n"
     ]
    }
   ],
   "source": [
    "def games(y):\n",
    "    print(\"david loves\", y)\n",
    "    print(\"lynda loves\",y)\n",
    "games(\"football\")"
   ]
  },
  {
   "cell_type": "code",
   "execution_count": 27,
   "id": "00cfcdfa",
   "metadata": {},
   "outputs": [
    {
     "data": {
      "text/plain": [
       "1000"
      ]
     },
     "execution_count": 27,
     "metadata": {},
     "output_type": "execute_result"
    }
   ],
   "source": [
    "#return keyword is used to return a value\n",
    "\n",
    "def num():\n",
    "    return 1000\n",
    "num()"
   ]
  },
  {
   "cell_type": "code",
   "execution_count": 28,
   "id": "032fc763",
   "metadata": {},
   "outputs": [
    {
     "name": "stdout",
     "output_type": "stream",
     "text": [
      "1000\n"
     ]
    }
   ],
   "source": [
    "def goal():\n",
    "    print(1000)\n",
    "goal()"
   ]
  },
  {
   "cell_type": "code",
   "execution_count": 29,
   "id": "98ca2282",
   "metadata": {},
   "outputs": [
    {
     "data": {
      "text/plain": [
       "['dave', 'gloria']"
      ]
     },
     "execution_count": 29,
     "metadata": {},
     "output_type": "execute_result"
    }
   ],
   "source": [
    "def kids():\n",
    "    return [\"dave\",\"gloria\"]\n",
    "kids()"
   ]
  },
  {
   "cell_type": "code",
   "execution_count": 31,
   "id": "2a7444df",
   "metadata": {},
   "outputs": [
    {
     "data": {
      "text/plain": [
       "4"
      ]
     },
     "execution_count": 31,
     "metadata": {},
     "output_type": "execute_result"
    }
   ],
   "source": [
    "def numbers(r=4):\n",
    "    return r\n",
    "numbers()\n"
   ]
  },
  {
   "cell_type": "code",
   "execution_count": 32,
   "id": "9fc2fb04",
   "metadata": {},
   "outputs": [
    {
     "name": "stdout",
     "output_type": "stream",
     "text": [
      "15\n",
      "30\n",
      "40\n"
     ]
    }
   ],
   "source": [
    "def numbers(t):\n",
    "    return t*5\n",
    "print(numbers(3))\n",
    "print(numbers(6))\n",
    "print(numbers(8))\n"
   ]
  },
  {
   "cell_type": "code",
   "execution_count": null,
   "id": "925151b9",
   "metadata": {},
   "outputs": [],
   "source": []
  }
 ],
 "metadata": {
  "kernelspec": {
   "display_name": "Python 3",
   "language": "python",
   "name": "python3"
  },
  "language_info": {
   "codemirror_mode": {
    "name": "ipython",
    "version": 3
   },
   "file_extension": ".py",
   "mimetype": "text/x-python",
   "name": "python",
   "nbconvert_exporter": "python",
   "pygments_lexer": "ipython3",
   "version": "3.8.8"
  }
 },
 "nbformat": 4,
 "nbformat_minor": 5
}
